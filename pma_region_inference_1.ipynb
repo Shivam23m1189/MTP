{
 "cells": [
  {
   "cell_type": "code",
   "execution_count": 1,
   "id": "84eb2c30-dcae-408e-bf8c-ff7c518d0123",
   "metadata": {},
   "outputs": [
    {
     "name": "stdout",
     "output_type": "stream",
     "text": [
      "No checkpoint provided!\n",
      "2025-09-08 14:35:16,601 [INFO] - Loading model: /home/shivam/nuc_seg/CellViT-plus-plus-main/checkpoints/CellViT-Virchow-x40-AMP-001.pth\n",
      "No checkpoint provided!\n",
      "2025-09-08 14:35:22,333 [INFO] - <All keys matched successfully>\n",
      "2025-09-08 14:35:22,849 [INFO] - Based on the hardware we limit the batch size to a maximum of:\n",
      "2025-09-08 14:35:22,851 [INFO] - 8\n",
      "2025-09-08 14:35:22,852 [INFO] - Loading inference transformations\n"
     ]
    },
    {
     "name": "stderr",
     "output_type": "stream",
     "text": [
      "2025-09-08 14:35:28,033\tINFO worker.py:1724 -- Started a local Ray instance.\n"
     ]
    },
    {
     "name": "stdout",
     "output_type": "stream",
     "text": [
      "2025-09-08 14:35:32,303 [INFO] - Using 4 ray-workers\n",
      "Found 15 region folders\n"
     ]
    },
    {
     "name": "stderr",
     "output_type": "stream",
     "text": [
      "Processing folders:   0%|                                | 0/15 [00:00<?, ?it/s]"
     ]
    },
    {
     "name": "stdout",
     "output_type": "stream",
     "text": [
      "Processing 10 images in TCGA-25-1312-01Z-00-DX1.733EC7A7-0FC8-4DDC-B366-DF5A45D6BB4E_10_regions\n"
     ]
    },
    {
     "name": "stderr",
     "output_type": "stream",
     "text": [
      "\n",
      "Processing TCGA-25-1312-01Z-00-DX1.733EC7A7-0FC8-4DDC-B366-DF5A45D6BB4E_10_regio"
     ]
    },
    {
     "name": "stdout",
     "output_type": "stream",
     "text": [
      "Processing region: TCGA-25-1312-01Z-00-DX1.733EC7A7-0FC8-4DDC-B366-DF5A45D6BB4E_x133287_y25244\n"
     ]
    },
    {
     "name": "stderr",
     "output_type": "stream",
     "text": [
      "\n",
      "\n",
      "Processing TCGA-25-1312-01Z-00-DX1.733EC7A7-0FC8-4DDC-B366-DF5A45D6BB4E_x133287_\n",
      "\n",
      "Processing TCGA-25-1312-01Z-00-DX1.733EC7A7-0FC8-4DDC-B366-DF5A45D6BB4E_x133287_\n"
     ]
    },
    {
     "name": "stdout",
     "output_type": "stream",
     "text": [
      "2025-09-08 14:35:38,804 [INFO] - Initializing Cell-Postprocessor\n",
      "2025-09-08 14:35:38,823 [INFO] - Finding edge-cells for merging\n",
      "2025-09-08 14:35:38,848 [INFO] - Removal of cells detected multiple times\n",
      "2025-09-08 14:35:38,870 [INFO] - Iteration 0: Found overlap of # cells: 0\n",
      "2025-09-08 14:35:38,872 [INFO] - Found all overlapping cells\n"
     ]
    },
    {
     "name": "stderr",
     "output_type": "stream",
     "text": [
      "\n",
      "Processing TCGA-25-1312-01Z-00-DX1.733EC7A7-0FC8-4DDC-B366-DF5A45D6BB4E_10_regio"
     ]
    },
    {
     "name": "stdout",
     "output_type": "stream",
     "text": [
      "Processing region: TCGA-25-1312-01Z-00-DX1.733EC7A7-0FC8-4DDC-B366-DF5A45D6BB4E_x121170_y60586\n"
     ]
    },
    {
     "name": "stderr",
     "output_type": "stream",
     "text": [
      "\n",
      "\n",
      "Processing TCGA-25-1312-01Z-00-DX1.733EC7A7-0FC8-4DDC-B366-DF5A45D6BB4E_x121170_\n",
      "\n",
      "Processing TCGA-25-1312-01Z-00-DX1.733EC7A7-0FC8-4DDC-B366-DF5A45D6BB4E_x121170_\n"
     ]
    },
    {
     "name": "stdout",
     "output_type": "stream",
     "text": [
      "2025-09-08 14:35:45,173 [INFO] - Initializing Cell-Postprocessor\n",
      "2025-09-08 14:35:45,181 [INFO] - Finding edge-cells for merging\n",
      "2025-09-08 14:35:45,200 [INFO] - Removal of cells detected multiple times\n",
      "2025-09-08 14:35:45,223 [INFO] - Iteration 0: Found overlap of # cells: 0\n",
      "2025-09-08 14:35:45,224 [INFO] - Found all overlapping cells\n"
     ]
    },
    {
     "name": "stderr",
     "output_type": "stream",
     "text": [
      "\n",
      "Processing TCGA-25-1312-01Z-00-DX1.733EC7A7-0FC8-4DDC-B366-DF5A45D6BB4E_10_regio"
     ]
    },
    {
     "name": "stdout",
     "output_type": "stream",
     "text": [
      "Processing region: TCGA-25-1312-01Z-00-DX1.733EC7A7-0FC8-4DDC-B366-DF5A45D6BB4E_x119151_y44430\n"
     ]
    },
    {
     "name": "stderr",
     "output_type": "stream",
     "text": [
      "\n",
      "\n",
      "Processing TCGA-25-1312-01Z-00-DX1.733EC7A7-0FC8-4DDC-B366-DF5A45D6BB4E_x119151_\n",
      "\n",
      "Processing TCGA-25-1312-01Z-00-DX1.733EC7A7-0FC8-4DDC-B366-DF5A45D6BB4E_x119151_\n"
     ]
    },
    {
     "name": "stdout",
     "output_type": "stream",
     "text": [
      "2025-09-08 14:35:51,399 [INFO] - Initializing Cell-Postprocessor\n",
      "2025-09-08 14:35:51,406 [INFO] - Finding edge-cells for merging\n",
      "2025-09-08 14:35:51,419 [INFO] - Removal of cells detected multiple times\n",
      "2025-09-08 14:35:51,428 [INFO] - Iteration 0: Found overlap of # cells: 0\n",
      "2025-09-08 14:35:51,430 [INFO] - Found all overlapping cells\n"
     ]
    },
    {
     "name": "stderr",
     "output_type": "stream",
     "text": [
      "\n",
      "Processing TCGA-25-1312-01Z-00-DX1.733EC7A7-0FC8-4DDC-B366-DF5A45D6BB4E_10_regio"
     ]
    },
    {
     "name": "stdout",
     "output_type": "stream",
     "text": [
      "Processing region: TCGA-25-1312-01Z-00-DX1.733EC7A7-0FC8-4DDC-B366-DF5A45D6BB4E_x96936_y14136\n"
     ]
    },
    {
     "name": "stderr",
     "output_type": "stream",
     "text": [
      "\n",
      "\n",
      "Processing TCGA-25-1312-01Z-00-DX1.733EC7A7-0FC8-4DDC-B366-DF5A45D6BB4E_x96936_y\n",
      "\n",
      "Processing TCGA-25-1312-01Z-00-DX1.733EC7A7-0FC8-4DDC-B366-DF5A45D6BB4E_x96936_y\n"
     ]
    },
    {
     "name": "stdout",
     "output_type": "stream",
     "text": [
      "2025-09-08 14:35:57,675 [INFO] - Initializing Cell-Postprocessor\n",
      "2025-09-08 14:35:57,682 [INFO] - Finding edge-cells for merging\n",
      "2025-09-08 14:35:57,699 [INFO] - Removal of cells detected multiple times\n",
      "2025-09-08 14:35:57,717 [INFO] - Iteration 0: Found overlap of # cells: 0\n",
      "2025-09-08 14:35:57,718 [INFO] - Found all overlapping cells\n"
     ]
    },
    {
     "name": "stderr",
     "output_type": "stream",
     "text": [
      "\n",
      "Processing TCGA-25-1312-01Z-00-DX1.733EC7A7-0FC8-4DDC-B366-DF5A45D6BB4E_10_regio"
     ]
    },
    {
     "name": "stdout",
     "output_type": "stream",
     "text": [
      "Processing region: TCGA-25-1312-01Z-00-DX1.733EC7A7-0FC8-4DDC-B366-DF5A45D6BB4E_x63614_y50488\n"
     ]
    },
    {
     "name": "stderr",
     "output_type": "stream",
     "text": [
      "\n",
      "\n",
      "Processing TCGA-25-1312-01Z-00-DX1.733EC7A7-0FC8-4DDC-B366-DF5A45D6BB4E_x63614_y\n",
      "\n",
      "Processing TCGA-25-1312-01Z-00-DX1.733EC7A7-0FC8-4DDC-B366-DF5A45D6BB4E_x63614_y\n"
     ]
    },
    {
     "name": "stdout",
     "output_type": "stream",
     "text": [
      "2025-09-08 14:36:04,116 [INFO] - Initializing Cell-Postprocessor\n",
      "2025-09-08 14:36:04,123 [INFO] - Finding edge-cells for merging\n",
      "2025-09-08 14:36:04,139 [INFO] - Removal of cells detected multiple times\n",
      "2025-09-08 14:36:04,157 [INFO] - Iteration 0: Found overlap of # cells: 0\n",
      "2025-09-08 14:36:04,158 [INFO] - Found all overlapping cells\n"
     ]
    },
    {
     "name": "stderr",
     "output_type": "stream",
     "text": [
      "\n",
      "Processing TCGA-25-1312-01Z-00-DX1.733EC7A7-0FC8-4DDC-B366-DF5A45D6BB4E_10_regio"
     ]
    },
    {
     "name": "stdout",
     "output_type": "stream",
     "text": [
      "Processing region: TCGA-25-1312-01Z-00-DX1.733EC7A7-0FC8-4DDC-B366-DF5A45D6BB4E_x63614_y20195\n"
     ]
    },
    {
     "name": "stderr",
     "output_type": "stream",
     "text": [
      "\n",
      "\n",
      "Processing TCGA-25-1312-01Z-00-DX1.733EC7A7-0FC8-4DDC-B366-DF5A45D6BB4E_x63614_y\n",
      "\n",
      "Processing TCGA-25-1312-01Z-00-DX1.733EC7A7-0FC8-4DDC-B366-DF5A45D6BB4E_x63614_y\n"
     ]
    },
    {
     "name": "stdout",
     "output_type": "stream",
     "text": [
      "2025-09-08 14:36:10,627 [INFO] - Initializing Cell-Postprocessor\n",
      "2025-09-08 14:36:10,636 [INFO] - Finding edge-cells for merging\n",
      "2025-09-08 14:36:10,660 [INFO] - Removal of cells detected multiple times\n",
      "2025-09-08 14:36:10,698 [INFO] - Iteration 0: Found overlap of # cells: 0\n",
      "2025-09-08 14:36:10,700 [INFO] - Found all overlapping cells\n"
     ]
    },
    {
     "name": "stderr",
     "output_type": "stream",
     "text": [
      "\n",
      "Processing TCGA-25-1312-01Z-00-DX1.733EC7A7-0FC8-4DDC-B366-DF5A45D6BB4E_10_regio"
     ]
    },
    {
     "name": "stdout",
     "output_type": "stream",
     "text": [
      "Processing region: TCGA-25-1312-01Z-00-DX1.733EC7A7-0FC8-4DDC-B366-DF5A45D6BB4E_x150453_y43420\n"
     ]
    },
    {
     "name": "stderr",
     "output_type": "stream",
     "text": [
      "\n",
      "\n",
      "Processing TCGA-25-1312-01Z-00-DX1.733EC7A7-0FC8-4DDC-B366-DF5A45D6BB4E_x150453_\n",
      "\n",
      "Processing TCGA-25-1312-01Z-00-DX1.733EC7A7-0FC8-4DDC-B366-DF5A45D6BB4E_x150453_\n"
     ]
    },
    {
     "name": "stdout",
     "output_type": "stream",
     "text": [
      "2025-09-08 14:36:17,183 [INFO] - Initializing Cell-Postprocessor\n",
      "2025-09-08 14:36:17,191 [INFO] - Finding edge-cells for merging\n",
      "2025-09-08 14:36:17,215 [INFO] - Removal of cells detected multiple times\n",
      "2025-09-08 14:36:17,263 [INFO] - Iteration 0: Found overlap of # cells: 0\n",
      "2025-09-08 14:36:17,265 [INFO] - Found all overlapping cells\n"
     ]
    },
    {
     "name": "stderr",
     "output_type": "stream",
     "text": [
      "\n",
      "Processing TCGA-25-1312-01Z-00-DX1.733EC7A7-0FC8-4DDC-B366-DF5A45D6BB4E_10_regio"
     ]
    },
    {
     "name": "stdout",
     "output_type": "stream",
     "text": [
      "Processing region: TCGA-25-1312-01Z-00-DX1.733EC7A7-0FC8-4DDC-B366-DF5A45D6BB4E_x36351_y31303\n"
     ]
    },
    {
     "name": "stderr",
     "output_type": "stream",
     "text": [
      "\n",
      "\n",
      "Processing TCGA-25-1312-01Z-00-DX1.733EC7A7-0FC8-4DDC-B366-DF5A45D6BB4E_x36351_y\n",
      "\n",
      "Processing TCGA-25-1312-01Z-00-DX1.733EC7A7-0FC8-4DDC-B366-DF5A45D6BB4E_x36351_y\n"
     ]
    },
    {
     "name": "stdout",
     "output_type": "stream",
     "text": [
      "2025-09-08 14:36:23,803 [INFO] - Initializing Cell-Postprocessor\n",
      "2025-09-08 14:36:23,809 [INFO] - Finding edge-cells for merging\n",
      "2025-09-08 14:36:23,829 [INFO] - Removal of cells detected multiple times\n",
      "2025-09-08 14:36:23,870 [INFO] - Iteration 0: Found overlap of # cells: 0\n",
      "2025-09-08 14:36:23,871 [INFO] - Found all overlapping cells\n"
     ]
    },
    {
     "name": "stderr",
     "output_type": "stream",
     "text": [
      "\n",
      "Processing TCGA-25-1312-01Z-00-DX1.733EC7A7-0FC8-4DDC-B366-DF5A45D6BB4E_10_regio"
     ]
    },
    {
     "name": "stdout",
     "output_type": "stream",
     "text": [
      "Processing region: TCGA-25-1312-01Z-00-DX1.733EC7A7-0FC8-4DDC-B366-DF5A45D6BB4E_x96936_y30293\n"
     ]
    },
    {
     "name": "stderr",
     "output_type": "stream",
     "text": [
      "\n",
      "\n",
      "Processing TCGA-25-1312-01Z-00-DX1.733EC7A7-0FC8-4DDC-B366-DF5A45D6BB4E_x96936_y\n",
      "\n",
      "Processing TCGA-25-1312-01Z-00-DX1.733EC7A7-0FC8-4DDC-B366-DF5A45D6BB4E_x96936_y\n"
     ]
    },
    {
     "name": "stdout",
     "output_type": "stream",
     "text": [
      "2025-09-08 14:36:30,061 [INFO] - Initializing Cell-Postprocessor\n",
      "2025-09-08 14:36:30,066 [INFO] - Finding edge-cells for merging\n",
      "2025-09-08 14:36:30,076 [INFO] - Removal of cells detected multiple times\n",
      "2025-09-08 14:36:30,084 [INFO] - Iteration 0: Found overlap of # cells: 0\n",
      "2025-09-08 14:36:30,085 [INFO] - Found all overlapping cells\n"
     ]
    },
    {
     "name": "stderr",
     "output_type": "stream",
     "text": [
      "\n",
      "Processing TCGA-25-1312-01Z-00-DX1.733EC7A7-0FC8-4DDC-B366-DF5A45D6BB4E_10_regio"
     ]
    },
    {
     "name": "stdout",
     "output_type": "stream",
     "text": [
      "Processing region: TCGA-25-1312-01Z-00-DX1.733EC7A7-0FC8-4DDC-B366-DF5A45D6BB4E_x86838_y20195\n"
     ]
    },
    {
     "name": "stderr",
     "output_type": "stream",
     "text": [
      "\n",
      "\n",
      "Processing TCGA-25-1312-01Z-00-DX1.733EC7A7-0FC8-4DDC-B366-DF5A45D6BB4E_x86838_y\n",
      "\n",
      "Processing TCGA-25-1312-01Z-00-DX1.733EC7A7-0FC8-4DDC-B366-DF5A45D6BB4E_x86838_y\n"
     ]
    },
    {
     "name": "stdout",
     "output_type": "stream",
     "text": [
      "2025-09-08 14:36:36,191 [INFO] - Initializing Cell-Postprocessor\n",
      "2025-09-08 14:36:36,198 [INFO] - Finding edge-cells for merging\n",
      "2025-09-08 14:36:36,217 [INFO] - Removal of cells detected multiple times\n",
      "2025-09-08 14:36:36,238 [INFO] - Iteration 0: Found overlap of # cells: 0\n",
      "2025-09-08 14:36:36,239 [INFO] - Found all overlapping cells\n"
     ]
    },
    {
     "name": "stderr",
     "output_type": "stream",
     "text": [
      "\n",
      "Processing TCGA-25-1312-01Z-00-DX1.733EC7A7-0FC8-4DDC-B366-DF5A45D6BB4E_10_regio\n",
      "Processing folders:   7%|█▌                      | 1/15 [01:03<14:55, 63.97s/it]"
     ]
    },
    {
     "name": "stdout",
     "output_type": "stream",
     "text": [
      "Processing 10 images in TCGA-GS-A9TZ-01Z-00-DX1.75FFC0BE-5C16-4AFC-BC7D-42D047636DBC_10_regions\n"
     ]
    },
    {
     "name": "stderr",
     "output_type": "stream",
     "text": [
      "\n",
      "Processing TCGA-GS-A9TZ-01Z-00-DX1.75FFC0BE-5C16-4AFC-BC7D-42D047636DBC_10_regio"
     ]
    },
    {
     "name": "stdout",
     "output_type": "stream",
     "text": [
      "Processing region: TCGA-GS-A9TZ-01Z-00-DX1.75FFC0BE-5C16-4AFC-BC7D-42D047636DBC_x25422_y61017\n"
     ]
    },
    {
     "name": "stderr",
     "output_type": "stream",
     "text": [
      "\n",
      "\n",
      "Processing TCGA-GS-A9TZ-01Z-00-DX1.75FFC0BE-5C16-4AFC-BC7D-42D047636DBC_x25422_y\n",
      "\n",
      "Processing TCGA-GS-A9TZ-01Z-00-DX1.75FFC0BE-5C16-4AFC-BC7D-42D047636DBC_x25422_y\n"
     ]
    },
    {
     "name": "stdout",
     "output_type": "stream",
     "text": [
      "2025-09-08 14:36:43,028 [INFO] - Initializing Cell-Postprocessor\n",
      "2025-09-08 14:36:43,037 [INFO] - Finding edge-cells for merging\n",
      "2025-09-08 14:36:43,084 [INFO] - Removal of cells detected multiple times\n",
      "2025-09-08 14:36:43,155 [INFO] - Iteration 0: Found overlap of # cells: 0\n",
      "2025-09-08 14:36:43,156 [INFO] - Found all overlapping cells\n"
     ]
    },
    {
     "name": "stderr",
     "output_type": "stream",
     "text": [
      "\n",
      "Processing TCGA-GS-A9TZ-01Z-00-DX1.75FFC0BE-5C16-4AFC-BC7D-42D047636DBC_10_regio"
     ]
    },
    {
     "name": "stdout",
     "output_type": "stream",
     "text": [
      "Processing region: TCGA-GS-A9TZ-01Z-00-DX1.75FFC0BE-5C16-4AFC-BC7D-42D047636DBC_x51862_y66102\n"
     ]
    },
    {
     "name": "stderr",
     "output_type": "stream",
     "text": [
      "\n",
      "\n",
      "Processing TCGA-GS-A9TZ-01Z-00-DX1.75FFC0BE-5C16-4AFC-BC7D-42D047636DBC_x51862_y\n",
      "\n",
      "Processing TCGA-GS-A9TZ-01Z-00-DX1.75FFC0BE-5C16-4AFC-BC7D-42D047636DBC_x51862_y\n"
     ]
    },
    {
     "name": "stdout",
     "output_type": "stream",
     "text": [
      "2025-09-08 14:36:50,036 [INFO] - Initializing Cell-Postprocessor\n",
      "2025-09-08 14:36:50,042 [INFO] - Finding edge-cells for merging\n",
      "2025-09-08 14:36:50,060 [INFO] - Removal of cells detected multiple times\n",
      "2025-09-08 14:36:50,093 [INFO] - Iteration 0: Found overlap of # cells: 0\n",
      "2025-09-08 14:36:50,094 [INFO] - Found all overlapping cells\n"
     ]
    },
    {
     "name": "stderr",
     "output_type": "stream",
     "text": [
      "\n",
      "Processing TCGA-GS-A9TZ-01Z-00-DX1.75FFC0BE-5C16-4AFC-BC7D-42D047636DBC_10_regio"
     ]
    },
    {
     "name": "stdout",
     "output_type": "stream",
     "text": [
      "Processing region: TCGA-GS-A9TZ-01Z-00-DX1.75FFC0BE-5C16-4AFC-BC7D-42D047636DBC_x19321_y70170\n"
     ]
    },
    {
     "name": "stderr",
     "output_type": "stream",
     "text": [
      "\n",
      "\n",
      "Processing TCGA-GS-A9TZ-01Z-00-DX1.75FFC0BE-5C16-4AFC-BC7D-42D047636DBC_x19321_y\n",
      "\n",
      "Processing TCGA-GS-A9TZ-01Z-00-DX1.75FFC0BE-5C16-4AFC-BC7D-42D047636DBC_x19321_y\n"
     ]
    },
    {
     "name": "stdout",
     "output_type": "stream",
     "text": [
      "2025-09-08 14:36:57,098 [INFO] - Initializing Cell-Postprocessor\n",
      "2025-09-08 14:36:57,105 [INFO] - Finding edge-cells for merging\n",
      "2025-09-08 14:36:57,130 [INFO] - Removal of cells detected multiple times\n",
      "2025-09-08 14:36:57,211 [INFO] - Iteration 0: Found overlap of # cells: 0\n",
      "2025-09-08 14:36:57,212 [INFO] - Found all overlapping cells\n"
     ]
    },
    {
     "name": "stderr",
     "output_type": "stream",
     "text": [
      "\n",
      "Processing TCGA-GS-A9TZ-01Z-00-DX1.75FFC0BE-5C16-4AFC-BC7D-42D047636DBC_10_regio"
     ]
    },
    {
     "name": "stdout",
     "output_type": "stream",
     "text": [
      "Processing region: TCGA-GS-A9TZ-01Z-00-DX1.75FFC0BE-5C16-4AFC-BC7D-42D047636DBC_x59997_y48814\n"
     ]
    },
    {
     "name": "stderr",
     "output_type": "stream",
     "text": [
      "\n",
      "\n",
      "Processing TCGA-GS-A9TZ-01Z-00-DX1.75FFC0BE-5C16-4AFC-BC7D-42D047636DBC_x59997_y\n",
      "\n",
      "Processing TCGA-GS-A9TZ-01Z-00-DX1.75FFC0BE-5C16-4AFC-BC7D-42D047636DBC_x59997_y\n"
     ]
    },
    {
     "name": "stdout",
     "output_type": "stream",
     "text": [
      "2025-09-08 14:37:03,922 [INFO] - Initializing Cell-Postprocessor\n",
      "2025-09-08 14:37:03,928 [INFO] - Finding edge-cells for merging\n",
      "2025-09-08 14:37:03,944 [INFO] - Removal of cells detected multiple times\n",
      "2025-09-08 14:37:03,998 [INFO] - Iteration 0: Found overlap of # cells: 0\n",
      "2025-09-08 14:37:03,999 [INFO] - Found all overlapping cells\n"
     ]
    },
    {
     "name": "stderr",
     "output_type": "stream",
     "text": [
      "\n",
      "Processing TCGA-GS-A9TZ-01Z-00-DX1.75FFC0BE-5C16-4AFC-BC7D-42D047636DBC_10_regio"
     ]
    },
    {
     "name": "stdout",
     "output_type": "stream",
     "text": [
      "Processing region: TCGA-GS-A9TZ-01Z-00-DX1.75FFC0BE-5C16-4AFC-BC7D-42D047636DBC_x50845_y54915\n"
     ]
    },
    {
     "name": "stderr",
     "output_type": "stream",
     "text": [
      "\n",
      "\n",
      "Processing TCGA-GS-A9TZ-01Z-00-DX1.75FFC0BE-5C16-4AFC-BC7D-42D047636DBC_x50845_y\n",
      "\n",
      "Processing TCGA-GS-A9TZ-01Z-00-DX1.75FFC0BE-5C16-4AFC-BC7D-42D047636DBC_x50845_y\n"
     ]
    },
    {
     "name": "stdout",
     "output_type": "stream",
     "text": [
      "2025-09-08 14:37:10,615 [INFO] - Initializing Cell-Postprocessor\n",
      "2025-09-08 14:37:10,621 [INFO] - Finding edge-cells for merging\n",
      "2025-09-08 14:37:10,641 [INFO] - Removal of cells detected multiple times\n",
      "2025-09-08 14:37:10,686 [INFO] - Iteration 0: Found overlap of # cells: 0\n",
      "2025-09-08 14:37:10,687 [INFO] - Found all overlapping cells\n"
     ]
    },
    {
     "name": "stderr",
     "output_type": "stream",
     "text": [
      "\n",
      "Processing TCGA-GS-A9TZ-01Z-00-DX1.75FFC0BE-5C16-4AFC-BC7D-42D047636DBC_10_regio"
     ]
    },
    {
     "name": "stdout",
     "output_type": "stream",
     "text": [
      "Processing region: TCGA-GS-A9TZ-01Z-00-DX1.75FFC0BE-5C16-4AFC-BC7D-42D047636DBC_x39659_y71187\n"
     ]
    },
    {
     "name": "stderr",
     "output_type": "stream",
     "text": [
      "\n",
      "\n",
      "Processing TCGA-GS-A9TZ-01Z-00-DX1.75FFC0BE-5C16-4AFC-BC7D-42D047636DBC_x39659_y\n",
      "\n",
      "Processing TCGA-GS-A9TZ-01Z-00-DX1.75FFC0BE-5C16-4AFC-BC7D-42D047636DBC_x39659_y\n"
     ]
    },
    {
     "name": "stdout",
     "output_type": "stream",
     "text": [
      "2025-09-08 14:37:17,522 [INFO] - Initializing Cell-Postprocessor\n",
      "2025-09-08 14:37:17,528 [INFO] - Finding edge-cells for merging\n",
      "2025-09-08 14:37:17,546 [INFO] - Removal of cells detected multiple times\n",
      "2025-09-08 14:37:17,580 [INFO] - Iteration 0: Found overlap of # cells: 0\n",
      "2025-09-08 14:37:17,581 [INFO] - Found all overlapping cells\n"
     ]
    },
    {
     "name": "stderr",
     "output_type": "stream",
     "text": [
      "\n",
      "Processing TCGA-GS-A9TZ-01Z-00-DX1.75FFC0BE-5C16-4AFC-BC7D-42D047636DBC_10_regio"
     ]
    },
    {
     "name": "stdout",
     "output_type": "stream",
     "text": [
      "Processing region: TCGA-GS-A9TZ-01Z-00-DX1.75FFC0BE-5C16-4AFC-BC7D-42D047636DBC_x30507_y68136\n"
     ]
    },
    {
     "name": "stderr",
     "output_type": "stream",
     "text": [
      "\n",
      "\n",
      "Processing TCGA-GS-A9TZ-01Z-00-DX1.75FFC0BE-5C16-4AFC-BC7D-42D047636DBC_x30507_y\n",
      "\n",
      "Processing TCGA-GS-A9TZ-01Z-00-DX1.75FFC0BE-5C16-4AFC-BC7D-42D047636DBC_x30507_y\n"
     ]
    },
    {
     "name": "stdout",
     "output_type": "stream",
     "text": [
      "2025-09-08 14:37:24,290 [INFO] - Initializing Cell-Postprocessor\n",
      "2025-09-08 14:37:24,296 [INFO] - Finding edge-cells for merging\n",
      "2025-09-08 14:37:24,313 [INFO] - Removal of cells detected multiple times\n",
      "2025-09-08 14:37:24,356 [INFO] - Iteration 0: Found overlap of # cells: 0\n",
      "2025-09-08 14:37:24,357 [INFO] - Found all overlapping cells\n"
     ]
    },
    {
     "name": "stderr",
     "output_type": "stream",
     "text": [
      "\n",
      "Processing TCGA-GS-A9TZ-01Z-00-DX1.75FFC0BE-5C16-4AFC-BC7D-42D047636DBC_10_regio"
     ]
    },
    {
     "name": "stdout",
     "output_type": "stream",
     "text": [
      "Processing region: TCGA-GS-A9TZ-01Z-00-DX1.75FFC0BE-5C16-4AFC-BC7D-42D047636DBC_x35591_y78305\n"
     ]
    },
    {
     "name": "stderr",
     "output_type": "stream",
     "text": [
      "\n",
      "\n",
      "Processing TCGA-GS-A9TZ-01Z-00-DX1.75FFC0BE-5C16-4AFC-BC7D-42D047636DBC_x35591_y\n",
      "\n",
      "Processing TCGA-GS-A9TZ-01Z-00-DX1.75FFC0BE-5C16-4AFC-BC7D-42D047636DBC_x35591_y\n"
     ]
    },
    {
     "name": "stdout",
     "output_type": "stream",
     "text": [
      "2025-09-08 14:37:31,106 [INFO] - Initializing Cell-Postprocessor\n",
      "2025-09-08 14:37:31,111 [INFO] - Finding edge-cells for merging\n",
      "2025-09-08 14:37:31,135 [INFO] - Removal of cells detected multiple times\n",
      "2025-09-08 14:37:31,182 [INFO] - Iteration 0: Found overlap of # cells: 0\n",
      "2025-09-08 14:37:31,182 [INFO] - Found all overlapping cells\n"
     ]
    },
    {
     "name": "stderr",
     "output_type": "stream",
     "text": [
      "\n",
      "Processing TCGA-GS-A9TZ-01Z-00-DX1.75FFC0BE-5C16-4AFC-BC7D-42D047636DBC_10_regio"
     ]
    },
    {
     "name": "stdout",
     "output_type": "stream",
     "text": [
      "Processing region: TCGA-GS-A9TZ-01Z-00-DX1.75FFC0BE-5C16-4AFC-BC7D-42D047636DBC_x44744_y14237\n"
     ]
    },
    {
     "name": "stderr",
     "output_type": "stream",
     "text": [
      "\n",
      "\n",
      "Processing TCGA-GS-A9TZ-01Z-00-DX1.75FFC0BE-5C16-4AFC-BC7D-42D047636DBC_x44744_y\n",
      "\n",
      "Processing TCGA-GS-A9TZ-01Z-00-DX1.75FFC0BE-5C16-4AFC-BC7D-42D047636DBC_x44744_y\n"
     ]
    },
    {
     "name": "stdout",
     "output_type": "stream",
     "text": [
      "2025-09-08 14:37:37,780 [INFO] - Initializing Cell-Postprocessor\n",
      "2025-09-08 14:37:37,785 [INFO] - Finding edge-cells for merging\n",
      "2025-09-08 14:37:37,803 [INFO] - Removal of cells detected multiple times\n",
      "2025-09-08 14:37:37,836 [INFO] - Iteration 0: Found overlap of # cells: 0\n",
      "2025-09-08 14:37:37,836 [INFO] - Found all overlapping cells\n"
     ]
    },
    {
     "name": "stderr",
     "output_type": "stream",
     "text": [
      "\n",
      "Processing TCGA-GS-A9TZ-01Z-00-DX1.75FFC0BE-5C16-4AFC-BC7D-42D047636DBC_10_regio"
     ]
    },
    {
     "name": "stdout",
     "output_type": "stream",
     "text": [
      "Processing region: TCGA-GS-A9TZ-01Z-00-DX1.75FFC0BE-5C16-4AFC-BC7D-42D047636DBC_x22372_y54915\n"
     ]
    },
    {
     "name": "stderr",
     "output_type": "stream",
     "text": [
      "\n",
      "\n",
      "Processing TCGA-GS-A9TZ-01Z-00-DX1.75FFC0BE-5C16-4AFC-BC7D-42D047636DBC_x22372_y\n",
      "\n",
      "Processing TCGA-GS-A9TZ-01Z-00-DX1.75FFC0BE-5C16-4AFC-BC7D-42D047636DBC_x22372_y\n"
     ]
    },
    {
     "name": "stdout",
     "output_type": "stream",
     "text": [
      "2025-09-08 14:37:44,730 [INFO] - Initializing Cell-Postprocessor\n",
      "2025-09-08 14:37:44,736 [INFO] - Finding edge-cells for merging\n",
      "2025-09-08 14:37:44,759 [INFO] - Removal of cells detected multiple times\n",
      "2025-09-08 14:37:44,817 [INFO] - Iteration 0: Found overlap of # cells: 0\n",
      "2025-09-08 14:37:44,818 [INFO] - Found all overlapping cells\n"
     ]
    },
    {
     "name": "stderr",
     "output_type": "stream",
     "text": [
      "\n",
      "Processing TCGA-GS-A9TZ-01Z-00-DX1.75FFC0BE-5C16-4AFC-BC7D-42D047636DBC_10_regio\n",
      "Processing folders:  13%|███▏                    | 2/15 [02:12<14:26, 66.68s/it]"
     ]
    },
    {
     "name": "stdout",
     "output_type": "stream",
     "text": [
      "Processing 10 images in TCGA-YR-A95A-01Z-00-DX1.7197CB70-9FF4-4C82-9FF4-548F1969E40E_10_regions\n"
     ]
    },
    {
     "name": "stderr",
     "output_type": "stream",
     "text": [
      "\n",
      "Processing TCGA-YR-A95A-01Z-00-DX1.7197CB70-9FF4-4C82-9FF4-548F1969E40E_10_regio"
     ]
    },
    {
     "name": "stdout",
     "output_type": "stream",
     "text": [
      "Processing region: TCGA-YR-A95A-01Z-00-DX1.7197CB70-9FF4-4C82-9FF4-548F1969E40E_x52600_y70810\n"
     ]
    },
    {
     "name": "stderr",
     "output_type": "stream",
     "text": [
      "\n",
      "\n",
      "Processing TCGA-YR-A95A-01Z-00-DX1.7197CB70-9FF4-4C82-9FF4-548F1969E40E_x52600_y\n",
      "\n",
      "Processing TCGA-YR-A95A-01Z-00-DX1.7197CB70-9FF4-4C82-9FF4-548F1969E40E_x52600_y\n"
     ]
    },
    {
     "name": "stdout",
     "output_type": "stream",
     "text": [
      "2025-09-08 14:37:51,427 [INFO] - Initializing Cell-Postprocessor\n",
      "2025-09-08 14:37:51,434 [INFO] - Finding edge-cells for merging\n",
      "2025-09-08 14:37:51,469 [INFO] - Removal of cells detected multiple times\n",
      "2025-09-08 14:37:51,761 [INFO] - Iteration 0: Found overlap of # cells: 0\n",
      "2025-09-08 14:37:51,762 [INFO] - Found all overlapping cells\n"
     ]
    },
    {
     "name": "stderr",
     "output_type": "stream",
     "text": [
      "\n",
      "Processing TCGA-YR-A95A-01Z-00-DX1.7197CB70-9FF4-4C82-9FF4-548F1969E40E_10_regio"
     ]
    },
    {
     "name": "stdout",
     "output_type": "stream",
     "text": [
      "Processing region: TCGA-YR-A95A-01Z-00-DX1.7197CB70-9FF4-4C82-9FF4-548F1969E40E_x53612_y43498\n"
     ]
    },
    {
     "name": "stderr",
     "output_type": "stream",
     "text": [
      "\n",
      "\n",
      "Processing TCGA-YR-A95A-01Z-00-DX1.7197CB70-9FF4-4C82-9FF4-548F1969E40E_x53612_y\n",
      "\n",
      "Processing TCGA-YR-A95A-01Z-00-DX1.7197CB70-9FF4-4C82-9FF4-548F1969E40E_x53612_y\n"
     ]
    },
    {
     "name": "stdout",
     "output_type": "stream",
     "text": [
      "2025-09-08 14:37:58,390 [INFO] - Initializing Cell-Postprocessor\n",
      "2025-09-08 14:37:58,395 [INFO] - Finding edge-cells for merging\n",
      "2025-09-08 14:37:58,425 [INFO] - Removal of cells detected multiple times\n",
      "2025-09-08 14:37:58,488 [INFO] - Iteration 0: Found overlap of # cells: 0\n",
      "2025-09-08 14:37:58,489 [INFO] - Found all overlapping cells\n"
     ]
    },
    {
     "name": "stderr",
     "output_type": "stream",
     "text": [
      "\n",
      "Processing TCGA-YR-A95A-01Z-00-DX1.7197CB70-9FF4-4C82-9FF4-548F1969E40E_10_regio"
     ]
    },
    {
     "name": "stdout",
     "output_type": "stream",
     "text": [
      "Processing region: TCGA-YR-A95A-01Z-00-DX1.7197CB70-9FF4-4C82-9FF4-548F1969E40E_x19219_y57660\n"
     ]
    },
    {
     "name": "stderr",
     "output_type": "stream",
     "text": [
      "\n",
      "\n",
      "Processing TCGA-YR-A95A-01Z-00-DX1.7197CB70-9FF4-4C82-9FF4-548F1969E40E_x19219_y\n",
      "\n",
      "Processing TCGA-YR-A95A-01Z-00-DX1.7197CB70-9FF4-4C82-9FF4-548F1969E40E_x19219_y\n"
     ]
    },
    {
     "name": "stdout",
     "output_type": "stream",
     "text": [
      "2025-09-08 14:38:05,147 [INFO] - Initializing Cell-Postprocessor\n",
      "2025-09-08 14:38:05,152 [INFO] - Finding edge-cells for merging\n",
      "2025-09-08 14:38:05,185 [INFO] - Removal of cells detected multiple times\n",
      "2025-09-08 14:38:05,253 [INFO] - Iteration 0: Found overlap of # cells: 0\n",
      "2025-09-08 14:38:05,255 [INFO] - Found all overlapping cells\n"
     ]
    },
    {
     "name": "stderr",
     "output_type": "stream",
     "text": [
      "\n",
      "Processing TCGA-YR-A95A-01Z-00-DX1.7197CB70-9FF4-4C82-9FF4-548F1969E40E_10_regio"
     ]
    },
    {
     "name": "stdout",
     "output_type": "stream",
     "text": [
      "Processing region: TCGA-YR-A95A-01Z-00-DX1.7197CB70-9FF4-4C82-9FF4-548F1969E40E_x18207_y16185\n"
     ]
    },
    {
     "name": "stderr",
     "output_type": "stream",
     "text": [
      "\n",
      "\n",
      "Processing TCGA-YR-A95A-01Z-00-DX1.7197CB70-9FF4-4C82-9FF4-548F1969E40E_x18207_y\n",
      "\n",
      "Processing TCGA-YR-A95A-01Z-00-DX1.7197CB70-9FF4-4C82-9FF4-548F1969E40E_x18207_y\n"
     ]
    },
    {
     "name": "stdout",
     "output_type": "stream",
     "text": [
      "2025-09-08 14:38:11,834 [INFO] - Initializing Cell-Postprocessor\n",
      "2025-09-08 14:38:11,841 [INFO] - Finding edge-cells for merging\n",
      "2025-09-08 14:38:11,870 [INFO] - Removal of cells detected multiple times\n",
      "2025-09-08 14:38:11,920 [INFO] - Iteration 0: Found overlap of # cells: 0\n",
      "2025-09-08 14:38:11,922 [INFO] - Found all overlapping cells\n"
     ]
    },
    {
     "name": "stderr",
     "output_type": "stream",
     "text": [
      "\n",
      "Processing TCGA-YR-A95A-01Z-00-DX1.7197CB70-9FF4-4C82-9FF4-548F1969E40E_10_regio"
     ]
    },
    {
     "name": "stdout",
     "output_type": "stream",
     "text": [
      "Processing region: TCGA-YR-A95A-01Z-00-DX1.7197CB70-9FF4-4C82-9FF4-548F1969E40E_x10115_y11127\n"
     ]
    },
    {
     "name": "stderr",
     "output_type": "stream",
     "text": [
      "\n",
      "\n",
      "Processing TCGA-YR-A95A-01Z-00-DX1.7197CB70-9FF4-4C82-9FF4-548F1969E40E_x10115_y\n",
      "\n",
      "Processing TCGA-YR-A95A-01Z-00-DX1.7197CB70-9FF4-4C82-9FF4-548F1969E40E_x10115_y\n"
     ]
    },
    {
     "name": "stdout",
     "output_type": "stream",
     "text": [
      "2025-09-08 14:38:18,240 [INFO] - Initializing Cell-Postprocessor\n",
      "2025-09-08 14:38:18,247 [INFO] - Finding edge-cells for merging\n",
      "2025-09-08 14:38:18,272 [INFO] - Removal of cells detected multiple times\n",
      "2025-09-08 14:38:18,300 [INFO] - Iteration 0: Found overlap of # cells: 0\n",
      "2025-09-08 14:38:18,302 [INFO] - Found all overlapping cells\n"
     ]
    },
    {
     "name": "stderr",
     "output_type": "stream",
     "text": [
      "\n",
      "Processing TCGA-YR-A95A-01Z-00-DX1.7197CB70-9FF4-4C82-9FF4-548F1969E40E_10_regio"
     ]
    },
    {
     "name": "stdout",
     "output_type": "stream",
     "text": [
      "Processing region: TCGA-YR-A95A-01Z-00-DX1.7197CB70-9FF4-4C82-9FF4-548F1969E40E_x35404_y28324\n"
     ]
    },
    {
     "name": "stderr",
     "output_type": "stream",
     "text": [
      "\n",
      "\n",
      "Processing TCGA-YR-A95A-01Z-00-DX1.7197CB70-9FF4-4C82-9FF4-548F1969E40E_x35404_y\n",
      "\n",
      "Processing TCGA-YR-A95A-01Z-00-DX1.7197CB70-9FF4-4C82-9FF4-548F1969E40E_x35404_y\n"
     ]
    },
    {
     "name": "stdout",
     "output_type": "stream",
     "text": [
      "2025-09-08 14:38:25,143 [INFO] - Initializing Cell-Postprocessor\n",
      "2025-09-08 14:38:25,148 [INFO] - Finding edge-cells for merging\n",
      "2025-09-08 14:38:25,166 [INFO] - Removal of cells detected multiple times\n",
      "2025-09-08 14:38:25,216 [INFO] - Iteration 0: Found overlap of # cells: 0\n",
      "2025-09-08 14:38:25,217 [INFO] - Found all overlapping cells\n"
     ]
    },
    {
     "name": "stderr",
     "output_type": "stream",
     "text": [
      "\n",
      "Processing TCGA-YR-A95A-01Z-00-DX1.7197CB70-9FF4-4C82-9FF4-548F1969E40E_10_regio"
     ]
    },
    {
     "name": "stdout",
     "output_type": "stream",
     "text": [
      "Processing region: TCGA-YR-A95A-01Z-00-DX1.7197CB70-9FF4-4C82-9FF4-548F1969E40E_x32369_y8092\n"
     ]
    },
    {
     "name": "stderr",
     "output_type": "stream",
     "text": [
      "\n",
      "\n",
      "Processing TCGA-YR-A95A-01Z-00-DX1.7197CB70-9FF4-4C82-9FF4-548F1969E40E_x32369_y\n",
      "\n",
      "Processing TCGA-YR-A95A-01Z-00-DX1.7197CB70-9FF4-4C82-9FF4-548F1969E40E_x32369_y\n"
     ]
    },
    {
     "name": "stdout",
     "output_type": "stream",
     "text": [
      "2025-09-08 14:38:31,599 [INFO] - Initializing Cell-Postprocessor\n",
      "2025-09-08 14:38:31,607 [INFO] - Finding edge-cells for merging\n",
      "2025-09-08 14:38:31,630 [INFO] - Removal of cells detected multiple times\n",
      "2025-09-08 14:38:31,668 [INFO] - Iteration 0: Found overlap of # cells: 0\n",
      "2025-09-08 14:38:31,670 [INFO] - Found all overlapping cells\n"
     ]
    },
    {
     "name": "stderr",
     "output_type": "stream",
     "text": [
      "\n",
      "Processing TCGA-YR-A95A-01Z-00-DX1.7197CB70-9FF4-4C82-9FF4-548F1969E40E_10_regio"
     ]
    },
    {
     "name": "stdout",
     "output_type": "stream",
     "text": [
      "Processing region: TCGA-YR-A95A-01Z-00-DX1.7197CB70-9FF4-4C82-9FF4-548F1969E40E_x27311_y11127\n"
     ]
    },
    {
     "name": "stderr",
     "output_type": "stream",
     "text": [
      "\n",
      "\n",
      "Processing TCGA-YR-A95A-01Z-00-DX1.7197CB70-9FF4-4C82-9FF4-548F1969E40E_x27311_y\n",
      "\n",
      "Processing TCGA-YR-A95A-01Z-00-DX1.7197CB70-9FF4-4C82-9FF4-548F1969E40E_x27311_y\n"
     ]
    },
    {
     "name": "stdout",
     "output_type": "stream",
     "text": [
      "2025-09-08 14:38:38,669 [INFO] - Initializing Cell-Postprocessor\n",
      "2025-09-08 14:38:38,674 [INFO] - Finding edge-cells for merging\n",
      "2025-09-08 14:38:38,697 [INFO] - Removal of cells detected multiple times\n",
      "2025-09-08 14:38:38,746 [INFO] - Iteration 0: Found overlap of # cells: 0\n",
      "2025-09-08 14:38:38,747 [INFO] - Found all overlapping cells\n"
     ]
    },
    {
     "name": "stderr",
     "output_type": "stream",
     "text": [
      "\n",
      "Processing TCGA-YR-A95A-01Z-00-DX1.7197CB70-9FF4-4C82-9FF4-548F1969E40E_10_regio"
     ]
    },
    {
     "name": "stdout",
     "output_type": "stream",
     "text": [
      "Processing region: TCGA-YR-A95A-01Z-00-DX1.7197CB70-9FF4-4C82-9FF4-548F1969E40E_x86993_y47544\n"
     ]
    },
    {
     "name": "stderr",
     "output_type": "stream",
     "text": [
      "\n",
      "\n",
      "Processing TCGA-YR-A95A-01Z-00-DX1.7197CB70-9FF4-4C82-9FF4-548F1969E40E_x86993_y\n",
      "\n",
      "Processing TCGA-YR-A95A-01Z-00-DX1.7197CB70-9FF4-4C82-9FF4-548F1969E40E_x86993_y\n"
     ]
    },
    {
     "name": "stdout",
     "output_type": "stream",
     "text": [
      "2025-09-08 14:38:45,248 [INFO] - Initializing Cell-Postprocessor\n",
      "2025-09-08 14:38:45,253 [INFO] - Finding edge-cells for merging\n",
      "2025-09-08 14:38:45,287 [INFO] - Removal of cells detected multiple times\n",
      "2025-09-08 14:38:45,335 [INFO] - Iteration 0: Found overlap of # cells: 0\n",
      "2025-09-08 14:38:45,336 [INFO] - Found all overlapping cells\n"
     ]
    },
    {
     "name": "stderr",
     "output_type": "stream",
     "text": [
      "\n",
      "Processing TCGA-YR-A95A-01Z-00-DX1.7197CB70-9FF4-4C82-9FF4-548F1969E40E_10_regio"
     ]
    },
    {
     "name": "stdout",
     "output_type": "stream",
     "text": [
      "Processing region: TCGA-YR-A95A-01Z-00-DX1.7197CB70-9FF4-4C82-9FF4-548F1969E40E_x50577_y4046\n"
     ]
    },
    {
     "name": "stderr",
     "output_type": "stream",
     "text": [
      "\n",
      "\n",
      "Processing TCGA-YR-A95A-01Z-00-DX1.7197CB70-9FF4-4C82-9FF4-548F1969E40E_x50577_y\n",
      "\n",
      "Processing TCGA-YR-A95A-01Z-00-DX1.7197CB70-9FF4-4C82-9FF4-548F1969E40E_x50577_y\n"
     ]
    },
    {
     "name": "stdout",
     "output_type": "stream",
     "text": [
      "2025-09-08 14:38:51,513 [INFO] - Initializing Cell-Postprocessor\n",
      "2025-09-08 14:38:51,520 [INFO] - Finding edge-cells for merging\n",
      "2025-09-08 14:38:51,538 [INFO] - Removal of cells detected multiple times\n",
      "2025-09-08 14:38:51,555 [INFO] - Iteration 0: Found overlap of # cells: 0\n",
      "2025-09-08 14:38:51,556 [INFO] - Found all overlapping cells\n"
     ]
    },
    {
     "name": "stderr",
     "output_type": "stream",
     "text": [
      "\n",
      "Processing TCGA-YR-A95A-01Z-00-DX1.7197CB70-9FF4-4C82-9FF4-548F1969E40E_10_regio\n",
      "Processing folders:  20%|████▊                   | 3/15 [03:19<13:20, 66.71s/it]"
     ]
    },
    {
     "name": "stdout",
     "output_type": "stream",
     "text": [
      "Processing 10 images in TCGA-EJ-5515-01Z-00-DX1.4cfd0e05-b10c-4193-a488-9277cd60f0ea_10_regions\n"
     ]
    },
    {
     "name": "stderr",
     "output_type": "stream",
     "text": [
      "\n",
      "Processing TCGA-EJ-5515-01Z-00-DX1.4cfd0e05-b10c-4193-a488-9277cd60f0ea_10_regio"
     ]
    },
    {
     "name": "stdout",
     "output_type": "stream",
     "text": [
      "Processing region: TCGA-EJ-5515-01Z-00-DX1.4cfd0e05-b10c-4193-a488-9277cd60f0ea_x36535_y55818\n"
     ]
    },
    {
     "name": "stderr",
     "output_type": "stream",
     "text": [
      "\n",
      "\n",
      "Processing TCGA-EJ-5515-01Z-00-DX1.4cfd0e05-b10c-4193-a488-9277cd60f0ea_x36535_y\n",
      "\n",
      "Processing TCGA-EJ-5515-01Z-00-DX1.4cfd0e05-b10c-4193-a488-9277cd60f0ea_x36535_y\n"
     ]
    },
    {
     "name": "stdout",
     "output_type": "stream",
     "text": [
      "2025-09-08 14:38:57,890 [INFO] - Initializing Cell-Postprocessor\n",
      "2025-09-08 14:38:57,897 [INFO] - Finding edge-cells for merging\n",
      "2025-09-08 14:38:57,922 [INFO] - Removal of cells detected multiple times\n",
      "2025-09-08 14:38:57,945 [INFO] - Iteration 0: Found overlap of # cells: 0\n",
      "2025-09-08 14:38:57,946 [INFO] - Found all overlapping cells\n"
     ]
    },
    {
     "name": "stderr",
     "output_type": "stream",
     "text": [
      "\n",
      "Processing TCGA-EJ-5515-01Z-00-DX1.4cfd0e05-b10c-4193-a488-9277cd60f0ea_10_regio"
     ]
    },
    {
     "name": "stdout",
     "output_type": "stream",
     "text": [
      "Processing region: TCGA-EJ-5515-01Z-00-DX1.4cfd0e05-b10c-4193-a488-9277cd60f0ea_x2029_y52773\n"
     ]
    },
    {
     "name": "stderr",
     "output_type": "stream",
     "text": [
      "\n",
      "\n",
      "Processing TCGA-EJ-5515-01Z-00-DX1.4cfd0e05-b10c-4193-a488-9277cd60f0ea_x2029_y5\n",
      "\n",
      "Processing TCGA-EJ-5515-01Z-00-DX1.4cfd0e05-b10c-4193-a488-9277cd60f0ea_x2029_y5\n"
     ]
    },
    {
     "name": "stdout",
     "output_type": "stream",
     "text": [
      "2025-09-08 14:39:04,423 [INFO] - Initializing Cell-Postprocessor\n",
      "2025-09-08 14:39:04,431 [INFO] - Finding edge-cells for merging\n",
      "2025-09-08 14:39:04,453 [INFO] - Removal of cells detected multiple times\n",
      "2025-09-08 14:39:04,490 [INFO] - Iteration 0: Found overlap of # cells: 0\n",
      "2025-09-08 14:39:04,492 [INFO] - Found all overlapping cells\n"
     ]
    },
    {
     "name": "stderr",
     "output_type": "stream",
     "text": [
      "\n",
      "Processing TCGA-EJ-5515-01Z-00-DX1.4cfd0e05-b10c-4193-a488-9277cd60f0ea_10_regio"
     ]
    },
    {
     "name": "stdout",
     "output_type": "stream",
     "text": [
      "Processing region: TCGA-EJ-5515-01Z-00-DX1.4cfd0e05-b10c-4193-a488-9277cd60f0ea_x74085_y26386\n"
     ]
    },
    {
     "name": "stderr",
     "output_type": "stream",
     "text": [
      "\n",
      "\n",
      "Processing TCGA-EJ-5515-01Z-00-DX1.4cfd0e05-b10c-4193-a488-9277cd60f0ea_x74085_y\n",
      "\n",
      "Processing TCGA-EJ-5515-01Z-00-DX1.4cfd0e05-b10c-4193-a488-9277cd60f0ea_x74085_y\n"
     ]
    },
    {
     "name": "stdout",
     "output_type": "stream",
     "text": [
      "2025-09-08 14:39:11,056 [INFO] - Initializing Cell-Postprocessor\n",
      "2025-09-08 14:39:11,063 [INFO] - Finding edge-cells for merging\n",
      "2025-09-08 14:39:11,090 [INFO] - Removal of cells detected multiple times\n",
      "2025-09-08 14:39:11,140 [INFO] - Iteration 0: Found overlap of # cells: 0\n",
      "2025-09-08 14:39:11,142 [INFO] - Found all overlapping cells\n"
     ]
    },
    {
     "name": "stderr",
     "output_type": "stream",
     "text": [
      "\n",
      "Processing TCGA-EJ-5515-01Z-00-DX1.4cfd0e05-b10c-4193-a488-9277cd60f0ea_10_regio"
     ]
    },
    {
     "name": "stdout",
     "output_type": "stream",
     "text": [
      "Processing region: TCGA-EJ-5515-01Z-00-DX1.4cfd0e05-b10c-4193-a488-9277cd60f0ea_x15222_y24357\n"
     ]
    },
    {
     "name": "stderr",
     "output_type": "stream",
     "text": [
      "\n",
      "\n",
      "Processing TCGA-EJ-5515-01Z-00-DX1.4cfd0e05-b10c-4193-a488-9277cd60f0ea_x15222_y\n",
      "\n",
      "Processing TCGA-EJ-5515-01Z-00-DX1.4cfd0e05-b10c-4193-a488-9277cd60f0ea_x15222_y\n"
     ]
    },
    {
     "name": "stdout",
     "output_type": "stream",
     "text": [
      "2025-09-08 14:39:17,743 [INFO] - Initializing Cell-Postprocessor\n",
      "2025-09-08 14:39:17,749 [INFO] - Finding edge-cells for merging\n",
      "2025-09-08 14:39:17,788 [INFO] - Removal of cells detected multiple times\n",
      "2025-09-08 14:39:17,842 [INFO] - Iteration 0: Found overlap of # cells: 0\n",
      "2025-09-08 14:39:17,843 [INFO] - Found all overlapping cells\n"
     ]
    },
    {
     "name": "stderr",
     "output_type": "stream",
     "text": [
      "\n",
      "Processing TCGA-EJ-5515-01Z-00-DX1.4cfd0e05-b10c-4193-a488-9277cd60f0ea_10_regio"
     ]
    },
    {
     "name": "stdout",
     "output_type": "stream",
     "text": [
      "Processing region: TCGA-EJ-5515-01Z-00-DX1.4cfd0e05-b10c-4193-a488-9277cd60f0ea_x34505_y51759\n"
     ]
    },
    {
     "name": "stderr",
     "output_type": "stream",
     "text": [
      "\n",
      "\n",
      "Processing TCGA-EJ-5515-01Z-00-DX1.4cfd0e05-b10c-4193-a488-9277cd60f0ea_x34505_y\n",
      "\n",
      "Processing TCGA-EJ-5515-01Z-00-DX1.4cfd0e05-b10c-4193-a488-9277cd60f0ea_x34505_y\n"
     ]
    },
    {
     "name": "stdout",
     "output_type": "stream",
     "text": [
      "2025-09-08 14:39:24,468 [INFO] - Initializing Cell-Postprocessor\n",
      "2025-09-08 14:39:24,473 [INFO] - Finding edge-cells for merging\n",
      "2025-09-08 14:39:24,488 [INFO] - Removal of cells detected multiple times\n",
      "2025-09-08 14:39:24,526 [INFO] - Iteration 0: Found overlap of # cells: 0\n",
      "2025-09-08 14:39:24,527 [INFO] - Found all overlapping cells\n"
     ]
    },
    {
     "name": "stderr",
     "output_type": "stream",
     "text": [
      "\n",
      "Processing TCGA-EJ-5515-01Z-00-DX1.4cfd0e05-b10c-4193-a488-9277cd60f0ea_10_regio"
     ]
    },
    {
     "name": "stdout",
     "output_type": "stream",
     "text": [
      "Processing region: TCGA-EJ-5515-01Z-00-DX1.4cfd0e05-b10c-4193-a488-9277cd60f0ea_x18267_y35520\n"
     ]
    },
    {
     "name": "stderr",
     "output_type": "stream",
     "text": [
      "\n",
      "\n",
      "Processing TCGA-EJ-5515-01Z-00-DX1.4cfd0e05-b10c-4193-a488-9277cd60f0ea_x18267_y\n",
      "\n",
      "Processing TCGA-EJ-5515-01Z-00-DX1.4cfd0e05-b10c-4193-a488-9277cd60f0ea_x18267_y\n"
     ]
    },
    {
     "name": "stdout",
     "output_type": "stream",
     "text": [
      "2025-09-08 14:39:30,703 [INFO] - Initializing Cell-Postprocessor\n",
      "2025-09-08 14:39:30,708 [INFO] - Finding edge-cells for merging\n",
      "2025-09-08 14:39:30,716 [INFO] - Removal of cells detected multiple times\n",
      "2025-09-08 14:39:30,722 [INFO] - Iteration 0: Found overlap of # cells: 0\n",
      "2025-09-08 14:39:30,723 [INFO] - Found all overlapping cells\n"
     ]
    },
    {
     "name": "stderr",
     "output_type": "stream",
     "text": [
      "\n",
      "Processing TCGA-EJ-5515-01Z-00-DX1.4cfd0e05-b10c-4193-a488-9277cd60f0ea_10_regio"
     ]
    },
    {
     "name": "stdout",
     "output_type": "stream",
     "text": [
      "Processing region: TCGA-EJ-5515-01Z-00-DX1.4cfd0e05-b10c-4193-a488-9277cd60f0ea_x85248_y22327\n"
     ]
    },
    {
     "name": "stderr",
     "output_type": "stream",
     "text": [
      "\n",
      "\n",
      "Processing TCGA-EJ-5515-01Z-00-DX1.4cfd0e05-b10c-4193-a488-9277cd60f0ea_x85248_y\n",
      "\n",
      "Processing TCGA-EJ-5515-01Z-00-DX1.4cfd0e05-b10c-4193-a488-9277cd60f0ea_x85248_y\n"
     ]
    },
    {
     "name": "stdout",
     "output_type": "stream",
     "text": [
      "2025-09-08 14:39:36,966 [INFO] - Initializing Cell-Postprocessor\n",
      "2025-09-08 14:39:36,971 [INFO] - Finding edge-cells for merging\n",
      "2025-09-08 14:39:36,986 [INFO] - Removal of cells detected multiple times\n",
      "2025-09-08 14:39:37,001 [INFO] - Iteration 0: Found overlap of # cells: 0\n",
      "2025-09-08 14:39:37,002 [INFO] - Found all overlapping cells\n"
     ]
    },
    {
     "name": "stderr",
     "output_type": "stream",
     "text": [
      "\n",
      "Processing TCGA-EJ-5515-01Z-00-DX1.4cfd0e05-b10c-4193-a488-9277cd60f0ea_10_regio"
     ]
    },
    {
     "name": "stdout",
     "output_type": "stream",
     "text": [
      "Processing region: TCGA-EJ-5515-01Z-00-DX1.4cfd0e05-b10c-4193-a488-9277cd60f0ea_x18267_y61907\n"
     ]
    },
    {
     "name": "stderr",
     "output_type": "stream",
     "text": [
      "\n",
      "\n",
      "Processing TCGA-EJ-5515-01Z-00-DX1.4cfd0e05-b10c-4193-a488-9277cd60f0ea_x18267_y\n",
      "\n",
      "Processing TCGA-EJ-5515-01Z-00-DX1.4cfd0e05-b10c-4193-a488-9277cd60f0ea_x18267_y\n"
     ]
    },
    {
     "name": "stdout",
     "output_type": "stream",
     "text": [
      "2025-09-08 14:39:43,299 [INFO] - Initializing Cell-Postprocessor\n",
      "2025-09-08 14:39:43,307 [INFO] - Finding edge-cells for merging\n",
      "2025-09-08 14:39:43,327 [INFO] - Removal of cells detected multiple times\n",
      "2025-09-08 14:39:43,356 [INFO] - Iteration 0: Found overlap of # cells: 0\n",
      "2025-09-08 14:39:43,358 [INFO] - Found all overlapping cells\n"
     ]
    },
    {
     "name": "stderr",
     "output_type": "stream",
     "text": [
      "\n",
      "Processing TCGA-EJ-5515-01Z-00-DX1.4cfd0e05-b10c-4193-a488-9277cd60f0ea_10_regio"
     ]
    },
    {
     "name": "stdout",
     "output_type": "stream",
     "text": [
      "Processing region: TCGA-EJ-5515-01Z-00-DX1.4cfd0e05-b10c-4193-a488-9277cd60f0ea_x34505_y19282\n"
     ]
    },
    {
     "name": "stderr",
     "output_type": "stream",
     "text": [
      "\n",
      "\n",
      "Processing TCGA-EJ-5515-01Z-00-DX1.4cfd0e05-b10c-4193-a488-9277cd60f0ea_x34505_y\n",
      "\n",
      "Processing TCGA-EJ-5515-01Z-00-DX1.4cfd0e05-b10c-4193-a488-9277cd60f0ea_x34505_y\n"
     ]
    },
    {
     "name": "stdout",
     "output_type": "stream",
     "text": [
      "2025-09-08 14:39:49,853 [INFO] - Initializing Cell-Postprocessor\n",
      "2025-09-08 14:39:49,861 [INFO] - Finding edge-cells for merging\n",
      "2025-09-08 14:39:49,888 [INFO] - Removal of cells detected multiple times\n",
      "2025-09-08 14:39:49,933 [INFO] - Iteration 0: Found overlap of # cells: 0\n",
      "2025-09-08 14:39:49,935 [INFO] - Found all overlapping cells\n"
     ]
    },
    {
     "name": "stderr",
     "output_type": "stream",
     "text": [
      "\n",
      "Processing TCGA-EJ-5515-01Z-00-DX1.4cfd0e05-b10c-4193-a488-9277cd60f0ea_10_regio"
     ]
    },
    {
     "name": "stdout",
     "output_type": "stream",
     "text": [
      "Processing region: TCGA-EJ-5515-01Z-00-DX1.4cfd0e05-b10c-4193-a488-9277cd60f0ea_x26386_y30446\n"
     ]
    },
    {
     "name": "stderr",
     "output_type": "stream",
     "text": [
      "\n",
      "\n",
      "Processing TCGA-EJ-5515-01Z-00-DX1.4cfd0e05-b10c-4193-a488-9277cd60f0ea_x26386_y\n",
      "\n",
      "Processing TCGA-EJ-5515-01Z-00-DX1.4cfd0e05-b10c-4193-a488-9277cd60f0ea_x26386_y\n"
     ]
    },
    {
     "name": "stdout",
     "output_type": "stream",
     "text": [
      "2025-09-08 14:39:56,517 [INFO] - Initializing Cell-Postprocessor\n",
      "2025-09-08 14:39:56,522 [INFO] - Finding edge-cells for merging\n",
      "2025-09-08 14:39:56,537 [INFO] - Removal of cells detected multiple times\n",
      "2025-09-08 14:39:56,565 [INFO] - Iteration 0: Found overlap of # cells: 0\n",
      "2025-09-08 14:39:56,566 [INFO] - Found all overlapping cells\n"
     ]
    },
    {
     "name": "stderr",
     "output_type": "stream",
     "text": [
      "\n",
      "Processing TCGA-EJ-5515-01Z-00-DX1.4cfd0e05-b10c-4193-a488-9277cd60f0ea_10_regio\n",
      "Processing folders:  27%|██████▍                 | 4/15 [04:24<12:06, 66.04s/it]"
     ]
    },
    {
     "name": "stdout",
     "output_type": "stream",
     "text": [
      "Processing 10 images in TCGA-FA-A82F-01Z-00-DX1.6D1B9A0A-FAA1-4E4D-9280-3D87F9929972_10_regions\n"
     ]
    },
    {
     "name": "stderr",
     "output_type": "stream",
     "text": [
      "\n",
      "Processing TCGA-FA-A82F-01Z-00-DX1.6D1B9A0A-FAA1-4E4D-9280-3D87F9929972_10_regio"
     ]
    },
    {
     "name": "stdout",
     "output_type": "stream",
     "text": [
      "Processing region: TCGA-FA-A82F-01Z-00-DX1.6D1B9A0A-FAA1-4E4D-9280-3D87F9929972_x97074_y59657\n"
     ]
    },
    {
     "name": "stderr",
     "output_type": "stream",
     "text": [
      "\n",
      "\n",
      "Processing TCGA-FA-A82F-01Z-00-DX1.6D1B9A0A-FAA1-4E4D-9280-3D87F9929972_x97074_y\n",
      "\n",
      "Processing TCGA-FA-A82F-01Z-00-DX1.6D1B9A0A-FAA1-4E4D-9280-3D87F9929972_x97074_y\n"
     ]
    },
    {
     "name": "stdout",
     "output_type": "stream",
     "text": [
      "2025-09-08 14:40:03,335 [INFO] - Initializing Cell-Postprocessor\n",
      "2025-09-08 14:40:03,339 [INFO] - Finding edge-cells for merging\n",
      "2025-09-08 14:40:03,354 [INFO] - Removal of cells detected multiple times\n",
      "2025-09-08 14:40:03,383 [INFO] - Iteration 0: Found overlap of # cells: 0\n",
      "2025-09-08 14:40:03,384 [INFO] - Found all overlapping cells\n"
     ]
    },
    {
     "name": "stderr",
     "output_type": "stream",
     "text": [
      "\n",
      "Processing TCGA-FA-A82F-01Z-00-DX1.6D1B9A0A-FAA1-4E4D-9280-3D87F9929972_10_regio"
     ]
    },
    {
     "name": "stdout",
     "output_type": "stream",
     "text": [
      "Processing region: TCGA-FA-A82F-01Z-00-DX1.6D1B9A0A-FAA1-4E4D-9280-3D87F9929972_x106175_y49546\n"
     ]
    },
    {
     "name": "stderr",
     "output_type": "stream",
     "text": [
      "\n",
      "\n",
      "Processing TCGA-FA-A82F-01Z-00-DX1.6D1B9A0A-FAA1-4E4D-9280-3D87F9929972_x106175_\n",
      "\n",
      "Processing TCGA-FA-A82F-01Z-00-DX1.6D1B9A0A-FAA1-4E4D-9280-3D87F9929972_x106175_\n"
     ]
    },
    {
     "name": "stdout",
     "output_type": "stream",
     "text": [
      "2025-09-08 14:40:09,996 [INFO] - Initializing Cell-Postprocessor\n",
      "2025-09-08 14:40:10,002 [INFO] - Finding edge-cells for merging\n",
      "2025-09-08 14:40:10,036 [INFO] - Removal of cells detected multiple times\n",
      "2025-09-08 14:40:10,097 [INFO] - Iteration 0: Found overlap of # cells: 0\n",
      "2025-09-08 14:40:10,097 [INFO] - Found all overlapping cells\n"
     ]
    },
    {
     "name": "stderr",
     "output_type": "stream",
     "text": [
      "\n",
      "Processing TCGA-FA-A82F-01Z-00-DX1.6D1B9A0A-FAA1-4E4D-9280-3D87F9929972_10_regio"
     ]
    },
    {
     "name": "stdout",
     "output_type": "stream",
     "text": [
      "Processing region: TCGA-FA-A82F-01Z-00-DX1.6D1B9A0A-FAA1-4E4D-9280-3D87F9929972_x17190_y25278\n"
     ]
    },
    {
     "name": "stderr",
     "output_type": "stream",
     "text": [
      "\n",
      "\n",
      "Processing TCGA-FA-A82F-01Z-00-DX1.6D1B9A0A-FAA1-4E4D-9280-3D87F9929972_x17190_y\n",
      "\n",
      "Processing TCGA-FA-A82F-01Z-00-DX1.6D1B9A0A-FAA1-4E4D-9280-3D87F9929972_x17190_y\n"
     ]
    },
    {
     "name": "stdout",
     "output_type": "stream",
     "text": [
      "Error processing TCGA-FA-A82F-01Z-00-DX1.6D1B9A0A-FAA1-4E4D-9280-3D87F9929972_x17190_y25278: list index out of range\n"
     ]
    },
    {
     "name": "stderr",
     "output_type": "stream",
     "text": [
      "\n",
      "Processing TCGA-FA-A82F-01Z-00-DX1.6D1B9A0A-FAA1-4E4D-9280-3D87F9929972_10_regio"
     ]
    },
    {
     "name": "stdout",
     "output_type": "stream",
     "text": [
      "Processing region: TCGA-FA-A82F-01Z-00-DX1.6D1B9A0A-FAA1-4E4D-9280-3D87F9929972_x31346_y29323\n"
     ]
    },
    {
     "name": "stderr",
     "output_type": "stream",
     "text": [
      "\n",
      "\n",
      "Processing TCGA-FA-A82F-01Z-00-DX1.6D1B9A0A-FAA1-4E4D-9280-3D87F9929972_x31346_y\n",
      "\n",
      "Processing TCGA-FA-A82F-01Z-00-DX1.6D1B9A0A-FAA1-4E4D-9280-3D87F9929972_x31346_y\n"
     ]
    },
    {
     "name": "stdout",
     "output_type": "stream",
     "text": [
      "2025-09-08 14:40:22,275 [INFO] - Initializing Cell-Postprocessor\n",
      "2025-09-08 14:40:22,281 [INFO] - Finding edge-cells for merging\n",
      "2025-09-08 14:40:22,299 [INFO] - Removal of cells detected multiple times\n",
      "2025-09-08 14:40:22,317 [INFO] - Iteration 0: Found overlap of # cells: 0\n",
      "2025-09-08 14:40:22,319 [INFO] - Found all overlapping cells\n"
     ]
    },
    {
     "name": "stderr",
     "output_type": "stream",
     "text": [
      "\n",
      "Processing TCGA-FA-A82F-01Z-00-DX1.6D1B9A0A-FAA1-4E4D-9280-3D87F9929972_10_regio"
     ]
    },
    {
     "name": "stdout",
     "output_type": "stream",
     "text": [
      "Processing region: TCGA-FA-A82F-01Z-00-DX1.6D1B9A0A-FAA1-4E4D-9280-3D87F9929972_x110219_y22245\n"
     ]
    },
    {
     "name": "stderr",
     "output_type": "stream",
     "text": [
      "\n",
      "\n",
      "Processing TCGA-FA-A82F-01Z-00-DX1.6D1B9A0A-FAA1-4E4D-9280-3D87F9929972_x110219_\n",
      "\n",
      "Processing TCGA-FA-A82F-01Z-00-DX1.6D1B9A0A-FAA1-4E4D-9280-3D87F9929972_x110219_\n"
     ]
    },
    {
     "name": "stdout",
     "output_type": "stream",
     "text": [
      "2025-09-08 14:40:28,861 [INFO] - Initializing Cell-Postprocessor\n",
      "2025-09-08 14:40:28,867 [INFO] - Finding edge-cells for merging\n",
      "2025-09-08 14:40:28,893 [INFO] - Removal of cells detected multiple times\n",
      "2025-09-08 14:40:28,939 [INFO] - Iteration 0: Found overlap of # cells: 0\n",
      "2025-09-08 14:40:28,941 [INFO] - Found all overlapping cells\n"
     ]
    },
    {
     "name": "stderr",
     "output_type": "stream",
     "text": [
      "\n",
      "Processing TCGA-FA-A82F-01Z-00-DX1.6D1B9A0A-FAA1-4E4D-9280-3D87F9929972_10_regio"
     ]
    },
    {
     "name": "stdout",
     "output_type": "stream",
     "text": [
      "Processing region: TCGA-FA-A82F-01Z-00-DX1.6D1B9A0A-FAA1-4E4D-9280-3D87F9929972_x83928_y29323\n"
     ]
    },
    {
     "name": "stderr",
     "output_type": "stream",
     "text": [
      "\n",
      "\n",
      "Processing TCGA-FA-A82F-01Z-00-DX1.6D1B9A0A-FAA1-4E4D-9280-3D87F9929972_x83928_y\n",
      "\n",
      "Processing TCGA-FA-A82F-01Z-00-DX1.6D1B9A0A-FAA1-4E4D-9280-3D87F9929972_x83928_y\n"
     ]
    },
    {
     "name": "stdout",
     "output_type": "stream",
     "text": [
      "2025-09-08 14:40:35,760 [INFO] - Initializing Cell-Postprocessor\n",
      "2025-09-08 14:40:35,767 [INFO] - Finding edge-cells for merging\n",
      "2025-09-08 14:40:35,786 [INFO] - Removal of cells detected multiple times\n",
      "2025-09-08 14:40:35,844 [INFO] - Iteration 0: Found overlap of # cells: 0\n",
      "2025-09-08 14:40:35,846 [INFO] - Found all overlapping cells\n"
     ]
    },
    {
     "name": "stderr",
     "output_type": "stream",
     "text": [
      "\n",
      "Processing TCGA-FA-A82F-01Z-00-DX1.6D1B9A0A-FAA1-4E4D-9280-3D87F9929972_10_regio"
     ]
    },
    {
     "name": "stdout",
     "output_type": "stream",
     "text": [
      "Processing region: TCGA-FA-A82F-01Z-00-DX1.6D1B9A0A-FAA1-4E4D-9280-3D87F9929972_x114264_y25278\n"
     ]
    },
    {
     "name": "stderr",
     "output_type": "stream",
     "text": [
      "\n",
      "\n",
      "Processing TCGA-FA-A82F-01Z-00-DX1.6D1B9A0A-FAA1-4E4D-9280-3D87F9929972_x114264_\n",
      "\n",
      "Processing TCGA-FA-A82F-01Z-00-DX1.6D1B9A0A-FAA1-4E4D-9280-3D87F9929972_x114264_\n"
     ]
    },
    {
     "name": "stdout",
     "output_type": "stream",
     "text": [
      "2025-09-08 14:40:42,484 [INFO] - Initializing Cell-Postprocessor\n",
      "2025-09-08 14:40:42,489 [INFO] - Finding edge-cells for merging\n",
      "2025-09-08 14:40:42,529 [INFO] - Removal of cells detected multiple times\n",
      "2025-09-08 14:40:42,586 [INFO] - Iteration 0: Found overlap of # cells: 0\n",
      "2025-09-08 14:40:42,587 [INFO] - Found all overlapping cells\n"
     ]
    },
    {
     "name": "stderr",
     "output_type": "stream",
     "text": [
      "\n",
      "Processing TCGA-FA-A82F-01Z-00-DX1.6D1B9A0A-FAA1-4E4D-9280-3D87F9929972_10_regio"
     ]
    },
    {
     "name": "stdout",
     "output_type": "stream",
     "text": [
      "Processing region: TCGA-FA-A82F-01Z-00-DX1.6D1B9A0A-FAA1-4E4D-9280-3D87F9929972_x92018_y44490\n"
     ]
    },
    {
     "name": "stderr",
     "output_type": "stream",
     "text": [
      "\n",
      "\n",
      "Processing TCGA-FA-A82F-01Z-00-DX1.6D1B9A0A-FAA1-4E4D-9280-3D87F9929972_x92018_y\n",
      "\n",
      "Processing TCGA-FA-A82F-01Z-00-DX1.6D1B9A0A-FAA1-4E4D-9280-3D87F9929972_x92018_y\n"
     ]
    },
    {
     "name": "stdout",
     "output_type": "stream",
     "text": [
      "2025-09-08 14:40:48,674 [INFO] - Initializing Cell-Postprocessor\n",
      "2025-09-08 14:40:48,680 [INFO] - Finding edge-cells for merging\n",
      "2025-09-08 14:40:48,692 [INFO] - Removal of cells detected multiple times\n",
      "2025-09-08 14:40:48,698 [INFO] - Iteration 0: Found overlap of # cells: 0\n",
      "2025-09-08 14:40:48,699 [INFO] - Found all overlapping cells\n"
     ]
    },
    {
     "name": "stderr",
     "output_type": "stream",
     "text": [
      "\n",
      "Processing TCGA-FA-A82F-01Z-00-DX1.6D1B9A0A-FAA1-4E4D-9280-3D87F9929972_10_regio"
     ]
    },
    {
     "name": "stdout",
     "output_type": "stream",
     "text": [
      "Processing region: TCGA-FA-A82F-01Z-00-DX1.6D1B9A0A-FAA1-4E4D-9280-3D87F9929972_x50559_y30334\n"
     ]
    },
    {
     "name": "stderr",
     "output_type": "stream",
     "text": [
      "\n",
      "\n",
      "Processing TCGA-FA-A82F-01Z-00-DX1.6D1B9A0A-FAA1-4E4D-9280-3D87F9929972_x50559_y\n",
      "\n",
      "Processing TCGA-FA-A82F-01Z-00-DX1.6D1B9A0A-FAA1-4E4D-9280-3D87F9929972_x50559_y\n"
     ]
    },
    {
     "name": "stdout",
     "output_type": "stream",
     "text": [
      "2025-09-08 14:40:54,900 [INFO] - Initializing Cell-Postprocessor\n",
      "2025-09-08 14:40:54,907 [INFO] - Finding edge-cells for merging\n",
      "2025-09-08 14:40:54,928 [INFO] - Removal of cells detected multiple times\n",
      "2025-09-08 14:40:54,949 [INFO] - Iteration 0: Found overlap of # cells: 0\n",
      "2025-09-08 14:40:54,951 [INFO] - Found all overlapping cells\n"
     ]
    },
    {
     "name": "stderr",
     "output_type": "stream",
     "text": [
      "\n",
      "Processing TCGA-FA-A82F-01Z-00-DX1.6D1B9A0A-FAA1-4E4D-9280-3D87F9929972_10_regio"
     ]
    },
    {
     "name": "stdout",
     "output_type": "stream",
     "text": [
      "Processing region: TCGA-FA-A82F-01Z-00-DX1.6D1B9A0A-FAA1-4E4D-9280-3D87F9929972_x73817_y43479\n"
     ]
    },
    {
     "name": "stderr",
     "output_type": "stream",
     "text": [
      "\n",
      "\n",
      "Processing TCGA-FA-A82F-01Z-00-DX1.6D1B9A0A-FAA1-4E4D-9280-3D87F9929972_x73817_y\n",
      "\n",
      "Processing TCGA-FA-A82F-01Z-00-DX1.6D1B9A0A-FAA1-4E4D-9280-3D87F9929972_x73817_y\n"
     ]
    },
    {
     "name": "stdout",
     "output_type": "stream",
     "text": [
      "2025-09-08 14:41:01,538 [INFO] - Initializing Cell-Postprocessor\n",
      "2025-09-08 14:41:01,543 [INFO] - Finding edge-cells for merging\n",
      "2025-09-08 14:41:01,568 [INFO] - Removal of cells detected multiple times\n",
      "2025-09-08 14:41:01,610 [INFO] - Iteration 0: Found overlap of # cells: 0\n",
      "2025-09-08 14:41:01,611 [INFO] - Found all overlapping cells\n"
     ]
    },
    {
     "name": "stderr",
     "output_type": "stream",
     "text": [
      "\n",
      "Processing TCGA-FA-A82F-01Z-00-DX1.6D1B9A0A-FAA1-4E4D-9280-3D87F9929972_10_regio\n",
      "Processing folders:  33%|████████                | 5/15 [05:29<10:56, 65.68s/it]"
     ]
    },
    {
     "name": "stdout",
     "output_type": "stream",
     "text": [
      "Processing 10 images in TCGA-DX-AB2L-01Z-00-DXB.0440FC98-DA55-4257-8C41-D85DF933DC7F_10_regions\n"
     ]
    },
    {
     "name": "stderr",
     "output_type": "stream",
     "text": [
      "\n",
      "Processing TCGA-DX-AB2L-01Z-00-DXB.0440FC98-DA55-4257-8C41-D85DF933DC7F_10_regio"
     ]
    },
    {
     "name": "stdout",
     "output_type": "stream",
     "text": [
      "Processing region: TCGA-DX-AB2L-01Z-00-DXB.0440FC98-DA55-4257-8C41-D85DF933DC7F_x51874_y30514\n"
     ]
    },
    {
     "name": "stderr",
     "output_type": "stream",
     "text": [
      "\n",
      "\n",
      "Processing TCGA-DX-AB2L-01Z-00-DXB.0440FC98-DA55-4257-8C41-D85DF933DC7F_x51874_y\n",
      "\n",
      "Processing TCGA-DX-AB2L-01Z-00-DXB.0440FC98-DA55-4257-8C41-D85DF933DC7F_x51874_y\n"
     ]
    },
    {
     "name": "stdout",
     "output_type": "stream",
     "text": [
      "2025-09-08 14:41:08,115 [INFO] - Initializing Cell-Postprocessor\n",
      "2025-09-08 14:41:08,119 [INFO] - Finding edge-cells for merging\n",
      "2025-09-08 14:41:08,128 [INFO] - Removal of cells detected multiple times\n",
      "2025-09-08 14:41:08,138 [INFO] - Iteration 0: Found overlap of # cells: 0\n",
      "2025-09-08 14:41:08,139 [INFO] - Found all overlapping cells\n"
     ]
    },
    {
     "name": "stderr",
     "output_type": "stream",
     "text": [
      "\n",
      "Processing TCGA-DX-AB2L-01Z-00-DXB.0440FC98-DA55-4257-8C41-D85DF933DC7F_10_regio"
     ]
    },
    {
     "name": "stdout",
     "output_type": "stream",
     "text": [
      "Processing region: TCGA-DX-AB2L-01Z-00-DXB.0440FC98-DA55-4257-8C41-D85DF933DC7F_x83405_y31531\n"
     ]
    },
    {
     "name": "stderr",
     "output_type": "stream",
     "text": [
      "\n",
      "\n",
      "Processing TCGA-DX-AB2L-01Z-00-DXB.0440FC98-DA55-4257-8C41-D85DF933DC7F_x83405_y\n",
      "\n",
      "Processing TCGA-DX-AB2L-01Z-00-DXB.0440FC98-DA55-4257-8C41-D85DF933DC7F_x83405_y\n"
     ]
    },
    {
     "name": "stdout",
     "output_type": "stream",
     "text": [
      "2025-09-08 14:41:14,600 [INFO] - Initializing Cell-Postprocessor\n",
      "2025-09-08 14:41:14,606 [INFO] - Finding edge-cells for merging\n",
      "2025-09-08 14:41:14,632 [INFO] - Removal of cells detected multiple times\n",
      "2025-09-08 14:41:14,674 [INFO] - Iteration 0: Found overlap of # cells: 0\n",
      "2025-09-08 14:41:14,676 [INFO] - Found all overlapping cells\n"
     ]
    },
    {
     "name": "stderr",
     "output_type": "stream",
     "text": [
      "\n",
      "Processing TCGA-DX-AB2L-01Z-00-DXB.0440FC98-DA55-4257-8C41-D85DF933DC7F_10_regio"
     ]
    },
    {
     "name": "stdout",
     "output_type": "stream",
     "text": [
      "Processing region: TCGA-DX-AB2L-01Z-00-DXB.0440FC98-DA55-4257-8C41-D85DF933DC7F_x45771_y16274\n"
     ]
    },
    {
     "name": "stderr",
     "output_type": "stream",
     "text": [
      "\n",
      "\n",
      "Processing TCGA-DX-AB2L-01Z-00-DXB.0440FC98-DA55-4257-8C41-D85DF933DC7F_x45771_y\n",
      "\n",
      "Processing TCGA-DX-AB2L-01Z-00-DXB.0440FC98-DA55-4257-8C41-D85DF933DC7F_x45771_y\n"
     ]
    },
    {
     "name": "stdout",
     "output_type": "stream",
     "text": [
      "2025-09-08 14:41:21,312 [INFO] - Initializing Cell-Postprocessor\n",
      "2025-09-08 14:41:21,318 [INFO] - Finding edge-cells for merging\n",
      "2025-09-08 14:41:21,353 [INFO] - Removal of cells detected multiple times\n",
      "2025-09-08 14:41:21,415 [INFO] - Iteration 0: Found overlap of # cells: 0\n",
      "2025-09-08 14:41:21,416 [INFO] - Found all overlapping cells\n"
     ]
    },
    {
     "name": "stderr",
     "output_type": "stream",
     "text": [
      "\n",
      "Processing TCGA-DX-AB2L-01Z-00-DXB.0440FC98-DA55-4257-8C41-D85DF933DC7F_10_regio"
     ]
    },
    {
     "name": "stdout",
     "output_type": "stream",
     "text": [
      "Processing region: TCGA-DX-AB2L-01Z-00-DXB.0440FC98-DA55-4257-8C41-D85DF933DC7F_x56960_y36617\n"
     ]
    },
    {
     "name": "stderr",
     "output_type": "stream",
     "text": [
      "\n",
      "\n",
      "Processing TCGA-DX-AB2L-01Z-00-DXB.0440FC98-DA55-4257-8C41-D85DF933DC7F_x56960_y\n",
      "\n",
      "Processing TCGA-DX-AB2L-01Z-00-DXB.0440FC98-DA55-4257-8C41-D85DF933DC7F_x56960_y\n"
     ]
    },
    {
     "name": "stdout",
     "output_type": "stream",
     "text": [
      "2025-09-08 14:41:27,617 [INFO] - Initializing Cell-Postprocessor\n",
      "2025-09-08 14:41:27,624 [INFO] - Finding edge-cells for merging\n",
      "2025-09-08 14:41:27,645 [INFO] - Removal of cells detected multiple times\n",
      "2025-09-08 14:41:27,660 [INFO] - Iteration 0: Found overlap of # cells: 0\n",
      "2025-09-08 14:41:27,661 [INFO] - Found all overlapping cells\n"
     ]
    },
    {
     "name": "stderr",
     "output_type": "stream",
     "text": [
      "\n",
      "Processing TCGA-DX-AB2L-01Z-00-DXB.0440FC98-DA55-4257-8C41-D85DF933DC7F_10_regio"
     ]
    },
    {
     "name": "stdout",
     "output_type": "stream",
     "text": [
      "Processing region: TCGA-DX-AB2L-01Z-00-DXB.0440FC98-DA55-4257-8C41-D85DF933DC7F_x25428_y24411\n"
     ]
    },
    {
     "name": "stderr",
     "output_type": "stream",
     "text": [
      "\n",
      "\n",
      "Processing TCGA-DX-AB2L-01Z-00-DXB.0440FC98-DA55-4257-8C41-D85DF933DC7F_x25428_y\n",
      "\n",
      "Processing TCGA-DX-AB2L-01Z-00-DXB.0440FC98-DA55-4257-8C41-D85DF933DC7F_x25428_y\n"
     ]
    },
    {
     "name": "stdout",
     "output_type": "stream",
     "text": [
      "2025-09-08 14:41:33,960 [INFO] - Initializing Cell-Postprocessor\n",
      "2025-09-08 14:41:33,966 [INFO] - Finding edge-cells for merging\n",
      "2025-09-08 14:41:33,988 [INFO] - Removal of cells detected multiple times\n",
      "2025-09-08 14:41:34,013 [INFO] - Iteration 0: Found overlap of # cells: 0\n",
      "2025-09-08 14:41:34,014 [INFO] - Found all overlapping cells\n"
     ]
    },
    {
     "name": "stderr",
     "output_type": "stream",
     "text": [
      "\n",
      "Processing TCGA-DX-AB2L-01Z-00-DXB.0440FC98-DA55-4257-8C41-D85DF933DC7F_10_regio"
     ]
    },
    {
     "name": "stdout",
     "output_type": "stream",
     "text": [
      "Processing region: TCGA-DX-AB2L-01Z-00-DXB.0440FC98-DA55-4257-8C41-D85DF933DC7F_x53908_y52891\n"
     ]
    },
    {
     "name": "stderr",
     "output_type": "stream",
     "text": [
      "\n",
      "\n",
      "Processing TCGA-DX-AB2L-01Z-00-DXB.0440FC98-DA55-4257-8C41-D85DF933DC7F_x53908_y\n",
      "\n",
      "Processing TCGA-DX-AB2L-01Z-00-DXB.0440FC98-DA55-4257-8C41-D85DF933DC7F_x53908_y\n"
     ]
    },
    {
     "name": "stdout",
     "output_type": "stream",
     "text": [
      "2025-09-08 14:41:40,260 [INFO] - Initializing Cell-Postprocessor\n",
      "2025-09-08 14:41:40,267 [INFO] - Finding edge-cells for merging\n",
      "2025-09-08 14:41:40,285 [INFO] - Removal of cells detected multiple times\n",
      "2025-09-08 14:41:40,311 [INFO] - Iteration 0: Found overlap of # cells: 0\n",
      "2025-09-08 14:41:40,312 [INFO] - Found all overlapping cells\n"
     ]
    },
    {
     "name": "stderr",
     "output_type": "stream",
     "text": [
      "\n",
      "Processing TCGA-DX-AB2L-01Z-00-DXB.0440FC98-DA55-4257-8C41-D85DF933DC7F_10_regio"
     ]
    },
    {
     "name": "stdout",
     "output_type": "stream",
     "text": [
      "Processing region: TCGA-DX-AB2L-01Z-00-DXB.0440FC98-DA55-4257-8C41-D85DF933DC7F_x68148_y8137\n"
     ]
    },
    {
     "name": "stderr",
     "output_type": "stream",
     "text": [
      "\n",
      "\n",
      "Processing TCGA-DX-AB2L-01Z-00-DXB.0440FC98-DA55-4257-8C41-D85DF933DC7F_x68148_y\n",
      "\n",
      "Processing TCGA-DX-AB2L-01Z-00-DXB.0440FC98-DA55-4257-8C41-D85DF933DC7F_x68148_y\n"
     ]
    },
    {
     "name": "stdout",
     "output_type": "stream",
     "text": [
      "2025-09-08 14:41:46,850 [INFO] - Initializing Cell-Postprocessor\n",
      "2025-09-08 14:41:46,854 [INFO] - Finding edge-cells for merging\n",
      "2025-09-08 14:41:46,869 [INFO] - Removal of cells detected multiple times\n",
      "2025-09-08 14:41:46,897 [INFO] - Iteration 0: Found overlap of # cells: 0\n",
      "2025-09-08 14:41:46,898 [INFO] - Found all overlapping cells\n"
     ]
    },
    {
     "name": "stderr",
     "output_type": "stream",
     "text": [
      "\n",
      "Processing TCGA-DX-AB2L-01Z-00-DXB.0440FC98-DA55-4257-8C41-D85DF933DC7F_10_regio"
     ]
    },
    {
     "name": "stdout",
     "output_type": "stream",
     "text": [
      "Processing region: TCGA-DX-AB2L-01Z-00-DXB.0440FC98-DA55-4257-8C41-D85DF933DC7F_x38651_y44754\n"
     ]
    },
    {
     "name": "stderr",
     "output_type": "stream",
     "text": [
      "\n",
      "\n",
      "Processing TCGA-DX-AB2L-01Z-00-DXB.0440FC98-DA55-4257-8C41-D85DF933DC7F_x38651_y\n",
      "\n",
      "Processing TCGA-DX-AB2L-01Z-00-DXB.0440FC98-DA55-4257-8C41-D85DF933DC7F_x38651_y\n"
     ]
    },
    {
     "name": "stdout",
     "output_type": "stream",
     "text": [
      "2025-09-08 14:41:53,400 [INFO] - Initializing Cell-Postprocessor\n",
      "2025-09-08 14:41:53,408 [INFO] - Finding edge-cells for merging\n",
      "2025-09-08 14:41:53,430 [INFO] - Removal of cells detected multiple times\n",
      "2025-09-08 14:41:53,470 [INFO] - Iteration 0: Found overlap of # cells: 0\n",
      "2025-09-08 14:41:53,472 [INFO] - Found all overlapping cells\n"
     ]
    },
    {
     "name": "stderr",
     "output_type": "stream",
     "text": [
      "\n",
      "Processing TCGA-DX-AB2L-01Z-00-DXB.0440FC98-DA55-4257-8C41-D85DF933DC7F_10_regio"
     ]
    },
    {
     "name": "stdout",
     "output_type": "stream",
     "text": [
      "Processing region: TCGA-DX-AB2L-01Z-00-DXB.0440FC98-DA55-4257-8C41-D85DF933DC7F_x64080_y44754\n"
     ]
    },
    {
     "name": "stderr",
     "output_type": "stream",
     "text": [
      "\n",
      "\n",
      "Processing TCGA-DX-AB2L-01Z-00-DXB.0440FC98-DA55-4257-8C41-D85DF933DC7F_x64080_y\n",
      "\n",
      "Processing TCGA-DX-AB2L-01Z-00-DXB.0440FC98-DA55-4257-8C41-D85DF933DC7F_x64080_y\n"
     ]
    },
    {
     "name": "stdout",
     "output_type": "stream",
     "text": [
      "2025-09-08 14:41:59,732 [INFO] - Initializing Cell-Postprocessor\n",
      "2025-09-08 14:41:59,740 [INFO] - Finding edge-cells for merging\n",
      "2025-09-08 14:41:59,759 [INFO] - Removal of cells detected multiple times\n",
      "2025-09-08 14:41:59,785 [INFO] - Iteration 0: Found overlap of # cells: 0\n",
      "2025-09-08 14:41:59,787 [INFO] - Found all overlapping cells\n"
     ]
    },
    {
     "name": "stderr",
     "output_type": "stream",
     "text": [
      "\n",
      "Processing TCGA-DX-AB2L-01Z-00-DXB.0440FC98-DA55-4257-8C41-D85DF933DC7F_10_regio"
     ]
    },
    {
     "name": "stdout",
     "output_type": "stream",
     "text": [
      "Processing region: TCGA-DX-AB2L-01Z-00-DXB.0440FC98-DA55-4257-8C41-D85DF933DC7F_x23394_y29497\n"
     ]
    },
    {
     "name": "stderr",
     "output_type": "stream",
     "text": [
      "\n",
      "\n",
      "Processing TCGA-DX-AB2L-01Z-00-DXB.0440FC98-DA55-4257-8C41-D85DF933DC7F_x23394_y\n",
      "\n",
      "Processing TCGA-DX-AB2L-01Z-00-DXB.0440FC98-DA55-4257-8C41-D85DF933DC7F_x23394_y\n"
     ]
    },
    {
     "name": "stdout",
     "output_type": "stream",
     "text": [
      "2025-09-08 14:42:06,321 [INFO] - Initializing Cell-Postprocessor\n",
      "2025-09-08 14:42:06,327 [INFO] - Finding edge-cells for merging\n",
      "2025-09-08 14:42:06,352 [INFO] - Removal of cells detected multiple times\n",
      "2025-09-08 14:42:06,399 [INFO] - Iteration 0: Found overlap of # cells: 0\n",
      "2025-09-08 14:42:06,401 [INFO] - Found all overlapping cells\n"
     ]
    },
    {
     "name": "stderr",
     "output_type": "stream",
     "text": [
      "\n",
      "Processing TCGA-DX-AB2L-01Z-00-DXB.0440FC98-DA55-4257-8C41-D85DF933DC7F_10_regio\n",
      "Processing folders:  40%|█████████▌              | 6/15 [06:34<09:48, 65.38s/it]"
     ]
    },
    {
     "name": "stdout",
     "output_type": "stream",
     "text": [
      "Processing 10 images in TCGA-UW-A72M-01Z-00-DX1.D2F473F4-24A1-4F02-B02E-C5A0390F0C8F_10_regions\n"
     ]
    },
    {
     "name": "stderr",
     "output_type": "stream",
     "text": [
      "\n",
      "Processing TCGA-UW-A72M-01Z-00-DX1.D2F473F4-24A1-4F02-B02E-C5A0390F0C8F_10_regio"
     ]
    },
    {
     "name": "stdout",
     "output_type": "stream",
     "text": [
      "Processing region: TCGA-UW-A72M-01Z-00-DX1.D2F473F4-24A1-4F02-B02E-C5A0390F0C8F_x127707_y42232\n"
     ]
    },
    {
     "name": "stderr",
     "output_type": "stream",
     "text": [
      "\n",
      "\n",
      "Processing TCGA-UW-A72M-01Z-00-DX1.D2F473F4-24A1-4F02-B02E-C5A0390F0C8F_x127707_\n",
      "\n",
      "Processing TCGA-UW-A72M-01Z-00-DX1.D2F473F4-24A1-4F02-B02E-C5A0390F0C8F_x127707_\n"
     ]
    },
    {
     "name": "stdout",
     "output_type": "stream",
     "text": [
      "2025-09-08 14:42:12,695 [INFO] - Initializing Cell-Postprocessor\n",
      "2025-09-08 14:42:12,702 [INFO] - Finding edge-cells for merging\n",
      "2025-09-08 14:42:12,725 [INFO] - Removal of cells detected multiple times\n",
      "2025-09-08 14:42:12,750 [INFO] - Iteration 0: Found overlap of # cells: 0\n",
      "2025-09-08 14:42:12,751 [INFO] - Found all overlapping cells\n"
     ]
    },
    {
     "name": "stderr",
     "output_type": "stream",
     "text": [
      "\n",
      "Processing TCGA-UW-A72M-01Z-00-DX1.D2F473F4-24A1-4F02-B02E-C5A0390F0C8F_10_regio"
     ]
    },
    {
     "name": "stdout",
     "output_type": "stream",
     "text": [
      "Processing region: TCGA-UW-A72M-01Z-00-DX1.D2F473F4-24A1-4F02-B02E-C5A0390F0C8F_x158880_y41227\n"
     ]
    },
    {
     "name": "stderr",
     "output_type": "stream",
     "text": [
      "\n",
      "\n",
      "Processing TCGA-UW-A72M-01Z-00-DX1.D2F473F4-24A1-4F02-B02E-C5A0390F0C8F_x158880_\n",
      "\n",
      "Processing TCGA-UW-A72M-01Z-00-DX1.D2F473F4-24A1-4F02-B02E-C5A0390F0C8F_x158880_\n"
     ]
    },
    {
     "name": "stdout",
     "output_type": "stream",
     "text": [
      "2025-09-08 14:42:19,100 [INFO] - Initializing Cell-Postprocessor\n",
      "2025-09-08 14:42:19,107 [INFO] - Finding edge-cells for merging\n",
      "2025-09-08 14:42:19,129 [INFO] - Removal of cells detected multiple times\n",
      "2025-09-08 14:42:19,154 [INFO] - Iteration 0: Found overlap of # cells: 0\n",
      "2025-09-08 14:42:19,155 [INFO] - Found all overlapping cells\n"
     ]
    },
    {
     "name": "stderr",
     "output_type": "stream",
     "text": [
      "\n",
      "Processing TCGA-UW-A72M-01Z-00-DX1.D2F473F4-24A1-4F02-B02E-C5A0390F0C8F_10_regio"
     ]
    },
    {
     "name": "stdout",
     "output_type": "stream",
     "text": [
      "Processing region: TCGA-UW-A72M-01Z-00-DX1.D2F473F4-24A1-4F02-B02E-C5A0390F0C8F_x53295_y55304\n"
     ]
    },
    {
     "name": "stderr",
     "output_type": "stream",
     "text": [
      "\n",
      "\n",
      "Processing TCGA-UW-A72M-01Z-00-DX1.D2F473F4-24A1-4F02-B02E-C5A0390F0C8F_x53295_y\n",
      "\n",
      "Processing TCGA-UW-A72M-01Z-00-DX1.D2F473F4-24A1-4F02-B02E-C5A0390F0C8F_x53295_y\n"
     ]
    },
    {
     "name": "stdout",
     "output_type": "stream",
     "text": [
      "2025-09-08 14:42:25,424 [INFO] - Initializing Cell-Postprocessor\n",
      "2025-09-08 14:42:25,432 [INFO] - Finding edge-cells for merging\n",
      "2025-09-08 14:42:25,454 [INFO] - Removal of cells detected multiple times\n",
      "2025-09-08 14:42:25,476 [INFO] - Iteration 0: Found overlap of # cells: 0\n",
      "2025-09-08 14:42:25,477 [INFO] - Found all overlapping cells\n"
     ]
    },
    {
     "name": "stderr",
     "output_type": "stream",
     "text": [
      "\n",
      "Processing TCGA-UW-A72M-01Z-00-DX1.D2F473F4-24A1-4F02-B02E-C5A0390F0C8F_10_regio"
     ]
    },
    {
     "name": "stdout",
     "output_type": "stream",
     "text": [
      "Processing region: TCGA-UW-A72M-01Z-00-DX1.D2F473F4-24A1-4F02-B02E-C5A0390F0C8F_x116646_y26144\n"
     ]
    },
    {
     "name": "stderr",
     "output_type": "stream",
     "text": [
      "\n",
      "\n",
      "Processing TCGA-UW-A72M-01Z-00-DX1.D2F473F4-24A1-4F02-B02E-C5A0390F0C8F_x116646_\n",
      "\n",
      "Processing TCGA-UW-A72M-01Z-00-DX1.D2F473F4-24A1-4F02-B02E-C5A0390F0C8F_x116646_\n"
     ]
    },
    {
     "name": "stdout",
     "output_type": "stream",
     "text": [
      "2025-09-08 14:42:31,915 [INFO] - Initializing Cell-Postprocessor\n",
      "2025-09-08 14:42:31,919 [INFO] - Finding edge-cells for merging\n",
      "2025-09-08 14:42:31,929 [INFO] - Removal of cells detected multiple times\n",
      "2025-09-08 14:42:31,941 [INFO] - Iteration 0: Found overlap of # cells: 0\n",
      "2025-09-08 14:42:31,942 [INFO] - Found all overlapping cells\n"
     ]
    },
    {
     "name": "stderr",
     "output_type": "stream",
     "text": [
      "\n",
      "Processing TCGA-UW-A72M-01Z-00-DX1.D2F473F4-24A1-4F02-B02E-C5A0390F0C8F_10_regio"
     ]
    },
    {
     "name": "stdout",
     "output_type": "stream",
     "text": [
      "Processing region: TCGA-UW-A72M-01Z-00-DX1.D2F473F4-24A1-4F02-B02E-C5A0390F0C8F_x26144_y45249\n"
     ]
    },
    {
     "name": "stderr",
     "output_type": "stream",
     "text": [
      "\n",
      "\n",
      "Processing TCGA-UW-A72M-01Z-00-DX1.D2F473F4-24A1-4F02-B02E-C5A0390F0C8F_x26144_y\n",
      "\n",
      "Processing TCGA-UW-A72M-01Z-00-DX1.D2F473F4-24A1-4F02-B02E-C5A0390F0C8F_x26144_y\n"
     ]
    },
    {
     "name": "stdout",
     "output_type": "stream",
     "text": [
      "2025-09-08 14:42:38,158 [INFO] - Initializing Cell-Postprocessor\n",
      "2025-09-08 14:42:38,165 [INFO] - Finding edge-cells for merging\n",
      "2025-09-08 14:42:38,185 [INFO] - Removal of cells detected multiple times\n",
      "2025-09-08 14:42:38,212 [INFO] - Iteration 0: Found overlap of # cells: 0\n",
      "2025-09-08 14:42:38,213 [INFO] - Found all overlapping cells\n"
     ]
    },
    {
     "name": "stderr",
     "output_type": "stream",
     "text": [
      "\n",
      "Processing TCGA-UW-A72M-01Z-00-DX1.D2F473F4-24A1-4F02-B02E-C5A0390F0C8F_10_regio"
     ]
    },
    {
     "name": "stdout",
     "output_type": "stream",
     "text": [
      "Processing region: TCGA-UW-A72M-01Z-00-DX1.D2F473F4-24A1-4F02-B02E-C5A0390F0C8F_x52289_y54299\n"
     ]
    },
    {
     "name": "stderr",
     "output_type": "stream",
     "text": [
      "\n",
      "\n",
      "Processing TCGA-UW-A72M-01Z-00-DX1.D2F473F4-24A1-4F02-B02E-C5A0390F0C8F_x52289_y\n",
      "\n",
      "Processing TCGA-UW-A72M-01Z-00-DX1.D2F473F4-24A1-4F02-B02E-C5A0390F0C8F_x52289_y\n"
     ]
    },
    {
     "name": "stdout",
     "output_type": "stream",
     "text": [
      "2025-09-08 14:42:44,450 [INFO] - Initializing Cell-Postprocessor\n",
      "2025-09-08 14:42:44,455 [INFO] - Finding edge-cells for merging\n",
      "2025-09-08 14:42:44,467 [INFO] - Removal of cells detected multiple times\n",
      "2025-09-08 14:42:44,483 [INFO] - Iteration 0: Found overlap of # cells: 0\n",
      "2025-09-08 14:42:44,484 [INFO] - Found all overlapping cells\n"
     ]
    },
    {
     "name": "stderr",
     "output_type": "stream",
     "text": [
      "\n",
      "Processing TCGA-UW-A72M-01Z-00-DX1.D2F473F4-24A1-4F02-B02E-C5A0390F0C8F_10_regio"
     ]
    },
    {
     "name": "stdout",
     "output_type": "stream",
     "text": [
      "Processing region: TCGA-UW-A72M-01Z-00-DX1.D2F473F4-24A1-4F02-B02E-C5A0390F0C8F_x49273_y49271\n"
     ]
    },
    {
     "name": "stderr",
     "output_type": "stream",
     "text": [
      "\n",
      "\n",
      "Processing TCGA-UW-A72M-01Z-00-DX1.D2F473F4-24A1-4F02-B02E-C5A0390F0C8F_x49273_y\n",
      "\n",
      "Processing TCGA-UW-A72M-01Z-00-DX1.D2F473F4-24A1-4F02-B02E-C5A0390F0C8F_x49273_y\n"
     ]
    },
    {
     "name": "stdout",
     "output_type": "stream",
     "text": [
      "2025-09-08 14:42:50,764 [INFO] - Initializing Cell-Postprocessor\n",
      "2025-09-08 14:42:50,771 [INFO] - Finding edge-cells for merging\n",
      "2025-09-08 14:42:50,795 [INFO] - Removal of cells detected multiple times\n",
      "2025-09-08 14:42:50,817 [INFO] - Iteration 0: Found overlap of # cells: 0\n",
      "2025-09-08 14:42:50,818 [INFO] - Found all overlapping cells\n"
     ]
    },
    {
     "name": "stderr",
     "output_type": "stream",
     "text": [
      "\n",
      "Processing TCGA-UW-A72M-01Z-00-DX1.D2F473F4-24A1-4F02-B02E-C5A0390F0C8F_10_regio"
     ]
    },
    {
     "name": "stdout",
     "output_type": "stream",
     "text": [
      "Processing region: TCGA-UW-A72M-01Z-00-DX1.D2F473F4-24A1-4F02-B02E-C5A0390F0C8F_x126702_y27149\n"
     ]
    },
    {
     "name": "stderr",
     "output_type": "stream",
     "text": [
      "\n",
      "\n",
      "Processing TCGA-UW-A72M-01Z-00-DX1.D2F473F4-24A1-4F02-B02E-C5A0390F0C8F_x126702_\n",
      "\n",
      "Processing TCGA-UW-A72M-01Z-00-DX1.D2F473F4-24A1-4F02-B02E-C5A0390F0C8F_x126702_\n"
     ]
    },
    {
     "name": "stdout",
     "output_type": "stream",
     "text": [
      "2025-09-08 14:42:57,247 [INFO] - Initializing Cell-Postprocessor\n",
      "2025-09-08 14:42:57,255 [INFO] - Finding edge-cells for merging\n",
      "2025-09-08 14:42:57,277 [INFO] - Removal of cells detected multiple times\n",
      "2025-09-08 14:42:57,306 [INFO] - Iteration 0: Found overlap of # cells: 0\n",
      "2025-09-08 14:42:57,307 [INFO] - Found all overlapping cells\n"
     ]
    },
    {
     "name": "stderr",
     "output_type": "stream",
     "text": [
      "\n",
      "Processing TCGA-UW-A72M-01Z-00-DX1.D2F473F4-24A1-4F02-B02E-C5A0390F0C8F_10_regio"
     ]
    },
    {
     "name": "stdout",
     "output_type": "stream",
     "text": [
      "Processing region: TCGA-UW-A72M-01Z-00-DX1.D2F473F4-24A1-4F02-B02E-C5A0390F0C8F_x43239_y36199\n"
     ]
    },
    {
     "name": "stderr",
     "output_type": "stream",
     "text": [
      "\n",
      "\n",
      "Processing TCGA-UW-A72M-01Z-00-DX1.D2F473F4-24A1-4F02-B02E-C5A0390F0C8F_x43239_y\n",
      "\n",
      "Processing TCGA-UW-A72M-01Z-00-DX1.D2F473F4-24A1-4F02-B02E-C5A0390F0C8F_x43239_y\n"
     ]
    },
    {
     "name": "stdout",
     "output_type": "stream",
     "text": [
      "2025-09-08 14:43:03,540 [INFO] - Initializing Cell-Postprocessor\n",
      "2025-09-08 14:43:03,547 [INFO] - Finding edge-cells for merging\n",
      "2025-09-08 14:43:03,566 [INFO] - Removal of cells detected multiple times\n",
      "2025-09-08 14:43:03,589 [INFO] - Iteration 0: Found overlap of # cells: 0\n",
      "2025-09-08 14:43:03,591 [INFO] - Found all overlapping cells\n"
     ]
    },
    {
     "name": "stderr",
     "output_type": "stream",
     "text": [
      "\n",
      "Processing TCGA-UW-A72M-01Z-00-DX1.D2F473F4-24A1-4F02-B02E-C5A0390F0C8F_10_regio"
     ]
    },
    {
     "name": "stdout",
     "output_type": "stream",
     "text": [
      "Processing region: TCGA-UW-A72M-01Z-00-DX1.D2F473F4-24A1-4F02-B02E-C5A0390F0C8F_x136758_y53293\n"
     ]
    },
    {
     "name": "stderr",
     "output_type": "stream",
     "text": [
      "\n",
      "\n",
      "Processing TCGA-UW-A72M-01Z-00-DX1.D2F473F4-24A1-4F02-B02E-C5A0390F0C8F_x136758_\n",
      "\n",
      "Processing TCGA-UW-A72M-01Z-00-DX1.D2F473F4-24A1-4F02-B02E-C5A0390F0C8F_x136758_\n"
     ]
    },
    {
     "name": "stdout",
     "output_type": "stream",
     "text": [
      "2025-09-08 14:43:09,829 [INFO] - Initializing Cell-Postprocessor\n",
      "2025-09-08 14:43:09,836 [INFO] - Finding edge-cells for merging\n",
      "2025-09-08 14:43:09,858 [INFO] - Removal of cells detected multiple times\n",
      "2025-09-08 14:43:09,883 [INFO] - Iteration 0: Found overlap of # cells: 0\n",
      "2025-09-08 14:43:09,884 [INFO] - Found all overlapping cells\n"
     ]
    },
    {
     "name": "stderr",
     "output_type": "stream",
     "text": [
      "\n",
      "Processing TCGA-UW-A72M-01Z-00-DX1.D2F473F4-24A1-4F02-B02E-C5A0390F0C8F_10_regio\n",
      "Processing folders:  47%|███████████▏            | 7/15 [07:37<08:38, 64.76s/it]"
     ]
    },
    {
     "name": "stdout",
     "output_type": "stream",
     "text": [
      "Processing 10 images in TCGA-GU-A763-01Z-00-DX1.2B511825-320B-48D7-B8D6-D97894C02667_10_regions\n"
     ]
    },
    {
     "name": "stderr",
     "output_type": "stream",
     "text": [
      "\n",
      "Processing TCGA-GU-A763-01Z-00-DX1.2B511825-320B-48D7-B8D6-D97894C02667_10_regio"
     ]
    },
    {
     "name": "stdout",
     "output_type": "stream",
     "text": [
      "Processing region: TCGA-GU-A763-01Z-00-DX1.2B511825-320B-48D7-B8D6-D97894C02667_x91930_y41421\n"
     ]
    },
    {
     "name": "stderr",
     "output_type": "stream",
     "text": [
      "\n",
      "\n",
      "Processing TCGA-GU-A763-01Z-00-DX1.2B511825-320B-48D7-B8D6-D97894C02667_x91930_y\n",
      "\n",
      "Processing TCGA-GU-A763-01Z-00-DX1.2B511825-320B-48D7-B8D6-D97894C02667_x91930_y\n"
     ]
    },
    {
     "name": "stdout",
     "output_type": "stream",
     "text": [
      "2025-09-08 14:43:16,221 [INFO] - Initializing Cell-Postprocessor\n",
      "2025-09-08 14:43:16,228 [INFO] - Finding edge-cells for merging\n",
      "2025-09-08 14:43:16,250 [INFO] - Removal of cells detected multiple times\n",
      "2025-09-08 14:43:16,275 [INFO] - Iteration 0: Found overlap of # cells: 0\n",
      "2025-09-08 14:43:16,277 [INFO] - Found all overlapping cells\n"
     ]
    },
    {
     "name": "stderr",
     "output_type": "stream",
     "text": [
      "\n",
      "Processing TCGA-GU-A763-01Z-00-DX1.2B511825-320B-48D7-B8D6-D97894C02667_10_regio"
     ]
    },
    {
     "name": "stdout",
     "output_type": "stream",
     "text": [
      "Processing region: TCGA-GU-A763-01Z-00-DX1.2B511825-320B-48D7-B8D6-D97894C02667_x26265_y34349\n"
     ]
    },
    {
     "name": "stderr",
     "output_type": "stream",
     "text": [
      "\n",
      "\n",
      "Processing TCGA-GU-A763-01Z-00-DX1.2B511825-320B-48D7-B8D6-D97894C02667_x26265_y\n",
      "\n",
      "Processing TCGA-GU-A763-01Z-00-DX1.2B511825-320B-48D7-B8D6-D97894C02667_x26265_y\n"
     ]
    },
    {
     "name": "stdout",
     "output_type": "stream",
     "text": [
      "2025-09-08 14:43:22,426 [INFO] - Initializing Cell-Postprocessor\n",
      "2025-09-08 14:43:22,433 [INFO] - Finding edge-cells for merging\n",
      "2025-09-08 14:43:22,446 [INFO] - Removal of cells detected multiple times\n",
      "2025-09-08 14:43:22,457 [INFO] - Iteration 0: Found overlap of # cells: 0\n",
      "2025-09-08 14:43:22,459 [INFO] - Found all overlapping cells\n"
     ]
    },
    {
     "name": "stderr",
     "output_type": "stream",
     "text": [
      "\n",
      "Processing TCGA-GU-A763-01Z-00-DX1.2B511825-320B-48D7-B8D6-D97894C02667_10_regio"
     ]
    },
    {
     "name": "stdout",
     "output_type": "stream",
     "text": [
      "Processing region: TCGA-GU-A763-01Z-00-DX1.2B511825-320B-48D7-B8D6-D97894C02667_x42429_y37380\n"
     ]
    },
    {
     "name": "stderr",
     "output_type": "stream",
     "text": [
      "\n",
      "\n",
      "Processing TCGA-GU-A763-01Z-00-DX1.2B511825-320B-48D7-B8D6-D97894C02667_x42429_y\n",
      "\n",
      "Processing TCGA-GU-A763-01Z-00-DX1.2B511825-320B-48D7-B8D6-D97894C02667_x42429_y\n"
     ]
    },
    {
     "name": "stdout",
     "output_type": "stream",
     "text": [
      "2025-09-08 14:43:28,830 [INFO] - Initializing Cell-Postprocessor\n",
      "2025-09-08 14:43:28,838 [INFO] - Finding edge-cells for merging\n",
      "2025-09-08 14:43:28,855 [INFO] - Removal of cells detected multiple times\n",
      "2025-09-08 14:43:28,884 [INFO] - Iteration 0: Found overlap of # cells: 0\n",
      "2025-09-08 14:43:28,885 [INFO] - Found all overlapping cells\n"
     ]
    },
    {
     "name": "stderr",
     "output_type": "stream",
     "text": [
      "\n",
      "Processing TCGA-GU-A763-01Z-00-DX1.2B511825-320B-48D7-B8D6-D97894C02667_10_regio"
     ]
    },
    {
     "name": "stdout",
     "output_type": "stream",
     "text": [
      "Processing region: TCGA-GU-A763-01Z-00-DX1.2B511825-320B-48D7-B8D6-D97894C02667_x35357_y15154\n"
     ]
    },
    {
     "name": "stderr",
     "output_type": "stream",
     "text": [
      "\n",
      "\n",
      "Processing TCGA-GU-A763-01Z-00-DX1.2B511825-320B-48D7-B8D6-D97894C02667_x35357_y\n",
      "\n",
      "Processing TCGA-GU-A763-01Z-00-DX1.2B511825-320B-48D7-B8D6-D97894C02667_x35357_y\n"
     ]
    },
    {
     "name": "stdout",
     "output_type": "stream",
     "text": [
      "2025-09-08 14:43:35,164 [INFO] - Initializing Cell-Postprocessor\n",
      "2025-09-08 14:43:35,171 [INFO] - Finding edge-cells for merging\n",
      "2025-09-08 14:43:35,193 [INFO] - Removal of cells detected multiple times\n",
      "2025-09-08 14:43:35,213 [INFO] - Iteration 0: Found overlap of # cells: 0\n",
      "2025-09-08 14:43:35,214 [INFO] - Found all overlapping cells\n"
     ]
    },
    {
     "name": "stderr",
     "output_type": "stream",
     "text": [
      "\n",
      "Processing TCGA-GU-A763-01Z-00-DX1.2B511825-320B-48D7-B8D6-D97894C02667_10_regio"
     ]
    },
    {
     "name": "stdout",
     "output_type": "stream",
     "text": [
      "Processing region: TCGA-GU-A763-01Z-00-DX1.2B511825-320B-48D7-B8D6-D97894C02667_x73746_y32329\n"
     ]
    },
    {
     "name": "stderr",
     "output_type": "stream",
     "text": [
      "\n",
      "\n",
      "Processing TCGA-GU-A763-01Z-00-DX1.2B511825-320B-48D7-B8D6-D97894C02667_x73746_y\n",
      "\n",
      "Processing TCGA-GU-A763-01Z-00-DX1.2B511825-320B-48D7-B8D6-D97894C02667_x73746_y\n"
     ]
    },
    {
     "name": "stdout",
     "output_type": "stream",
     "text": [
      "2025-09-08 14:43:41,608 [INFO] - Initializing Cell-Postprocessor\n",
      "2025-09-08 14:43:41,616 [INFO] - Finding edge-cells for merging\n",
      "2025-09-08 14:43:41,638 [INFO] - Removal of cells detected multiple times\n",
      "2025-09-08 14:43:41,661 [INFO] - Iteration 0: Found overlap of # cells: 0\n",
      "2025-09-08 14:43:41,662 [INFO] - Found all overlapping cells\n"
     ]
    },
    {
     "name": "stderr",
     "output_type": "stream",
     "text": [
      "\n",
      "Processing TCGA-GU-A763-01Z-00-DX1.2B511825-320B-48D7-B8D6-D97894C02667_10_regio"
     ]
    },
    {
     "name": "stdout",
     "output_type": "stream",
     "text": [
      "Processing region: TCGA-GU-A763-01Z-00-DX1.2B511825-320B-48D7-B8D6-D97894C02667_x85869_y30308\n"
     ]
    },
    {
     "name": "stderr",
     "output_type": "stream",
     "text": [
      "\n",
      "\n",
      "Processing TCGA-GU-A763-01Z-00-DX1.2B511825-320B-48D7-B8D6-D97894C02667_x85869_y\n",
      "\n",
      "Processing TCGA-GU-A763-01Z-00-DX1.2B511825-320B-48D7-B8D6-D97894C02667_x85869_y\n"
     ]
    },
    {
     "name": "stdout",
     "output_type": "stream",
     "text": [
      "2025-09-08 14:43:47,797 [INFO] - Initializing Cell-Postprocessor\n",
      "2025-09-08 14:43:47,801 [INFO] - Finding edge-cells for merging\n",
      "2025-09-08 14:43:47,810 [INFO] - Removal of cells detected multiple times\n",
      "2025-09-08 14:43:47,816 [INFO] - Iteration 0: Found overlap of # cells: 0\n",
      "2025-09-08 14:43:47,817 [INFO] - Found all overlapping cells\n"
     ]
    },
    {
     "name": "stderr",
     "output_type": "stream",
     "text": [
      "\n",
      "Processing TCGA-GU-A763-01Z-00-DX1.2B511825-320B-48D7-B8D6-D97894C02667_10_regio"
     ]
    },
    {
     "name": "stdout",
     "output_type": "stream",
     "text": [
      "Processing region: TCGA-GU-A763-01Z-00-DX1.2B511825-320B-48D7-B8D6-D97894C02667_x101022_y49504\n"
     ]
    },
    {
     "name": "stderr",
     "output_type": "stream",
     "text": [
      "\n",
      "\n",
      "Processing TCGA-GU-A763-01Z-00-DX1.2B511825-320B-48D7-B8D6-D97894C02667_x101022_\n",
      "\n",
      "Processing TCGA-GU-A763-01Z-00-DX1.2B511825-320B-48D7-B8D6-D97894C02667_x101022_\n"
     ]
    },
    {
     "name": "stdout",
     "output_type": "stream",
     "text": [
      "2025-09-08 14:43:53,925 [INFO] - Initializing Cell-Postprocessor\n",
      "2025-09-08 14:43:53,932 [INFO] - Finding edge-cells for merging\n",
      "2025-09-08 14:43:53,947 [INFO] - Removal of cells detected multiple times\n",
      "2025-09-08 14:43:53,961 [INFO] - Iteration 0: Found overlap of # cells: 0\n",
      "2025-09-08 14:43:53,962 [INFO] - Found all overlapping cells\n"
     ]
    },
    {
     "name": "stderr",
     "output_type": "stream",
     "text": [
      "\n",
      "Processing TCGA-GU-A763-01Z-00-DX1.2B511825-320B-48D7-B8D6-D97894C02667_10_regio"
     ]
    },
    {
     "name": "stdout",
     "output_type": "stream",
     "text": [
      "Processing region: TCGA-GU-A763-01Z-00-DX1.2B511825-320B-48D7-B8D6-D97894C02667_x109104_y50514\n"
     ]
    },
    {
     "name": "stderr",
     "output_type": "stream",
     "text": [
      "\n",
      "\n",
      "Processing TCGA-GU-A763-01Z-00-DX1.2B511825-320B-48D7-B8D6-D97894C02667_x109104_\n",
      "\n",
      "Processing TCGA-GU-A763-01Z-00-DX1.2B511825-320B-48D7-B8D6-D97894C02667_x109104_\n"
     ]
    },
    {
     "name": "stdout",
     "output_type": "stream",
     "text": [
      "2025-09-08 14:44:00,189 [INFO] - Initializing Cell-Postprocessor\n",
      "2025-09-08 14:44:00,193 [INFO] - Finding edge-cells for merging\n",
      "2025-09-08 14:44:00,202 [INFO] - Removal of cells detected multiple times\n",
      "2025-09-08 14:44:00,209 [INFO] - Iteration 0: Found overlap of # cells: 0\n",
      "2025-09-08 14:44:00,210 [INFO] - Found all overlapping cells\n"
     ]
    },
    {
     "name": "stderr",
     "output_type": "stream",
     "text": [
      "\n",
      "Processing TCGA-GU-A763-01Z-00-DX1.2B511825-320B-48D7-B8D6-D97894C02667_10_regio"
     ]
    },
    {
     "name": "stdout",
     "output_type": "stream",
     "text": [
      "Processing region: TCGA-GU-A763-01Z-00-DX1.2B511825-320B-48D7-B8D6-D97894C02667_x105063_y44452\n"
     ]
    },
    {
     "name": "stderr",
     "output_type": "stream",
     "text": [
      "\n",
      "\n",
      "Processing TCGA-GU-A763-01Z-00-DX1.2B511825-320B-48D7-B8D6-D97894C02667_x105063_\n",
      "\n",
      "Processing TCGA-GU-A763-01Z-00-DX1.2B511825-320B-48D7-B8D6-D97894C02667_x105063_\n"
     ]
    },
    {
     "name": "stdout",
     "output_type": "stream",
     "text": [
      "2025-09-08 14:44:06,583 [INFO] - Initializing Cell-Postprocessor\n",
      "2025-09-08 14:44:06,591 [INFO] - Finding edge-cells for merging\n",
      "2025-09-08 14:44:06,616 [INFO] - Removal of cells detected multiple times\n",
      "2025-09-08 14:44:06,655 [INFO] - Iteration 0: Found overlap of # cells: 0\n",
      "2025-09-08 14:44:06,656 [INFO] - Found all overlapping cells\n"
     ]
    },
    {
     "name": "stderr",
     "output_type": "stream",
     "text": [
      "\n",
      "Processing TCGA-GU-A763-01Z-00-DX1.2B511825-320B-48D7-B8D6-D97894C02667_10_regio"
     ]
    },
    {
     "name": "stdout",
     "output_type": "stream",
     "text": [
      "Processing region: TCGA-GU-A763-01Z-00-DX1.2B511825-320B-48D7-B8D6-D97894C02667_x99002_y16164\n"
     ]
    },
    {
     "name": "stderr",
     "output_type": "stream",
     "text": [
      "\n",
      "\n",
      "Processing TCGA-GU-A763-01Z-00-DX1.2B511825-320B-48D7-B8D6-D97894C02667_x99002_y\n",
      "\n",
      "Processing TCGA-GU-A763-01Z-00-DX1.2B511825-320B-48D7-B8D6-D97894C02667_x99002_y\n"
     ]
    },
    {
     "name": "stdout",
     "output_type": "stream",
     "text": [
      "2025-09-08 14:44:13,352 [INFO] - Initializing Cell-Postprocessor\n",
      "2025-09-08 14:44:13,357 [INFO] - Finding edge-cells for merging\n",
      "2025-09-08 14:44:13,380 [INFO] - Removal of cells detected multiple times\n",
      "2025-09-08 14:44:13,426 [INFO] - Iteration 0: Found overlap of # cells: 0\n",
      "2025-09-08 14:44:13,426 [INFO] - Found all overlapping cells\n"
     ]
    },
    {
     "name": "stderr",
     "output_type": "stream",
     "text": [
      "\n",
      "Processing TCGA-GU-A763-01Z-00-DX1.2B511825-320B-48D7-B8D6-D97894C02667_10_regio\n",
      "Processing folders:  53%|████████████▊           | 8/15 [08:41<07:30, 64.37s/it]"
     ]
    },
    {
     "name": "stdout",
     "output_type": "stream",
     "text": [
      "Processing 10 images in TCGA-77-8009-01Z-00-DX1.54adaaba-ddce-4480-9b22-af8e8a85d1d9_10_regions\n"
     ]
    },
    {
     "name": "stderr",
     "output_type": "stream",
     "text": [
      "\n",
      "Processing TCGA-77-8009-01Z-00-DX1.54adaaba-ddce-4480-9b22-af8e8a85d1d9_10_regio"
     ]
    },
    {
     "name": "stdout",
     "output_type": "stream",
     "text": [
      "Processing region: TCGA-77-8009-01Z-00-DX1.54adaaba-ddce-4480-9b22-af8e8a85d1d9_x48668_y29404\n"
     ]
    },
    {
     "name": "stderr",
     "output_type": "stream",
     "text": [
      "\n",
      "\n",
      "Processing TCGA-77-8009-01Z-00-DX1.54adaaba-ddce-4480-9b22-af8e8a85d1d9_x48668_y\n",
      "\n",
      "Processing TCGA-77-8009-01Z-00-DX1.54adaaba-ddce-4480-9b22-af8e8a85d1d9_x48668_y\n"
     ]
    },
    {
     "name": "stdout",
     "output_type": "stream",
     "text": [
      "2025-09-08 14:44:20,263 [INFO] - Initializing Cell-Postprocessor\n",
      "2025-09-08 14:44:20,268 [INFO] - Finding edge-cells for merging\n",
      "2025-09-08 14:44:20,286 [INFO] - Removal of cells detected multiple times\n",
      "2025-09-08 14:44:20,315 [INFO] - Iteration 0: Found overlap of # cells: 0\n",
      "2025-09-08 14:44:20,316 [INFO] - Found all overlapping cells\n"
     ]
    },
    {
     "name": "stderr",
     "output_type": "stream",
     "text": [
      "\n",
      "Processing TCGA-77-8009-01Z-00-DX1.54adaaba-ddce-4480-9b22-af8e8a85d1d9_10_regio"
     ]
    },
    {
     "name": "stdout",
     "output_type": "stream",
     "text": [
      "Processing region: TCGA-77-8009-01Z-00-DX1.54adaaba-ddce-4480-9b22-af8e8a85d1d9_x56780_y53738\n"
     ]
    },
    {
     "name": "stderr",
     "output_type": "stream",
     "text": [
      "\n",
      "\n",
      "Processing TCGA-77-8009-01Z-00-DX1.54adaaba-ddce-4480-9b22-af8e8a85d1d9_x56780_y\n",
      "\n",
      "Processing TCGA-77-8009-01Z-00-DX1.54adaaba-ddce-4480-9b22-af8e8a85d1d9_x56780_y\n"
     ]
    },
    {
     "name": "stdout",
     "output_type": "stream",
     "text": [
      "2025-09-08 14:44:26,834 [INFO] - Initializing Cell-Postprocessor\n",
      "2025-09-08 14:44:26,838 [INFO] - Finding edge-cells for merging\n",
      "2025-09-08 14:44:26,856 [INFO] - Removal of cells detected multiple times\n",
      "2025-09-08 14:44:26,886 [INFO] - Iteration 0: Found overlap of # cells: 0\n",
      "2025-09-08 14:44:26,886 [INFO] - Found all overlapping cells\n"
     ]
    },
    {
     "name": "stderr",
     "output_type": "stream",
     "text": [
      "\n",
      "Processing TCGA-77-8009-01Z-00-DX1.54adaaba-ddce-4480-9b22-af8e8a85d1d9_10_regio"
     ]
    },
    {
     "name": "stdout",
     "output_type": "stream",
     "text": [
      "Processing region: TCGA-77-8009-01Z-00-DX1.54adaaba-ddce-4480-9b22-af8e8a85d1d9_x21292_y39543\n"
     ]
    },
    {
     "name": "stderr",
     "output_type": "stream",
     "text": [
      "\n",
      "\n",
      "Processing TCGA-77-8009-01Z-00-DX1.54adaaba-ddce-4480-9b22-af8e8a85d1d9_x21292_y\n",
      "\n",
      "Processing TCGA-77-8009-01Z-00-DX1.54adaaba-ddce-4480-9b22-af8e8a85d1d9_x21292_y\n"
     ]
    },
    {
     "name": "stdout",
     "output_type": "stream",
     "text": [
      "2025-09-08 14:44:33,488 [INFO] - Initializing Cell-Postprocessor\n",
      "2025-09-08 14:44:33,495 [INFO] - Finding edge-cells for merging\n",
      "2025-09-08 14:44:33,529 [INFO] - Removal of cells detected multiple times\n",
      "2025-09-08 14:44:33,594 [INFO] - Iteration 0: Found overlap of # cells: 0\n",
      "2025-09-08 14:44:33,595 [INFO] - Found all overlapping cells\n"
     ]
    },
    {
     "name": "stderr",
     "output_type": "stream",
     "text": [
      "\n",
      "Processing TCGA-77-8009-01Z-00-DX1.54adaaba-ddce-4480-9b22-af8e8a85d1d9_10_regio"
     ]
    },
    {
     "name": "stdout",
     "output_type": "stream",
     "text": [
      "Processing region: TCGA-77-8009-01Z-00-DX1.54adaaba-ddce-4480-9b22-af8e8a85d1d9_x59821_y70975\n"
     ]
    },
    {
     "name": "stderr",
     "output_type": "stream",
     "text": [
      "\n",
      "\n",
      "Processing TCGA-77-8009-01Z-00-DX1.54adaaba-ddce-4480-9b22-af8e8a85d1d9_x59821_y\n",
      "\n",
      "Processing TCGA-77-8009-01Z-00-DX1.54adaaba-ddce-4480-9b22-af8e8a85d1d9_x59821_y\n"
     ]
    },
    {
     "name": "stdout",
     "output_type": "stream",
     "text": [
      "2025-09-08 14:44:40,185 [INFO] - Initializing Cell-Postprocessor\n",
      "2025-09-08 14:44:40,191 [INFO] - Finding edge-cells for merging\n",
      "2025-09-08 14:44:40,219 [INFO] - Removal of cells detected multiple times\n",
      "2025-09-08 14:44:40,261 [INFO] - Iteration 0: Found overlap of # cells: 0\n",
      "2025-09-08 14:44:40,262 [INFO] - Found all overlapping cells\n"
     ]
    },
    {
     "name": "stderr",
     "output_type": "stream",
     "text": [
      "\n",
      "Processing TCGA-77-8009-01Z-00-DX1.54adaaba-ddce-4480-9b22-af8e8a85d1d9_10_regio"
     ]
    },
    {
     "name": "stdout",
     "output_type": "stream",
     "text": [
      "Processing region: TCGA-77-8009-01Z-00-DX1.54adaaba-ddce-4480-9b22-af8e8a85d1d9_x22306_y67934\n"
     ]
    },
    {
     "name": "stderr",
     "output_type": "stream",
     "text": [
      "\n",
      "\n",
      "Processing TCGA-77-8009-01Z-00-DX1.54adaaba-ddce-4480-9b22-af8e8a85d1d9_x22306_y\n",
      "\n",
      "Processing TCGA-77-8009-01Z-00-DX1.54adaaba-ddce-4480-9b22-af8e8a85d1d9_x22306_y\n"
     ]
    },
    {
     "name": "stdout",
     "output_type": "stream",
     "text": [
      "2025-09-08 14:44:46,867 [INFO] - Initializing Cell-Postprocessor\n",
      "2025-09-08 14:44:46,873 [INFO] - Finding edge-cells for merging\n",
      "2025-09-08 14:44:46,902 [INFO] - Removal of cells detected multiple times\n",
      "2025-09-08 14:44:46,939 [INFO] - Iteration 0: Found overlap of # cells: 0\n",
      "2025-09-08 14:44:46,941 [INFO] - Found all overlapping cells\n"
     ]
    },
    {
     "name": "stderr",
     "output_type": "stream",
     "text": [
      "\n",
      "Processing TCGA-77-8009-01Z-00-DX1.54adaaba-ddce-4480-9b22-af8e8a85d1d9_10_regio"
     ]
    },
    {
     "name": "stdout",
     "output_type": "stream",
     "text": [
      "Processing region: TCGA-77-8009-01Z-00-DX1.54adaaba-ddce-4480-9b22-af8e8a85d1d9_x32445_y27376\n"
     ]
    },
    {
     "name": "stderr",
     "output_type": "stream",
     "text": [
      "\n",
      "\n",
      "Processing TCGA-77-8009-01Z-00-DX1.54adaaba-ddce-4480-9b22-af8e8a85d1d9_x32445_y\n",
      "\n",
      "Processing TCGA-77-8009-01Z-00-DX1.54adaaba-ddce-4480-9b22-af8e8a85d1d9_x32445_y\n"
     ]
    },
    {
     "name": "stdout",
     "output_type": "stream",
     "text": [
      "2025-09-08 14:44:53,456 [INFO] - Initializing Cell-Postprocessor\n",
      "2025-09-08 14:44:53,461 [INFO] - Finding edge-cells for merging\n",
      "2025-09-08 14:44:53,476 [INFO] - Removal of cells detected multiple times\n",
      "2025-09-08 14:44:53,498 [INFO] - Iteration 0: Found overlap of # cells: 0\n",
      "2025-09-08 14:44:53,498 [INFO] - Found all overlapping cells\n"
     ]
    },
    {
     "name": "stderr",
     "output_type": "stream",
     "text": [
      "\n",
      "Processing TCGA-77-8009-01Z-00-DX1.54adaaba-ddce-4480-9b22-af8e8a85d1d9_10_regio"
     ]
    },
    {
     "name": "stdout",
     "output_type": "stream",
     "text": [
      "Processing region: TCGA-77-8009-01Z-00-DX1.54adaaba-ddce-4480-9b22-af8e8a85d1d9_x70975_y58808\n"
     ]
    },
    {
     "name": "stderr",
     "output_type": "stream",
     "text": [
      "\n",
      "\n",
      "Processing TCGA-77-8009-01Z-00-DX1.54adaaba-ddce-4480-9b22-af8e8a85d1d9_x70975_y\n",
      "\n",
      "Processing TCGA-77-8009-01Z-00-DX1.54adaaba-ddce-4480-9b22-af8e8a85d1d9_x70975_y\n"
     ]
    },
    {
     "name": "stdout",
     "output_type": "stream",
     "text": [
      "2025-09-08 14:45:00,055 [INFO] - Initializing Cell-Postprocessor\n",
      "2025-09-08 14:45:00,060 [INFO] - Finding edge-cells for merging\n",
      "2025-09-08 14:45:00,076 [INFO] - Removal of cells detected multiple times\n",
      "2025-09-08 14:45:00,103 [INFO] - Iteration 0: Found overlap of # cells: 0\n",
      "2025-09-08 14:45:00,104 [INFO] - Found all overlapping cells\n"
     ]
    },
    {
     "name": "stderr",
     "output_type": "stream",
     "text": [
      "\n",
      "Processing TCGA-77-8009-01Z-00-DX1.54adaaba-ddce-4480-9b22-af8e8a85d1d9_10_regio"
     ]
    },
    {
     "name": "stdout",
     "output_type": "stream",
     "text": [
      "Processing region: TCGA-77-8009-01Z-00-DX1.54adaaba-ddce-4480-9b22-af8e8a85d1d9_x92267_y54752\n"
     ]
    },
    {
     "name": "stderr",
     "output_type": "stream",
     "text": [
      "\n",
      "\n",
      "Processing TCGA-77-8009-01Z-00-DX1.54adaaba-ddce-4480-9b22-af8e8a85d1d9_x92267_y\n",
      "\n",
      "Processing TCGA-77-8009-01Z-00-DX1.54adaaba-ddce-4480-9b22-af8e8a85d1d9_x92267_y\n"
     ]
    },
    {
     "name": "stdout",
     "output_type": "stream",
     "text": [
      "2025-09-08 14:45:06,573 [INFO] - Initializing Cell-Postprocessor\n",
      "2025-09-08 14:45:06,581 [INFO] - Finding edge-cells for merging\n",
      "2025-09-08 14:45:06,607 [INFO] - Removal of cells detected multiple times\n",
      "2025-09-08 14:45:06,646 [INFO] - Iteration 0: Found overlap of # cells: 0\n",
      "2025-09-08 14:45:06,647 [INFO] - Found all overlapping cells\n"
     ]
    },
    {
     "name": "stderr",
     "output_type": "stream",
     "text": [
      "\n",
      "Processing TCGA-77-8009-01Z-00-DX1.54adaaba-ddce-4480-9b22-af8e8a85d1d9_10_regio"
     ]
    },
    {
     "name": "stdout",
     "output_type": "stream",
     "text": [
      "Processing region: TCGA-77-8009-01Z-00-DX1.54adaaba-ddce-4480-9b22-af8e8a85d1d9_x83142_y49683\n"
     ]
    },
    {
     "name": "stderr",
     "output_type": "stream",
     "text": [
      "\n",
      "\n",
      "Processing TCGA-77-8009-01Z-00-DX1.54adaaba-ddce-4480-9b22-af8e8a85d1d9_x83142_y\n",
      "\n",
      "Processing TCGA-77-8009-01Z-00-DX1.54adaaba-ddce-4480-9b22-af8e8a85d1d9_x83142_y\n"
     ]
    },
    {
     "name": "stdout",
     "output_type": "stream",
     "text": [
      "2025-09-08 14:45:13,464 [INFO] - Initializing Cell-Postprocessor\n",
      "2025-09-08 14:45:13,469 [INFO] - Finding edge-cells for merging\n",
      "2025-09-08 14:45:13,488 [INFO] - Removal of cells detected multiple times\n",
      "2025-09-08 14:45:13,518 [INFO] - Iteration 0: Found overlap of # cells: 0\n",
      "2025-09-08 14:45:13,519 [INFO] - Found all overlapping cells\n"
     ]
    },
    {
     "name": "stderr",
     "output_type": "stream",
     "text": [
      "\n",
      "Processing TCGA-77-8009-01Z-00-DX1.54adaaba-ddce-4480-9b22-af8e8a85d1d9_10_regio"
     ]
    },
    {
     "name": "stdout",
     "output_type": "stream",
     "text": [
      "Processing region: TCGA-77-8009-01Z-00-DX1.54adaaba-ddce-4480-9b22-af8e8a85d1d9_x22306_y49683\n"
     ]
    },
    {
     "name": "stderr",
     "output_type": "stream",
     "text": [
      "\n",
      "\n",
      "Processing TCGA-77-8009-01Z-00-DX1.54adaaba-ddce-4480-9b22-af8e8a85d1d9_x22306_y\n",
      "\n",
      "Processing TCGA-77-8009-01Z-00-DX1.54adaaba-ddce-4480-9b22-af8e8a85d1d9_x22306_y\n"
     ]
    },
    {
     "name": "stdout",
     "output_type": "stream",
     "text": [
      "2025-09-08 14:45:19,731 [INFO] - Initializing Cell-Postprocessor\n",
      "2025-09-08 14:45:19,739 [INFO] - Finding edge-cells for merging\n",
      "2025-09-08 14:45:19,754 [INFO] - Removal of cells detected multiple times\n",
      "2025-09-08 14:45:19,778 [INFO] - Iteration 0: Found overlap of # cells: 0\n",
      "2025-09-08 14:45:19,779 [INFO] - Found all overlapping cells\n"
     ]
    },
    {
     "name": "stderr",
     "output_type": "stream",
     "text": [
      "\n",
      "Processing TCGA-77-8009-01Z-00-DX1.54adaaba-ddce-4480-9b22-af8e8a85d1d9_10_regio\n",
      "Processing folders:  60%|██████████████▍         | 9/15 [09:47<06:29, 64.99s/it]"
     ]
    },
    {
     "name": "stdout",
     "output_type": "stream",
     "text": [
      "Processing 10 images in TCGA-IF-A4AJ-01Z-00-DX1.A6CE6AEC-B645-4885-A995-99FF7A4B26A5_10_regions\n"
     ]
    },
    {
     "name": "stderr",
     "output_type": "stream",
     "text": [
      "\n",
      "Processing TCGA-IF-A4AJ-01Z-00-DX1.A6CE6AEC-B645-4885-A995-99FF7A4B26A5_10_regio"
     ]
    },
    {
     "name": "stdout",
     "output_type": "stream",
     "text": [
      "Processing region: TCGA-IF-A4AJ-01Z-00-DX1.A6CE6AEC-B645-4885-A995-99FF7A4B26A5_x29479_y21345\n"
     ]
    },
    {
     "name": "stderr",
     "output_type": "stream",
     "text": [
      "\n",
      "\n",
      "Processing TCGA-IF-A4AJ-01Z-00-DX1.A6CE6AEC-B645-4885-A995-99FF7A4B26A5_x29479_y\n",
      "\n",
      "Processing TCGA-IF-A4AJ-01Z-00-DX1.A6CE6AEC-B645-4885-A995-99FF7A4B26A5_x29479_y\n"
     ]
    },
    {
     "name": "stdout",
     "output_type": "stream",
     "text": [
      "2025-09-08 14:45:26,162 [INFO] - Initializing Cell-Postprocessor\n",
      "2025-09-08 14:45:26,169 [INFO] - Finding edge-cells for merging\n",
      "2025-09-08 14:45:26,192 [INFO] - Removal of cells detected multiple times\n",
      "2025-09-08 14:45:26,220 [INFO] - Iteration 0: Found overlap of # cells: 0\n",
      "2025-09-08 14:45:26,221 [INFO] - Found all overlapping cells\n"
     ]
    },
    {
     "name": "stderr",
     "output_type": "stream",
     "text": [
      "\n",
      "Processing TCGA-IF-A4AJ-01Z-00-DX1.A6CE6AEC-B645-4885-A995-99FF7A4B26A5_10_regio"
     ]
    },
    {
     "name": "stdout",
     "output_type": "stream",
     "text": [
      "Processing region: TCGA-IF-A4AJ-01Z-00-DX1.A6CE6AEC-B645-4885-A995-99FF7A4B26A5_x50826_y47773\n"
     ]
    },
    {
     "name": "stderr",
     "output_type": "stream",
     "text": [
      "\n",
      "\n",
      "Processing TCGA-IF-A4AJ-01Z-00-DX1.A6CE6AEC-B645-4885-A995-99FF7A4B26A5_x50826_y\n",
      "\n",
      "Processing TCGA-IF-A4AJ-01Z-00-DX1.A6CE6AEC-B645-4885-A995-99FF7A4B26A5_x50826_y\n"
     ]
    },
    {
     "name": "stdout",
     "output_type": "stream",
     "text": [
      "2025-09-08 14:45:32,465 [INFO] - Initializing Cell-Postprocessor\n",
      "2025-09-08 14:45:32,470 [INFO] - Finding edge-cells for merging\n",
      "2025-09-08 14:45:32,480 [INFO] - Removal of cells detected multiple times\n",
      "2025-09-08 14:45:32,490 [INFO] - Iteration 0: Found overlap of # cells: 0\n",
      "2025-09-08 14:45:32,491 [INFO] - Found all overlapping cells\n"
     ]
    },
    {
     "name": "stderr",
     "output_type": "stream",
     "text": [
      "\n",
      "Processing TCGA-IF-A4AJ-01Z-00-DX1.A6CE6AEC-B645-4885-A995-99FF7A4B26A5_10_regio"
     ]
    },
    {
     "name": "stdout",
     "output_type": "stream",
     "text": [
      "Processing region: TCGA-IF-A4AJ-01Z-00-DX1.A6CE6AEC-B645-4885-A995-99FF7A4B26A5_x47777_y3049\n"
     ]
    },
    {
     "name": "stderr",
     "output_type": "stream",
     "text": [
      "\n",
      "\n",
      "Processing TCGA-IF-A4AJ-01Z-00-DX1.A6CE6AEC-B645-4885-A995-99FF7A4B26A5_x47777_y\n",
      "\n",
      "Processing TCGA-IF-A4AJ-01Z-00-DX1.A6CE6AEC-B645-4885-A995-99FF7A4B26A5_x47777_y\n"
     ]
    },
    {
     "name": "stdout",
     "output_type": "stream",
     "text": [
      "2025-09-08 14:45:38,943 [INFO] - Initializing Cell-Postprocessor\n",
      "2025-09-08 14:45:38,948 [INFO] - Finding edge-cells for merging\n",
      "2025-09-08 14:45:38,962 [INFO] - Removal of cells detected multiple times\n",
      "2025-09-08 14:45:38,981 [INFO] - Iteration 0: Found overlap of # cells: 0\n",
      "2025-09-08 14:45:38,982 [INFO] - Found all overlapping cells\n"
     ]
    },
    {
     "name": "stderr",
     "output_type": "stream",
     "text": [
      "\n",
      "Processing TCGA-IF-A4AJ-01Z-00-DX1.A6CE6AEC-B645-4885-A995-99FF7A4B26A5_10_regio"
     ]
    },
    {
     "name": "stdout",
     "output_type": "stream",
     "text": [
      "Processing region: TCGA-IF-A4AJ-01Z-00-DX1.A6CE6AEC-B645-4885-A995-99FF7A4B26A5_x56926_y31510\n"
     ]
    },
    {
     "name": "stderr",
     "output_type": "stream",
     "text": [
      "\n",
      "\n",
      "Processing TCGA-IF-A4AJ-01Z-00-DX1.A6CE6AEC-B645-4885-A995-99FF7A4B26A5_x56926_y\n",
      "\n",
      "Processing TCGA-IF-A4AJ-01Z-00-DX1.A6CE6AEC-B645-4885-A995-99FF7A4B26A5_x56926_y\n"
     ]
    },
    {
     "name": "stdout",
     "output_type": "stream",
     "text": [
      "2025-09-08 14:45:45,228 [INFO] - Initializing Cell-Postprocessor\n",
      "2025-09-08 14:45:45,235 [INFO] - Finding edge-cells for merging\n",
      "2025-09-08 14:45:45,252 [INFO] - Removal of cells detected multiple times\n",
      "2025-09-08 14:45:45,275 [INFO] - Iteration 0: Found overlap of # cells: 0\n",
      "2025-09-08 14:45:45,276 [INFO] - Found all overlapping cells\n"
     ]
    },
    {
     "name": "stderr",
     "output_type": "stream",
     "text": [
      "\n",
      "Processing TCGA-IF-A4AJ-01Z-00-DX1.A6CE6AEC-B645-4885-A995-99FF7A4B26A5_10_regio"
     ]
    },
    {
     "name": "stdout",
     "output_type": "stream",
     "text": [
      "Processing region: TCGA-IF-A4AJ-01Z-00-DX1.A6CE6AEC-B645-4885-A995-99FF7A4B26A5_x22363_y22362\n"
     ]
    },
    {
     "name": "stderr",
     "output_type": "stream",
     "text": [
      "\n",
      "\n",
      "Processing TCGA-IF-A4AJ-01Z-00-DX1.A6CE6AEC-B645-4885-A995-99FF7A4B26A5_x22363_y\n",
      "\n",
      "Processing TCGA-IF-A4AJ-01Z-00-DX1.A6CE6AEC-B645-4885-A995-99FF7A4B26A5_x22363_y\n"
     ]
    },
    {
     "name": "stdout",
     "output_type": "stream",
     "text": [
      "2025-09-08 14:45:51,712 [INFO] - Initializing Cell-Postprocessor\n",
      "2025-09-08 14:45:51,719 [INFO] - Finding edge-cells for merging\n",
      "2025-09-08 14:45:51,743 [INFO] - Removal of cells detected multiple times\n",
      "2025-09-08 14:45:51,780 [INFO] - Iteration 0: Found overlap of # cells: 0\n",
      "2025-09-08 14:45:51,781 [INFO] - Found all overlapping cells\n"
     ]
    },
    {
     "name": "stderr",
     "output_type": "stream",
     "text": [
      "\n",
      "Processing TCGA-IF-A4AJ-01Z-00-DX1.A6CE6AEC-B645-4885-A995-99FF7A4B26A5_10_regio"
     ]
    },
    {
     "name": "stdout",
     "output_type": "stream",
     "text": [
      "Processing region: TCGA-IF-A4AJ-01Z-00-DX1.A6CE6AEC-B645-4885-A995-99FF7A4B26A5_x47777_y50822\n"
     ]
    },
    {
     "name": "stderr",
     "output_type": "stream",
     "text": [
      "\n",
      "\n",
      "Processing TCGA-IF-A4AJ-01Z-00-DX1.A6CE6AEC-B645-4885-A995-99FF7A4B26A5_x47777_y\n",
      "\n",
      "Processing TCGA-IF-A4AJ-01Z-00-DX1.A6CE6AEC-B645-4885-A995-99FF7A4B26A5_x47777_y\n"
     ]
    },
    {
     "name": "stdout",
     "output_type": "stream",
     "text": [
      "2025-09-08 14:45:58,145 [INFO] - Initializing Cell-Postprocessor\n",
      "2025-09-08 14:45:58,152 [INFO] - Finding edge-cells for merging\n",
      "2025-09-08 14:45:58,174 [INFO] - Removal of cells detected multiple times\n",
      "2025-09-08 14:45:58,197 [INFO] - Iteration 0: Found overlap of # cells: 0\n",
      "2025-09-08 14:45:58,198 [INFO] - Found all overlapping cells\n"
     ]
    },
    {
     "name": "stderr",
     "output_type": "stream",
     "text": [
      "\n",
      "Processing TCGA-IF-A4AJ-01Z-00-DX1.A6CE6AEC-B645-4885-A995-99FF7A4B26A5_10_regio"
     ]
    },
    {
     "name": "stdout",
     "output_type": "stream",
     "text": [
      "Processing region: TCGA-IF-A4AJ-01Z-00-DX1.A6CE6AEC-B645-4885-A995-99FF7A4B26A5_x71157_y62003\n"
     ]
    },
    {
     "name": "stderr",
     "output_type": "stream",
     "text": [
      "\n",
      "\n",
      "Processing TCGA-IF-A4AJ-01Z-00-DX1.A6CE6AEC-B645-4885-A995-99FF7A4B26A5_x71157_y\n",
      "\n",
      "Processing TCGA-IF-A4AJ-01Z-00-DX1.A6CE6AEC-B645-4885-A995-99FF7A4B26A5_x71157_y\n"
     ]
    },
    {
     "name": "stdout",
     "output_type": "stream",
     "text": [
      "2025-09-08 14:46:04,429 [INFO] - Initializing Cell-Postprocessor\n",
      "2025-09-08 14:46:04,437 [INFO] - Finding edge-cells for merging\n",
      "2025-09-08 14:46:04,453 [INFO] - Removal of cells detected multiple times\n",
      "2025-09-08 14:46:04,470 [INFO] - Iteration 0: Found overlap of # cells: 0\n",
      "2025-09-08 14:46:04,472 [INFO] - Found all overlapping cells\n"
     ]
    },
    {
     "name": "stderr",
     "output_type": "stream",
     "text": [
      "\n",
      "Processing TCGA-IF-A4AJ-01Z-00-DX1.A6CE6AEC-B645-4885-A995-99FF7A4B26A5_10_regio"
     ]
    },
    {
     "name": "stdout",
     "output_type": "stream",
     "text": [
      "Processing region: TCGA-IF-A4AJ-01Z-00-DX1.A6CE6AEC-B645-4885-A995-99FF7A4B26A5_x54893_y39641\n"
     ]
    },
    {
     "name": "stderr",
     "output_type": "stream",
     "text": [
      "\n",
      "\n",
      "Processing TCGA-IF-A4AJ-01Z-00-DX1.A6CE6AEC-B645-4885-A995-99FF7A4B26A5_x54893_y\n",
      "\n",
      "Processing TCGA-IF-A4AJ-01Z-00-DX1.A6CE6AEC-B645-4885-A995-99FF7A4B26A5_x54893_y\n"
     ]
    },
    {
     "name": "stdout",
     "output_type": "stream",
     "text": [
      "2025-09-08 14:46:10,671 [INFO] - Initializing Cell-Postprocessor\n",
      "2025-09-08 14:46:10,676 [INFO] - Finding edge-cells for merging\n",
      "2025-09-08 14:46:10,688 [INFO] - Removal of cells detected multiple times\n",
      "2025-09-08 14:46:10,700 [INFO] - Iteration 0: Found overlap of # cells: 0\n",
      "2025-09-08 14:46:10,701 [INFO] - Found all overlapping cells\n"
     ]
    },
    {
     "name": "stderr",
     "output_type": "stream",
     "text": [
      "\n",
      "Processing TCGA-IF-A4AJ-01Z-00-DX1.A6CE6AEC-B645-4885-A995-99FF7A4B26A5_10_regio"
     ]
    },
    {
     "name": "stdout",
     "output_type": "stream",
     "text": [
      "Processing region: TCGA-IF-A4AJ-01Z-00-DX1.A6CE6AEC-B645-4885-A995-99FF7A4B26A5_x67091_y56921\n"
     ]
    },
    {
     "name": "stderr",
     "output_type": "stream",
     "text": [
      "\n",
      "\n",
      "Processing TCGA-IF-A4AJ-01Z-00-DX1.A6CE6AEC-B645-4885-A995-99FF7A4B26A5_x67091_y\n",
      "\n",
      "Processing TCGA-IF-A4AJ-01Z-00-DX1.A6CE6AEC-B645-4885-A995-99FF7A4B26A5_x67091_y\n"
     ]
    },
    {
     "name": "stdout",
     "output_type": "stream",
     "text": [
      "2025-09-08 14:46:16,916 [INFO] - Initializing Cell-Postprocessor\n",
      "2025-09-08 14:46:16,923 [INFO] - Finding edge-cells for merging\n",
      "2025-09-08 14:46:16,940 [INFO] - Removal of cells detected multiple times\n",
      "2025-09-08 14:46:16,966 [INFO] - Iteration 0: Found overlap of # cells: 0\n",
      "2025-09-08 14:46:16,967 [INFO] - Found all overlapping cells\n"
     ]
    },
    {
     "name": "stderr",
     "output_type": "stream",
     "text": [
      "\n",
      "Processing TCGA-IF-A4AJ-01Z-00-DX1.A6CE6AEC-B645-4885-A995-99FF7A4B26A5_10_regio"
     ]
    },
    {
     "name": "stdout",
     "output_type": "stream",
     "text": [
      "Processing region: TCGA-IF-A4AJ-01Z-00-DX1.A6CE6AEC-B645-4885-A995-99FF7A4B26A5_x43711_y14230\n"
     ]
    },
    {
     "name": "stderr",
     "output_type": "stream",
     "text": [
      "\n",
      "\n",
      "Processing TCGA-IF-A4AJ-01Z-00-DX1.A6CE6AEC-B645-4885-A995-99FF7A4B26A5_x43711_y\n",
      "\n",
      "Processing TCGA-IF-A4AJ-01Z-00-DX1.A6CE6AEC-B645-4885-A995-99FF7A4B26A5_x43711_y\n"
     ]
    },
    {
     "name": "stdout",
     "output_type": "stream",
     "text": [
      "2025-09-08 14:46:23,158 [INFO] - Initializing Cell-Postprocessor\n",
      "2025-09-08 14:46:23,165 [INFO] - Finding edge-cells for merging\n",
      "2025-09-08 14:46:23,181 [INFO] - Removal of cells detected multiple times\n",
      "2025-09-08 14:46:23,196 [INFO] - Iteration 0: Found overlap of # cells: 0\n",
      "2025-09-08 14:46:23,198 [INFO] - Found all overlapping cells\n"
     ]
    },
    {
     "name": "stderr",
     "output_type": "stream",
     "text": [
      "\n",
      "Processing TCGA-IF-A4AJ-01Z-00-DX1.A6CE6AEC-B645-4885-A995-99FF7A4B26A5_10_regio\n",
      "Processing folders:  67%|███████████████▎       | 10/15 [10:50<05:22, 64.50s/it]"
     ]
    },
    {
     "name": "stdout",
     "output_type": "stream",
     "text": [
      "Processing 10 images in TCGA-2G-AAKL-01Z-00-DX1.8F6ABEA4-7BB1-483B-9B86-210D6132130E_10_regions\n"
     ]
    },
    {
     "name": "stderr",
     "output_type": "stream",
     "text": [
      "\n",
      "Processing TCGA-2G-AAKL-01Z-00-DX1.8F6ABEA4-7BB1-483B-9B86-210D6132130E_10_regio"
     ]
    },
    {
     "name": "stdout",
     "output_type": "stream",
     "text": [
      "Processing region: TCGA-2G-AAKL-01Z-00-DX1.8F6ABEA4-7BB1-483B-9B86-210D6132130E_x48965_y27543\n"
     ]
    },
    {
     "name": "stderr",
     "output_type": "stream",
     "text": [
      "\n",
      "\n",
      "Processing TCGA-2G-AAKL-01Z-00-DX1.8F6ABEA4-7BB1-483B-9B86-210D6132130E_x48965_y\n",
      "\n",
      "Processing TCGA-2G-AAKL-01Z-00-DX1.8F6ABEA4-7BB1-483B-9B86-210D6132130E_x48965_y\n"
     ]
    },
    {
     "name": "stdout",
     "output_type": "stream",
     "text": [
      "2025-09-08 14:46:29,525 [INFO] - Initializing Cell-Postprocessor\n",
      "2025-09-08 14:46:29,532 [INFO] - Finding edge-cells for merging\n",
      "2025-09-08 14:46:29,552 [INFO] - Removal of cells detected multiple times\n",
      "2025-09-08 14:46:29,578 [INFO] - Iteration 0: Found overlap of # cells: 0\n",
      "2025-09-08 14:46:29,580 [INFO] - Found all overlapping cells\n"
     ]
    },
    {
     "name": "stderr",
     "output_type": "stream",
     "text": [
      "\n",
      "Processing TCGA-2G-AAKL-01Z-00-DX1.8F6ABEA4-7BB1-483B-9B86-210D6132130E_10_regio"
     ]
    },
    {
     "name": "stdout",
     "output_type": "stream",
     "text": [
      "Processing region: TCGA-2G-AAKL-01Z-00-DX1.8F6ABEA4-7BB1-483B-9B86-210D6132130E_x76509_y25502\n"
     ]
    },
    {
     "name": "stderr",
     "output_type": "stream",
     "text": [
      "\n",
      "\n",
      "Processing TCGA-2G-AAKL-01Z-00-DX1.8F6ABEA4-7BB1-483B-9B86-210D6132130E_x76509_y\n",
      "\n",
      "Processing TCGA-2G-AAKL-01Z-00-DX1.8F6ABEA4-7BB1-483B-9B86-210D6132130E_x76509_y\n"
     ]
    },
    {
     "name": "stdout",
     "output_type": "stream",
     "text": [
      "2025-09-08 14:46:36,280 [INFO] - Initializing Cell-Postprocessor\n",
      "2025-09-08 14:46:36,286 [INFO] - Finding edge-cells for merging\n",
      "2025-09-08 14:46:36,329 [INFO] - Removal of cells detected multiple times\n",
      "2025-09-08 14:46:36,395 [INFO] - Iteration 0: Found overlap of # cells: 0\n",
      "2025-09-08 14:46:36,397 [INFO] - Found all overlapping cells\n"
     ]
    },
    {
     "name": "stderr",
     "output_type": "stream",
     "text": [
      "\n",
      "Processing TCGA-2G-AAKL-01Z-00-DX1.8F6ABEA4-7BB1-483B-9B86-210D6132130E_10_regio"
     ]
    },
    {
     "name": "stdout",
     "output_type": "stream",
     "text": [
      "Processing region: TCGA-2G-AAKL-01Z-00-DX1.8F6ABEA4-7BB1-483B-9B86-210D6132130E_x39784_y31623\n"
     ]
    },
    {
     "name": "stderr",
     "output_type": "stream",
     "text": [
      "\n",
      "\n",
      "Processing TCGA-2G-AAKL-01Z-00-DX1.8F6ABEA4-7BB1-483B-9B86-210D6132130E_x39784_y\n",
      "\n",
      "Processing TCGA-2G-AAKL-01Z-00-DX1.8F6ABEA4-7BB1-483B-9B86-210D6132130E_x39784_y\n"
     ]
    },
    {
     "name": "stdout",
     "output_type": "stream",
     "text": [
      "2025-09-08 14:46:42,744 [INFO] - Initializing Cell-Postprocessor\n",
      "2025-09-08 14:46:42,752 [INFO] - Finding edge-cells for merging\n",
      "2025-09-08 14:46:42,778 [INFO] - Removal of cells detected multiple times\n",
      "2025-09-08 14:46:42,808 [INFO] - Iteration 0: Found overlap of # cells: 0\n",
      "2025-09-08 14:46:42,809 [INFO] - Found all overlapping cells\n"
     ]
    },
    {
     "name": "stderr",
     "output_type": "stream",
     "text": [
      "\n",
      "Processing TCGA-2G-AAKL-01Z-00-DX1.8F6ABEA4-7BB1-483B-9B86-210D6132130E_10_regio"
     ]
    },
    {
     "name": "stdout",
     "output_type": "stream",
     "text": [
      "Processing region: TCGA-2G-AAKL-01Z-00-DX1.8F6ABEA4-7BB1-483B-9B86-210D6132130E_x48965_y44884\n"
     ]
    },
    {
     "name": "stderr",
     "output_type": "stream",
     "text": [
      "\n",
      "\n",
      "Processing TCGA-2G-AAKL-01Z-00-DX1.8F6ABEA4-7BB1-483B-9B86-210D6132130E_x48965_y\n",
      "\n",
      "Processing TCGA-2G-AAKL-01Z-00-DX1.8F6ABEA4-7BB1-483B-9B86-210D6132130E_x48965_y\n"
     ]
    },
    {
     "name": "stdout",
     "output_type": "stream",
     "text": [
      "2025-09-08 14:46:49,060 [INFO] - Initializing Cell-Postprocessor\n",
      "2025-09-08 14:46:49,065 [INFO] - Finding edge-cells for merging\n",
      "2025-09-08 14:46:49,077 [INFO] - Removal of cells detected multiple times\n",
      "2025-09-08 14:46:49,093 [INFO] - Iteration 0: Found overlap of # cells: 0\n",
      "2025-09-08 14:46:49,095 [INFO] - Found all overlapping cells\n"
     ]
    },
    {
     "name": "stderr",
     "output_type": "stream",
     "text": [
      "\n",
      "Processing TCGA-2G-AAKL-01Z-00-DX1.8F6ABEA4-7BB1-483B-9B86-210D6132130E_10_regio"
     ]
    },
    {
     "name": "stdout",
     "output_type": "stream",
     "text": [
      "Processing region: TCGA-2G-AAKL-01Z-00-DX1.8F6ABEA4-7BB1-483B-9B86-210D6132130E_x63247_y16321\n"
     ]
    },
    {
     "name": "stderr",
     "output_type": "stream",
     "text": [
      "\n",
      "\n",
      "Processing TCGA-2G-AAKL-01Z-00-DX1.8F6ABEA4-7BB1-483B-9B86-210D6132130E_x63247_y\n",
      "\n",
      "Processing TCGA-2G-AAKL-01Z-00-DX1.8F6ABEA4-7BB1-483B-9B86-210D6132130E_x63247_y\n"
     ]
    },
    {
     "name": "stdout",
     "output_type": "stream",
     "text": [
      "2025-09-08 14:46:55,600 [INFO] - Initializing Cell-Postprocessor\n",
      "2025-09-08 14:46:55,607 [INFO] - Finding edge-cells for merging\n",
      "2025-09-08 14:46:55,634 [INFO] - Removal of cells detected multiple times\n",
      "2025-09-08 14:46:55,671 [INFO] - Iteration 0: Found overlap of # cells: 0\n",
      "2025-09-08 14:46:55,672 [INFO] - Found all overlapping cells\n"
     ]
    },
    {
     "name": "stderr",
     "output_type": "stream",
     "text": [
      "\n",
      "Processing TCGA-2G-AAKL-01Z-00-DX1.8F6ABEA4-7BB1-483B-9B86-210D6132130E_10_regio"
     ]
    },
    {
     "name": "stdout",
     "output_type": "stream",
     "text": [
      "Processing region: TCGA-2G-AAKL-01Z-00-DX1.8F6ABEA4-7BB1-483B-9B86-210D6132130E_x34684_y35703\n"
     ]
    },
    {
     "name": "stderr",
     "output_type": "stream",
     "text": [
      "\n",
      "\n",
      "Processing TCGA-2G-AAKL-01Z-00-DX1.8F6ABEA4-7BB1-483B-9B86-210D6132130E_x34684_y\n",
      "\n",
      "Processing TCGA-2G-AAKL-01Z-00-DX1.8F6ABEA4-7BB1-483B-9B86-210D6132130E_x34684_y\n"
     ]
    },
    {
     "name": "stdout",
     "output_type": "stream",
     "text": [
      "2025-09-08 14:47:02,181 [INFO] - Initializing Cell-Postprocessor\n",
      "2025-09-08 14:47:02,186 [INFO] - Finding edge-cells for merging\n",
      "2025-09-08 14:47:02,198 [INFO] - Removal of cells detected multiple times\n",
      "2025-09-08 14:47:02,214 [INFO] - Iteration 0: Found overlap of # cells: 0\n",
      "2025-09-08 14:47:02,215 [INFO] - Found all overlapping cells\n"
     ]
    },
    {
     "name": "stderr",
     "output_type": "stream",
     "text": [
      "\n",
      "Processing TCGA-2G-AAKL-01Z-00-DX1.8F6ABEA4-7BB1-483B-9B86-210D6132130E_10_regio"
     ]
    },
    {
     "name": "stdout",
     "output_type": "stream",
     "text": [
      "Processing region: TCGA-2G-AAKL-01Z-00-DX1.8F6ABEA4-7BB1-483B-9B86-210D6132130E_x76509_y11221\n"
     ]
    },
    {
     "name": "stderr",
     "output_type": "stream",
     "text": [
      "\n",
      "\n",
      "Processing TCGA-2G-AAKL-01Z-00-DX1.8F6ABEA4-7BB1-483B-9B86-210D6132130E_x76509_y\n",
      "\n",
      "Processing TCGA-2G-AAKL-01Z-00-DX1.8F6ABEA4-7BB1-483B-9B86-210D6132130E_x76509_y\n"
     ]
    },
    {
     "name": "stdout",
     "output_type": "stream",
     "text": [
      "2025-09-08 14:47:08,658 [INFO] - Initializing Cell-Postprocessor\n",
      "2025-09-08 14:47:08,666 [INFO] - Finding edge-cells for merging\n",
      "2025-09-08 14:47:08,695 [INFO] - Removal of cells detected multiple times\n",
      "2025-09-08 14:47:08,732 [INFO] - Iteration 0: Found overlap of # cells: 0\n",
      "2025-09-08 14:47:08,734 [INFO] - Found all overlapping cells\n"
     ]
    },
    {
     "name": "stderr",
     "output_type": "stream",
     "text": [
      "\n",
      "Processing TCGA-2G-AAKL-01Z-00-DX1.8F6ABEA4-7BB1-483B-9B86-210D6132130E_10_regio"
     ]
    },
    {
     "name": "stdout",
     "output_type": "stream",
     "text": [
      "Processing region: TCGA-2G-AAKL-01Z-00-DX1.8F6ABEA4-7BB1-483B-9B86-210D6132130E_x67328_y41824\n"
     ]
    },
    {
     "name": "stderr",
     "output_type": "stream",
     "text": [
      "\n",
      "\n",
      "Processing TCGA-2G-AAKL-01Z-00-DX1.8F6ABEA4-7BB1-483B-9B86-210D6132130E_x67328_y\n",
      "\n",
      "Processing TCGA-2G-AAKL-01Z-00-DX1.8F6ABEA4-7BB1-483B-9B86-210D6132130E_x67328_y\n"
     ]
    },
    {
     "name": "stdout",
     "output_type": "stream",
     "text": [
      "2025-09-08 14:47:15,072 [INFO] - Initializing Cell-Postprocessor\n",
      "2025-09-08 14:47:15,080 [INFO] - Finding edge-cells for merging\n",
      "2025-09-08 14:47:15,103 [INFO] - Removal of cells detected multiple times\n",
      "2025-09-08 14:47:15,129 [INFO] - Iteration 0: Found overlap of # cells: 0\n",
      "2025-09-08 14:47:15,131 [INFO] - Found all overlapping cells\n"
     ]
    },
    {
     "name": "stderr",
     "output_type": "stream",
     "text": [
      "\n",
      "Processing TCGA-2G-AAKL-01Z-00-DX1.8F6ABEA4-7BB1-483B-9B86-210D6132130E_10_regio"
     ]
    },
    {
     "name": "stdout",
     "output_type": "stream",
     "text": [
      "Processing region: TCGA-2G-AAKL-01Z-00-DX1.8F6ABEA4-7BB1-483B-9B86-210D6132130E_x36724_y42844\n"
     ]
    },
    {
     "name": "stderr",
     "output_type": "stream",
     "text": [
      "\n",
      "\n",
      "Processing TCGA-2G-AAKL-01Z-00-DX1.8F6ABEA4-7BB1-483B-9B86-210D6132130E_x36724_y\n",
      "\n",
      "Processing TCGA-2G-AAKL-01Z-00-DX1.8F6ABEA4-7BB1-483B-9B86-210D6132130E_x36724_y\n"
     ]
    },
    {
     "name": "stdout",
     "output_type": "stream",
     "text": [
      "2025-09-08 14:47:21,615 [INFO] - Initializing Cell-Postprocessor\n",
      "2025-09-08 14:47:21,623 [INFO] - Finding edge-cells for merging\n",
      "2025-09-08 14:47:21,650 [INFO] - Removal of cells detected multiple times\n",
      "2025-09-08 14:47:21,690 [INFO] - Iteration 0: Found overlap of # cells: 0\n",
      "2025-09-08 14:47:21,691 [INFO] - Found all overlapping cells\n"
     ]
    },
    {
     "name": "stderr",
     "output_type": "stream",
     "text": [
      "\n",
      "Processing TCGA-2G-AAKL-01Z-00-DX1.8F6ABEA4-7BB1-483B-9B86-210D6132130E_10_regio"
     ]
    },
    {
     "name": "stdout",
     "output_type": "stream",
     "text": [
      "Processing region: TCGA-2G-AAKL-01Z-00-DX1.8F6ABEA4-7BB1-483B-9B86-210D6132130E_x69368_y19382\n"
     ]
    },
    {
     "name": "stderr",
     "output_type": "stream",
     "text": [
      "\n",
      "\n",
      "Processing TCGA-2G-AAKL-01Z-00-DX1.8F6ABEA4-7BB1-483B-9B86-210D6132130E_x69368_y\n",
      "\n",
      "Processing TCGA-2G-AAKL-01Z-00-DX1.8F6ABEA4-7BB1-483B-9B86-210D6132130E_x69368_y\n"
     ]
    },
    {
     "name": "stdout",
     "output_type": "stream",
     "text": [
      "2025-09-08 14:47:28,310 [INFO] - Initializing Cell-Postprocessor\n",
      "2025-09-08 14:47:28,317 [INFO] - Finding edge-cells for merging\n",
      "2025-09-08 14:47:28,348 [INFO] - Removal of cells detected multiple times\n",
      "2025-09-08 14:47:28,402 [INFO] - Iteration 0: Found overlap of # cells: 0\n",
      "2025-09-08 14:47:28,403 [INFO] - Found all overlapping cells\n"
     ]
    },
    {
     "name": "stderr",
     "output_type": "stream",
     "text": [
      "\n",
      "Processing TCGA-2G-AAKL-01Z-00-DX1.8F6ABEA4-7BB1-483B-9B86-210D6132130E_10_regio\n",
      "Processing folders:  73%|████████████████▊      | 11/15 [11:56<04:18, 64.72s/it]"
     ]
    },
    {
     "name": "stdout",
     "output_type": "stream",
     "text": [
      "Processing 10 images in TCGA-WD-A7RX-01Z-00-DX1.9489CBFD-8D05-46C9-B6A3-55684E29862A_10_regions\n"
     ]
    },
    {
     "name": "stderr",
     "output_type": "stream",
     "text": [
      "\n",
      "Processing TCGA-WD-A7RX-01Z-00-DX1.9489CBFD-8D05-46C9-B6A3-55684E29862A_10_regio"
     ]
    },
    {
     "name": "stdout",
     "output_type": "stream",
     "text": [
      "Processing region: TCGA-WD-A7RX-01Z-00-DX1.9489CBFD-8D05-46C9-B6A3-55684E29862A_x82942_y68781\n"
     ]
    },
    {
     "name": "stderr",
     "output_type": "stream",
     "text": [
      "\n",
      "\n",
      "Processing TCGA-WD-A7RX-01Z-00-DX1.9489CBFD-8D05-46C9-B6A3-55684E29862A_x82942_y\n",
      "\n",
      "Processing TCGA-WD-A7RX-01Z-00-DX1.9489CBFD-8D05-46C9-B6A3-55684E29862A_x82942_y\n"
     ]
    },
    {
     "name": "stdout",
     "output_type": "stream",
     "text": [
      "2025-09-08 14:47:34,961 [INFO] - Initializing Cell-Postprocessor\n",
      "2025-09-08 14:47:34,969 [INFO] - Finding edge-cells for merging\n",
      "2025-09-08 14:47:34,994 [INFO] - Removal of cells detected multiple times\n",
      "2025-09-08 14:47:35,045 [INFO] - Iteration 0: Found overlap of # cells: 0\n",
      "2025-09-08 14:47:35,047 [INFO] - Found all overlapping cells\n"
     ]
    },
    {
     "name": "stderr",
     "output_type": "stream",
     "text": [
      "\n",
      "Processing TCGA-WD-A7RX-01Z-00-DX1.9489CBFD-8D05-46C9-B6A3-55684E29862A_10_regio"
     ]
    },
    {
     "name": "stdout",
     "output_type": "stream",
     "text": [
      "Processing region: TCGA-WD-A7RX-01Z-00-DX1.9489CBFD-8D05-46C9-B6A3-55684E29862A_x75862_y80919\n"
     ]
    },
    {
     "name": "stderr",
     "output_type": "stream",
     "text": [
      "\n",
      "\n",
      "Processing TCGA-WD-A7RX-01Z-00-DX1.9489CBFD-8D05-46C9-B6A3-55684E29862A_x75862_y\n",
      "\n",
      "Processing TCGA-WD-A7RX-01Z-00-DX1.9489CBFD-8D05-46C9-B6A3-55684E29862A_x75862_y\n"
     ]
    },
    {
     "name": "stdout",
     "output_type": "stream",
     "text": [
      "2025-09-08 14:47:41,714 [INFO] - Initializing Cell-Postprocessor\n",
      "2025-09-08 14:47:41,721 [INFO] - Finding edge-cells for merging\n",
      "2025-09-08 14:47:41,748 [INFO] - Removal of cells detected multiple times\n",
      "2025-09-08 14:47:41,806 [INFO] - Iteration 0: Found overlap of # cells: 0\n",
      "2025-09-08 14:47:41,807 [INFO] - Found all overlapping cells\n"
     ]
    },
    {
     "name": "stderr",
     "output_type": "stream",
     "text": [
      "\n",
      "Processing TCGA-WD-A7RX-01Z-00-DX1.9489CBFD-8D05-46C9-B6A3-55684E29862A_10_regio"
     ]
    },
    {
     "name": "stdout",
     "output_type": "stream",
     "text": [
      "Processing region: TCGA-WD-A7RX-01Z-00-DX1.9489CBFD-8D05-46C9-B6A3-55684E29862A_x74850_y84965\n"
     ]
    },
    {
     "name": "stderr",
     "output_type": "stream",
     "text": [
      "\n",
      "\n",
      "Processing TCGA-WD-A7RX-01Z-00-DX1.9489CBFD-8D05-46C9-B6A3-55684E29862A_x74850_y\n",
      "\n",
      "Processing TCGA-WD-A7RX-01Z-00-DX1.9489CBFD-8D05-46C9-B6A3-55684E29862A_x74850_y\n"
     ]
    },
    {
     "name": "stdout",
     "output_type": "stream",
     "text": [
      "2025-09-08 14:47:48,245 [INFO] - Initializing Cell-Postprocessor\n",
      "2025-09-08 14:47:48,254 [INFO] - Finding edge-cells for merging\n",
      "2025-09-08 14:47:48,273 [INFO] - Removal of cells detected multiple times\n",
      "2025-09-08 14:47:48,301 [INFO] - Iteration 0: Found overlap of # cells: 0\n",
      "2025-09-08 14:47:48,303 [INFO] - Found all overlapping cells\n"
     ]
    },
    {
     "name": "stderr",
     "output_type": "stream",
     "text": [
      "\n",
      "Processing TCGA-WD-A7RX-01Z-00-DX1.9489CBFD-8D05-46C9-B6A3-55684E29862A_10_regio"
     ]
    },
    {
     "name": "stdout",
     "output_type": "stream",
     "text": [
      "Processing region: TCGA-WD-A7RX-01Z-00-DX1.9489CBFD-8D05-46C9-B6A3-55684E29862A_x60689_y39448\n"
     ]
    },
    {
     "name": "stderr",
     "output_type": "stream",
     "text": [
      "\n",
      "\n",
      "Processing TCGA-WD-A7RX-01Z-00-DX1.9489CBFD-8D05-46C9-B6A3-55684E29862A_x60689_y\n",
      "\n",
      "Processing TCGA-WD-A7RX-01Z-00-DX1.9489CBFD-8D05-46C9-B6A3-55684E29862A_x60689_y\n"
     ]
    },
    {
     "name": "stdout",
     "output_type": "stream",
     "text": [
      "2025-09-08 14:47:54,972 [INFO] - Initializing Cell-Postprocessor\n",
      "2025-09-08 14:47:54,981 [INFO] - Finding edge-cells for merging\n",
      "2025-09-08 14:47:55,019 [INFO] - Removal of cells detected multiple times\n",
      "2025-09-08 14:47:55,074 [INFO] - Iteration 0: Found overlap of # cells: 0\n",
      "2025-09-08 14:47:55,075 [INFO] - Found all overlapping cells\n"
     ]
    },
    {
     "name": "stderr",
     "output_type": "stream",
     "text": [
      "\n",
      "Processing TCGA-WD-A7RX-01Z-00-DX1.9489CBFD-8D05-46C9-B6A3-55684E29862A_10_regio"
     ]
    },
    {
     "name": "stdout",
     "output_type": "stream",
     "text": [
      "Processing region: TCGA-WD-A7RX-01Z-00-DX1.9489CBFD-8D05-46C9-B6A3-55684E29862A_x107218_y32367\n"
     ]
    },
    {
     "name": "stderr",
     "output_type": "stream",
     "text": [
      "\n",
      "\n",
      "Processing TCGA-WD-A7RX-01Z-00-DX1.9489CBFD-8D05-46C9-B6A3-55684E29862A_x107218_\n",
      "\n",
      "Processing TCGA-WD-A7RX-01Z-00-DX1.9489CBFD-8D05-46C9-B6A3-55684E29862A_x107218_\n"
     ]
    },
    {
     "name": "stdout",
     "output_type": "stream",
     "text": [
      "2025-09-08 14:48:01,334 [INFO] - Initializing Cell-Postprocessor\n",
      "2025-09-08 14:48:01,340 [INFO] - Finding edge-cells for merging\n",
      "2025-09-08 14:48:01,354 [INFO] - Removal of cells detected multiple times\n",
      "2025-09-08 14:48:01,363 [INFO] - Iteration 0: Found overlap of # cells: 0\n",
      "2025-09-08 14:48:01,364 [INFO] - Found all overlapping cells\n"
     ]
    },
    {
     "name": "stderr",
     "output_type": "stream",
     "text": [
      "\n",
      "Processing TCGA-WD-A7RX-01Z-00-DX1.9489CBFD-8D05-46C9-B6A3-55684E29862A_10_regio"
     ]
    },
    {
     "name": "stdout",
     "output_type": "stream",
     "text": [
      "Processing region: TCGA-WD-A7RX-01Z-00-DX1.9489CBFD-8D05-46C9-B6A3-55684E29862A_x37425_y65747\n"
     ]
    },
    {
     "name": "stderr",
     "output_type": "stream",
     "text": [
      "\n",
      "\n",
      "Processing TCGA-WD-A7RX-01Z-00-DX1.9489CBFD-8D05-46C9-B6A3-55684E29862A_x37425_y\n",
      "\n",
      "Processing TCGA-WD-A7RX-01Z-00-DX1.9489CBFD-8D05-46C9-B6A3-55684E29862A_x37425_y\n"
     ]
    },
    {
     "name": "stdout",
     "output_type": "stream",
     "text": [
      "2025-09-08 14:48:08,134 [INFO] - Initializing Cell-Postprocessor\n",
      "2025-09-08 14:48:08,138 [INFO] - Finding edge-cells for merging\n",
      "2025-09-08 14:48:08,156 [INFO] - Removal of cells detected multiple times\n",
      "2025-09-08 14:48:08,184 [INFO] - Iteration 0: Found overlap of # cells: 0\n",
      "2025-09-08 14:48:08,185 [INFO] - Found all overlapping cells\n"
     ]
    },
    {
     "name": "stderr",
     "output_type": "stream",
     "text": [
      "\n",
      "Processing TCGA-WD-A7RX-01Z-00-DX1.9489CBFD-8D05-46C9-B6A3-55684E29862A_10_regio"
     ]
    },
    {
     "name": "stdout",
     "output_type": "stream",
     "text": [
      "Processing region: TCGA-WD-A7RX-01Z-00-DX1.9489CBFD-8D05-46C9-B6A3-55684E29862A_x102161_y62712\n"
     ]
    },
    {
     "name": "stderr",
     "output_type": "stream",
     "text": [
      "\n",
      "\n",
      "Processing TCGA-WD-A7RX-01Z-00-DX1.9489CBFD-8D05-46C9-B6A3-55684E29862A_x102161_\n",
      "\n",
      "Processing TCGA-WD-A7RX-01Z-00-DX1.9489CBFD-8D05-46C9-B6A3-55684E29862A_x102161_\n"
     ]
    },
    {
     "name": "stdout",
     "output_type": "stream",
     "text": [
      "2025-09-08 14:48:14,538 [INFO] - Initializing Cell-Postprocessor\n",
      "2025-09-08 14:48:14,545 [INFO] - Finding edge-cells for merging\n",
      "2025-09-08 14:48:14,564 [INFO] - Removal of cells detected multiple times\n",
      "2025-09-08 14:48:14,594 [INFO] - Iteration 0: Found overlap of # cells: 0\n",
      "2025-09-08 14:48:14,595 [INFO] - Found all overlapping cells\n"
     ]
    },
    {
     "name": "stderr",
     "output_type": "stream",
     "text": [
      "\n",
      "Processing TCGA-WD-A7RX-01Z-00-DX1.9489CBFD-8D05-46C9-B6A3-55684E29862A_10_regio"
     ]
    },
    {
     "name": "stdout",
     "output_type": "stream",
     "text": [
      "Processing region: TCGA-WD-A7RX-01Z-00-DX1.9489CBFD-8D05-46C9-B6A3-55684E29862A_x23264_y21241\n"
     ]
    },
    {
     "name": "stderr",
     "output_type": "stream",
     "text": [
      "\n",
      "\n",
      "Processing TCGA-WD-A7RX-01Z-00-DX1.9489CBFD-8D05-46C9-B6A3-55684E29862A_x23264_y\n",
      "\n",
      "Processing TCGA-WD-A7RX-01Z-00-DX1.9489CBFD-8D05-46C9-B6A3-55684E29862A_x23264_y\n"
     ]
    },
    {
     "name": "stdout",
     "output_type": "stream",
     "text": [
      "2025-09-08 14:48:21,100 [INFO] - Initializing Cell-Postprocessor\n",
      "2025-09-08 14:48:21,107 [INFO] - Finding edge-cells for merging\n",
      "2025-09-08 14:48:21,133 [INFO] - Removal of cells detected multiple times\n",
      "2025-09-08 14:48:21,176 [INFO] - Iteration 0: Found overlap of # cells: 0\n",
      "2025-09-08 14:48:21,177 [INFO] - Found all overlapping cells\n"
     ]
    },
    {
     "name": "stderr",
     "output_type": "stream",
     "text": [
      "\n",
      "Processing TCGA-WD-A7RX-01Z-00-DX1.9489CBFD-8D05-46C9-B6A3-55684E29862A_10_regio"
     ]
    },
    {
     "name": "stdout",
     "output_type": "stream",
     "text": [
      "Processing region: TCGA-WD-A7RX-01Z-00-DX1.9489CBFD-8D05-46C9-B6A3-55684E29862A_x106207_y27310\n"
     ]
    },
    {
     "name": "stderr",
     "output_type": "stream",
     "text": [
      "\n",
      "\n",
      "Processing TCGA-WD-A7RX-01Z-00-DX1.9489CBFD-8D05-46C9-B6A3-55684E29862A_x106207_\n",
      "\n",
      "Processing TCGA-WD-A7RX-01Z-00-DX1.9489CBFD-8D05-46C9-B6A3-55684E29862A_x106207_\n"
     ]
    },
    {
     "name": "stdout",
     "output_type": "stream",
     "text": [
      "2025-09-08 14:48:27,696 [INFO] - Initializing Cell-Postprocessor\n",
      "2025-09-08 14:48:27,702 [INFO] - Finding edge-cells for merging\n",
      "2025-09-08 14:48:27,722 [INFO] - Removal of cells detected multiple times\n",
      "2025-09-08 14:48:27,760 [INFO] - Iteration 0: Found overlap of # cells: 0\n",
      "2025-09-08 14:48:27,762 [INFO] - Found all overlapping cells\n"
     ]
    },
    {
     "name": "stderr",
     "output_type": "stream",
     "text": [
      "\n",
      "Processing TCGA-WD-A7RX-01Z-00-DX1.9489CBFD-8D05-46C9-B6A3-55684E29862A_10_regio"
     ]
    },
    {
     "name": "stdout",
     "output_type": "stream",
     "text": [
      "Processing region: TCGA-WD-A7RX-01Z-00-DX1.9489CBFD-8D05-46C9-B6A3-55684E29862A_x101149_y38436\n"
     ]
    },
    {
     "name": "stderr",
     "output_type": "stream",
     "text": [
      "\n",
      "\n",
      "Processing TCGA-WD-A7RX-01Z-00-DX1.9489CBFD-8D05-46C9-B6A3-55684E29862A_x101149_\n",
      "\n",
      "Processing TCGA-WD-A7RX-01Z-00-DX1.9489CBFD-8D05-46C9-B6A3-55684E29862A_x101149_\n"
     ]
    },
    {
     "name": "stdout",
     "output_type": "stream",
     "text": [
      "2025-09-08 14:48:34,041 [INFO] - Initializing Cell-Postprocessor\n",
      "2025-09-08 14:48:34,048 [INFO] - Finding edge-cells for merging\n",
      "2025-09-08 14:48:34,071 [INFO] - Removal of cells detected multiple times\n",
      "2025-09-08 14:48:34,101 [INFO] - Iteration 0: Found overlap of # cells: 0\n",
      "2025-09-08 14:48:34,102 [INFO] - Found all overlapping cells\n"
     ]
    },
    {
     "name": "stderr",
     "output_type": "stream",
     "text": [
      "\n",
      "Processing TCGA-WD-A7RX-01Z-00-DX1.9489CBFD-8D05-46C9-B6A3-55684E29862A_10_regio\n",
      "Processing folders:  80%|██████████████████▍    | 12/15 [13:01<03:15, 65.02s/it]"
     ]
    },
    {
     "name": "stdout",
     "output_type": "stream",
     "text": [
      "Processing 10 images in TCGA-OR-A5J1-01Z-00-DX1.600C7D8C-F04C-4125-AF14-B1E76DC01A1E_10_regions\n"
     ]
    },
    {
     "name": "stderr",
     "output_type": "stream",
     "text": [
      "\n",
      "Processing TCGA-OR-A5J1-01Z-00-DX1.600C7D8C-F04C-4125-AF14-B1E76DC01A1E_10_regio"
     ]
    },
    {
     "name": "stdout",
     "output_type": "stream",
     "text": [
      "Processing region: TCGA-OR-A5J1-01Z-00-DX1.600C7D8C-F04C-4125-AF14-B1E76DC01A1E_x71820_y47544\n"
     ]
    },
    {
     "name": "stderr",
     "output_type": "stream",
     "text": [
      "\n",
      "\n",
      "Processing TCGA-OR-A5J1-01Z-00-DX1.600C7D8C-F04C-4125-AF14-B1E76DC01A1E_x71820_y\n",
      "\n",
      "Processing TCGA-OR-A5J1-01Z-00-DX1.600C7D8C-F04C-4125-AF14-B1E76DC01A1E_x71820_y\n"
     ]
    },
    {
     "name": "stdout",
     "output_type": "stream",
     "text": [
      "2025-09-08 14:48:40,742 [INFO] - Initializing Cell-Postprocessor\n",
      "2025-09-08 14:48:40,747 [INFO] - Finding edge-cells for merging\n",
      "2025-09-08 14:48:40,764 [INFO] - Removal of cells detected multiple times\n",
      "2025-09-08 14:48:40,794 [INFO] - Iteration 0: Found overlap of # cells: 0\n",
      "2025-09-08 14:48:40,795 [INFO] - Found all overlapping cells\n"
     ]
    },
    {
     "name": "stderr",
     "output_type": "stream",
     "text": [
      "\n",
      "Processing TCGA-OR-A5J1-01Z-00-DX1.600C7D8C-F04C-4125-AF14-B1E76DC01A1E_10_regio"
     ]
    },
    {
     "name": "stdout",
     "output_type": "stream",
     "text": [
      "Processing region: TCGA-OR-A5J1-01Z-00-DX1.600C7D8C-F04C-4125-AF14-B1E76DC01A1E_x27311_y55636\n"
     ]
    },
    {
     "name": "stderr",
     "output_type": "stream",
     "text": [
      "\n",
      "\n",
      "Processing TCGA-OR-A5J1-01Z-00-DX1.600C7D8C-F04C-4125-AF14-B1E76DC01A1E_x27311_y\n",
      "\n",
      "Processing TCGA-OR-A5J1-01Z-00-DX1.600C7D8C-F04C-4125-AF14-B1E76DC01A1E_x27311_y\n"
     ]
    },
    {
     "name": "stdout",
     "output_type": "stream",
     "text": [
      "2025-09-08 14:48:47,686 [INFO] - Initializing Cell-Postprocessor\n",
      "2025-09-08 14:48:47,692 [INFO] - Finding edge-cells for merging\n",
      "2025-09-08 14:48:47,716 [INFO] - Removal of cells detected multiple times\n",
      "2025-09-08 14:48:47,779 [INFO] - Iteration 0: Found overlap of # cells: 0\n",
      "2025-09-08 14:48:47,780 [INFO] - Found all overlapping cells\n"
     ]
    },
    {
     "name": "stderr",
     "output_type": "stream",
     "text": [
      "\n",
      "Processing TCGA-OR-A5J1-01Z-00-DX1.600C7D8C-F04C-4125-AF14-B1E76DC01A1E_10_regio"
     ]
    },
    {
     "name": "stdout",
     "output_type": "stream",
     "text": [
      "Processing region: TCGA-OR-A5J1-01Z-00-DX1.600C7D8C-F04C-4125-AF14-B1E76DC01A1E_x49566_y14162\n"
     ]
    },
    {
     "name": "stderr",
     "output_type": "stream",
     "text": [
      "\n",
      "\n",
      "Processing TCGA-OR-A5J1-01Z-00-DX1.600C7D8C-F04C-4125-AF14-B1E76DC01A1E_x49566_y\n",
      "\n",
      "Processing TCGA-OR-A5J1-01Z-00-DX1.600C7D8C-F04C-4125-AF14-B1E76DC01A1E_x49566_y\n"
     ]
    },
    {
     "name": "stdout",
     "output_type": "stream",
     "text": [
      "2025-09-08 14:48:54,510 [INFO] - Initializing Cell-Postprocessor\n",
      "2025-09-08 14:48:54,515 [INFO] - Finding edge-cells for merging\n",
      "2025-09-08 14:48:54,557 [INFO] - Removal of cells detected multiple times\n",
      "2025-09-08 14:48:54,631 [INFO] - Iteration 0: Found overlap of # cells: 0\n",
      "2025-09-08 14:48:54,632 [INFO] - Found all overlapping cells\n"
     ]
    },
    {
     "name": "stderr",
     "output_type": "stream",
     "text": [
      "\n",
      "Processing TCGA-OR-A5J1-01Z-00-DX1.600C7D8C-F04C-4125-AF14-B1E76DC01A1E_10_regio"
     ]
    },
    {
     "name": "stdout",
     "output_type": "stream",
     "text": [
      "Processing region: TCGA-OR-A5J1-01Z-00-DX1.600C7D8C-F04C-4125-AF14-B1E76DC01A1E_x22254_y37428\n"
     ]
    },
    {
     "name": "stderr",
     "output_type": "stream",
     "text": [
      "\n",
      "\n",
      "Processing TCGA-OR-A5J1-01Z-00-DX1.600C7D8C-F04C-4125-AF14-B1E76DC01A1E_x22254_y\n",
      "\n",
      "Processing TCGA-OR-A5J1-01Z-00-DX1.600C7D8C-F04C-4125-AF14-B1E76DC01A1E_x22254_y\n"
     ]
    },
    {
     "name": "stdout",
     "output_type": "stream",
     "text": [
      "2025-09-08 14:49:01,548 [INFO] - Initializing Cell-Postprocessor\n",
      "2025-09-08 14:49:01,553 [INFO] - Finding edge-cells for merging\n",
      "2025-09-08 14:49:01,576 [INFO] - Removal of cells detected multiple times\n",
      "2025-09-08 14:49:01,623 [INFO] - Iteration 0: Found overlap of # cells: 0\n",
      "2025-09-08 14:49:01,624 [INFO] - Found all overlapping cells\n"
     ]
    },
    {
     "name": "stderr",
     "output_type": "stream",
     "text": [
      "\n",
      "Processing TCGA-OR-A5J1-01Z-00-DX1.600C7D8C-F04C-4125-AF14-B1E76DC01A1E_10_regio"
     ]
    },
    {
     "name": "stdout",
     "output_type": "stream",
     "text": [
      "Processing region: TCGA-OR-A5J1-01Z-00-DX1.600C7D8C-F04C-4125-AF14-B1E76DC01A1E_x90028_y49567\n"
     ]
    },
    {
     "name": "stderr",
     "output_type": "stream",
     "text": [
      "\n",
      "\n",
      "Processing TCGA-OR-A5J1-01Z-00-DX1.600C7D8C-F04C-4125-AF14-B1E76DC01A1E_x90028_y\n",
      "\n",
      "Processing TCGA-OR-A5J1-01Z-00-DX1.600C7D8C-F04C-4125-AF14-B1E76DC01A1E_x90028_y\n"
     ]
    },
    {
     "name": "stdout",
     "output_type": "stream",
     "text": [
      "2025-09-08 14:49:08,335 [INFO] - Initializing Cell-Postprocessor\n",
      "2025-09-08 14:49:08,340 [INFO] - Finding edge-cells for merging\n",
      "2025-09-08 14:49:08,358 [INFO] - Removal of cells detected multiple times\n",
      "2025-09-08 14:49:08,393 [INFO] - Iteration 0: Found overlap of # cells: 0\n",
      "2025-09-08 14:49:08,394 [INFO] - Found all overlapping cells\n"
     ]
    },
    {
     "name": "stderr",
     "output_type": "stream",
     "text": [
      "\n",
      "Processing TCGA-OR-A5J1-01Z-00-DX1.600C7D8C-F04C-4125-AF14-B1E76DC01A1E_10_regio"
     ]
    },
    {
     "name": "stdout",
     "output_type": "stream",
     "text": [
      "Processing region: TCGA-OR-A5J1-01Z-00-DX1.600C7D8C-F04C-4125-AF14-B1E76DC01A1E_x8092_y54625\n"
     ]
    },
    {
     "name": "stderr",
     "output_type": "stream",
     "text": [
      "\n",
      "\n",
      "Processing TCGA-OR-A5J1-01Z-00-DX1.600C7D8C-F04C-4125-AF14-B1E76DC01A1E_x8092_y5\n",
      "\n",
      "Processing TCGA-OR-A5J1-01Z-00-DX1.600C7D8C-F04C-4125-AF14-B1E76DC01A1E_x8092_y5\n"
     ]
    },
    {
     "name": "stdout",
     "output_type": "stream",
     "text": [
      "2025-09-08 14:49:15,047 [INFO] - Initializing Cell-Postprocessor\n",
      "2025-09-08 14:49:15,054 [INFO] - Finding edge-cells for merging\n",
      "2025-09-08 14:49:15,090 [INFO] - Removal of cells detected multiple times\n",
      "2025-09-08 14:49:15,157 [INFO] - Iteration 0: Found overlap of # cells: 0\n",
      "2025-09-08 14:49:15,158 [INFO] - Found all overlapping cells\n"
     ]
    },
    {
     "name": "stderr",
     "output_type": "stream",
     "text": [
      "\n",
      "Processing TCGA-OR-A5J1-01Z-00-DX1.600C7D8C-F04C-4125-AF14-B1E76DC01A1E_10_regio"
     ]
    },
    {
     "name": "stdout",
     "output_type": "stream",
     "text": [
      "Processing region: TCGA-OR-A5J1-01Z-00-DX1.600C7D8C-F04C-4125-AF14-B1E76DC01A1E_x51589_y64741\n"
     ]
    },
    {
     "name": "stderr",
     "output_type": "stream",
     "text": [
      "\n",
      "\n",
      "Processing TCGA-OR-A5J1-01Z-00-DX1.600C7D8C-F04C-4125-AF14-B1E76DC01A1E_x51589_y\n",
      "\n",
      "Processing TCGA-OR-A5J1-01Z-00-DX1.600C7D8C-F04C-4125-AF14-B1E76DC01A1E_x51589_y\n"
     ]
    },
    {
     "name": "stdout",
     "output_type": "stream",
     "text": [
      "2025-09-08 14:49:21,697 [INFO] - Initializing Cell-Postprocessor\n",
      "2025-09-08 14:49:21,705 [INFO] - Finding edge-cells for merging\n",
      "2025-09-08 14:49:21,730 [INFO] - Removal of cells detected multiple times\n",
      "2025-09-08 14:49:21,767 [INFO] - Iteration 0: Found overlap of # cells: 0\n",
      "2025-09-08 14:49:21,769 [INFO] - Found all overlapping cells\n"
     ]
    },
    {
     "name": "stderr",
     "output_type": "stream",
     "text": [
      "\n",
      "Processing TCGA-OR-A5J1-01Z-00-DX1.600C7D8C-F04C-4125-AF14-B1E76DC01A1E_10_regio"
     ]
    },
    {
     "name": "stdout",
     "output_type": "stream",
     "text": [
      "Processing region: TCGA-OR-A5J1-01Z-00-DX1.600C7D8C-F04C-4125-AF14-B1E76DC01A1E_x19219_y52602\n"
     ]
    },
    {
     "name": "stderr",
     "output_type": "stream",
     "text": [
      "\n",
      "\n",
      "Processing TCGA-OR-A5J1-01Z-00-DX1.600C7D8C-F04C-4125-AF14-B1E76DC01A1E_x19219_y\n",
      "\n",
      "Processing TCGA-OR-A5J1-01Z-00-DX1.600C7D8C-F04C-4125-AF14-B1E76DC01A1E_x19219_y\n"
     ]
    },
    {
     "name": "stdout",
     "output_type": "stream",
     "text": [
      "2025-09-08 14:49:28,594 [INFO] - Initializing Cell-Postprocessor\n",
      "2025-09-08 14:49:28,600 [INFO] - Finding edge-cells for merging\n",
      "2025-09-08 14:49:28,621 [INFO] - Removal of cells detected multiple times\n",
      "2025-09-08 14:49:28,697 [INFO] - Iteration 0: Found overlap of # cells: 0\n",
      "2025-09-08 14:49:28,698 [INFO] - Found all overlapping cells\n"
     ]
    },
    {
     "name": "stderr",
     "output_type": "stream",
     "text": [
      "\n",
      "Processing TCGA-OR-A5J1-01Z-00-DX1.600C7D8C-F04C-4125-AF14-B1E76DC01A1E_10_regio"
     ]
    },
    {
     "name": "stdout",
     "output_type": "stream",
     "text": [
      "Processing region: TCGA-OR-A5J1-01Z-00-DX1.600C7D8C-F04C-4125-AF14-B1E76DC01A1E_x20231_y32370\n"
     ]
    },
    {
     "name": "stderr",
     "output_type": "stream",
     "text": [
      "\n",
      "\n",
      "Processing TCGA-OR-A5J1-01Z-00-DX1.600C7D8C-F04C-4125-AF14-B1E76DC01A1E_x20231_y\n",
      "\n",
      "Processing TCGA-OR-A5J1-01Z-00-DX1.600C7D8C-F04C-4125-AF14-B1E76DC01A1E_x20231_y\n"
     ]
    },
    {
     "name": "stdout",
     "output_type": "stream",
     "text": [
      "2025-09-08 14:49:35,751 [INFO] - Initializing Cell-Postprocessor\n",
      "2025-09-08 14:49:35,757 [INFO] - Finding edge-cells for merging\n",
      "2025-09-08 14:49:35,781 [INFO] - Removal of cells detected multiple times\n",
      "2025-09-08 14:49:35,855 [INFO] - Iteration 0: Found overlap of # cells: 0\n",
      "2025-09-08 14:49:35,856 [INFO] - Found all overlapping cells\n"
     ]
    },
    {
     "name": "stderr",
     "output_type": "stream",
     "text": [
      "\n",
      "Processing TCGA-OR-A5J1-01Z-00-DX1.600C7D8C-F04C-4125-AF14-B1E76DC01A1E_10_regio"
     ]
    },
    {
     "name": "stdout",
     "output_type": "stream",
     "text": [
      "Processing region: TCGA-OR-A5J1-01Z-00-DX1.600C7D8C-F04C-4125-AF14-B1E76DC01A1E_x29335_y46532\n"
     ]
    },
    {
     "name": "stderr",
     "output_type": "stream",
     "text": [
      "\n",
      "\n",
      "Processing TCGA-OR-A5J1-01Z-00-DX1.600C7D8C-F04C-4125-AF14-B1E76DC01A1E_x29335_y\n",
      "\n",
      "Processing TCGA-OR-A5J1-01Z-00-DX1.600C7D8C-F04C-4125-AF14-B1E76DC01A1E_x29335_y\n"
     ]
    },
    {
     "name": "stdout",
     "output_type": "stream",
     "text": [
      "2025-09-08 14:49:42,626 [INFO] - Initializing Cell-Postprocessor\n",
      "2025-09-08 14:49:42,631 [INFO] - Finding edge-cells for merging\n",
      "2025-09-08 14:49:42,651 [INFO] - Removal of cells detected multiple times\n",
      "2025-09-08 14:49:42,710 [INFO] - Iteration 0: Found overlap of # cells: 0\n",
      "2025-09-08 14:49:42,711 [INFO] - Found all overlapping cells\n"
     ]
    },
    {
     "name": "stderr",
     "output_type": "stream",
     "text": [
      "\n",
      "Processing TCGA-OR-A5J1-01Z-00-DX1.600C7D8C-F04C-4125-AF14-B1E76DC01A1E_10_regio\n",
      "Processing folders:  87%|███████████████████▉   | 13/15 [14:10<02:12, 66.10s/it]"
     ]
    },
    {
     "name": "stdout",
     "output_type": "stream",
     "text": [
      "Processing 10 images in TCGA-SR-A6MX-05Z-00-DX1.6F1F7DCE-B986-47EB-93F1-2C005C7D8F2B_10_regions\n"
     ]
    },
    {
     "name": "stderr",
     "output_type": "stream",
     "text": [
      "\n",
      "Processing TCGA-SR-A6MX-05Z-00-DX1.6F1F7DCE-B986-47EB-93F1-2C005C7D8F2B_10_regio"
     ]
    },
    {
     "name": "stdout",
     "output_type": "stream",
     "text": [
      "Processing region: TCGA-SR-A6MX-05Z-00-DX1.6F1F7DCE-B986-47EB-93F1-2C005C7D8F2B_x48000_y46978\n"
     ]
    },
    {
     "name": "stderr",
     "output_type": "stream",
     "text": [
      "\n",
      "\n",
      "Processing TCGA-SR-A6MX-05Z-00-DX1.6F1F7DCE-B986-47EB-93F1-2C005C7D8F2B_x48000_y\n",
      "\n",
      "Processing TCGA-SR-A6MX-05Z-00-DX1.6F1F7DCE-B986-47EB-93F1-2C005C7D8F2B_x48000_y\n"
     ]
    },
    {
     "name": "stdout",
     "output_type": "stream",
     "text": [
      "2025-09-08 14:49:49,363 [INFO] - Initializing Cell-Postprocessor\n",
      "2025-09-08 14:49:49,369 [INFO] - Finding edge-cells for merging\n",
      "2025-09-08 14:49:49,388 [INFO] - Removal of cells detected multiple times\n",
      "2025-09-08 14:49:49,425 [INFO] - Iteration 0: Found overlap of # cells: 0\n",
      "2025-09-08 14:49:49,426 [INFO] - Found all overlapping cells\n"
     ]
    },
    {
     "name": "stderr",
     "output_type": "stream",
     "text": [
      "\n",
      "Processing TCGA-SR-A6MX-05Z-00-DX1.6F1F7DCE-B986-47EB-93F1-2C005C7D8F2B_10_regio"
     ]
    },
    {
     "name": "stdout",
     "output_type": "stream",
     "text": [
      "Processing region: TCGA-SR-A6MX-05Z-00-DX1.6F1F7DCE-B986-47EB-93F1-2C005C7D8F2B_x82724_y31659\n"
     ]
    },
    {
     "name": "stderr",
     "output_type": "stream",
     "text": [
      "\n",
      "\n",
      "Processing TCGA-SR-A6MX-05Z-00-DX1.6F1F7DCE-B986-47EB-93F1-2C005C7D8F2B_x82724_y\n",
      "\n",
      "Processing TCGA-SR-A6MX-05Z-00-DX1.6F1F7DCE-B986-47EB-93F1-2C005C7D8F2B_x82724_y\n"
     ]
    },
    {
     "name": "stdout",
     "output_type": "stream",
     "text": [
      "2025-09-08 14:49:55,931 [INFO] - Initializing Cell-Postprocessor\n",
      "2025-09-08 14:49:55,937 [INFO] - Finding edge-cells for merging\n",
      "2025-09-08 14:49:55,956 [INFO] - Removal of cells detected multiple times\n",
      "2025-09-08 14:49:55,982 [INFO] - Iteration 0: Found overlap of # cells: 0\n",
      "2025-09-08 14:49:55,983 [INFO] - Found all overlapping cells\n"
     ]
    },
    {
     "name": "stderr",
     "output_type": "stream",
     "text": [
      "\n",
      "Processing TCGA-SR-A6MX-05Z-00-DX1.6F1F7DCE-B986-47EB-93F1-2C005C7D8F2B_10_regio"
     ]
    },
    {
     "name": "stdout",
     "output_type": "stream",
     "text": [
      "Processing region: TCGA-SR-A6MX-05Z-00-DX1.6F1F7DCE-B986-47EB-93F1-2C005C7D8F2B_x82724_y41872\n"
     ]
    },
    {
     "name": "stderr",
     "output_type": "stream",
     "text": [
      "\n",
      "\n",
      "Processing TCGA-SR-A6MX-05Z-00-DX1.6F1F7DCE-B986-47EB-93F1-2C005C7D8F2B_x82724_y\n",
      "\n",
      "Processing TCGA-SR-A6MX-05Z-00-DX1.6F1F7DCE-B986-47EB-93F1-2C005C7D8F2B_x82724_y\n"
     ]
    },
    {
     "name": "stdout",
     "output_type": "stream",
     "text": [
      "2025-09-08 14:50:02,535 [INFO] - Initializing Cell-Postprocessor\n",
      "2025-09-08 14:50:02,543 [INFO] - Finding edge-cells for merging\n",
      "2025-09-08 14:50:02,578 [INFO] - Removal of cells detected multiple times\n",
      "2025-09-08 14:50:02,630 [INFO] - Iteration 0: Found overlap of # cells: 0\n",
      "2025-09-08 14:50:02,631 [INFO] - Found all overlapping cells\n"
     ]
    },
    {
     "name": "stderr",
     "output_type": "stream",
     "text": [
      "\n",
      "Processing TCGA-SR-A6MX-05Z-00-DX1.6F1F7DCE-B986-47EB-93F1-2C005C7D8F2B_10_regio"
     ]
    },
    {
     "name": "stdout",
     "output_type": "stream",
     "text": [
      "Processing region: TCGA-SR-A6MX-05Z-00-DX1.6F1F7DCE-B986-47EB-93F1-2C005C7D8F2B_x83746_y59234\n"
     ]
    },
    {
     "name": "stderr",
     "output_type": "stream",
     "text": [
      "\n",
      "\n",
      "Processing TCGA-SR-A6MX-05Z-00-DX1.6F1F7DCE-B986-47EB-93F1-2C005C7D8F2B_x83746_y\n",
      "\n",
      "Processing TCGA-SR-A6MX-05Z-00-DX1.6F1F7DCE-B986-47EB-93F1-2C005C7D8F2B_x83746_y\n"
     ]
    },
    {
     "name": "stdout",
     "output_type": "stream",
     "text": [
      "2025-09-08 14:50:09,337 [INFO] - Initializing Cell-Postprocessor\n",
      "2025-09-08 14:50:09,342 [INFO] - Finding edge-cells for merging\n",
      "2025-09-08 14:50:09,360 [INFO] - Removal of cells detected multiple times\n",
      "2025-09-08 14:50:09,619 [INFO] - Iteration 0: Found overlap of # cells: 0\n",
      "2025-09-08 14:50:09,620 [INFO] - Found all overlapping cells\n"
     ]
    },
    {
     "name": "stderr",
     "output_type": "stream",
     "text": [
      "\n",
      "Processing TCGA-SR-A6MX-05Z-00-DX1.6F1F7DCE-B986-47EB-93F1-2C005C7D8F2B_10_regio"
     ]
    },
    {
     "name": "stdout",
     "output_type": "stream",
     "text": [
      "Processing region: TCGA-SR-A6MX-05Z-00-DX1.6F1F7DCE-B986-47EB-93F1-2C005C7D8F2B_x87831_y40851\n"
     ]
    },
    {
     "name": "stderr",
     "output_type": "stream",
     "text": [
      "\n",
      "\n",
      "Processing TCGA-SR-A6MX-05Z-00-DX1.6F1F7DCE-B986-47EB-93F1-2C005C7D8F2B_x87831_y\n",
      "\n",
      "Processing TCGA-SR-A6MX-05Z-00-DX1.6F1F7DCE-B986-47EB-93F1-2C005C7D8F2B_x87831_y\n"
     ]
    },
    {
     "name": "stdout",
     "output_type": "stream",
     "text": [
      "2025-09-08 14:50:16,182 [INFO] - Initializing Cell-Postprocessor\n",
      "2025-09-08 14:50:16,189 [INFO] - Finding edge-cells for merging\n",
      "2025-09-08 14:50:16,215 [INFO] - Removal of cells detected multiple times\n",
      "2025-09-08 14:50:16,268 [INFO] - Iteration 0: Found overlap of # cells: 0\n",
      "2025-09-08 14:50:16,269 [INFO] - Found all overlapping cells\n"
     ]
    },
    {
     "name": "stderr",
     "output_type": "stream",
     "text": [
      "\n",
      "Processing TCGA-SR-A6MX-05Z-00-DX1.6F1F7DCE-B986-47EB-93F1-2C005C7D8F2B_10_regio"
     ]
    },
    {
     "name": "stdout",
     "output_type": "stream",
     "text": [
      "Processing region: TCGA-SR-A6MX-05Z-00-DX1.6F1F7DCE-B986-47EB-93F1-2C005C7D8F2B_x50043_y14297\n"
     ]
    },
    {
     "name": "stderr",
     "output_type": "stream",
     "text": [
      "\n",
      "\n",
      "Processing TCGA-SR-A6MX-05Z-00-DX1.6F1F7DCE-B986-47EB-93F1-2C005C7D8F2B_x50043_y\n",
      "\n",
      "Processing TCGA-SR-A6MX-05Z-00-DX1.6F1F7DCE-B986-47EB-93F1-2C005C7D8F2B_x50043_y\n"
     ]
    },
    {
     "name": "stdout",
     "output_type": "stream",
     "text": [
      "2025-09-08 14:50:22,766 [INFO] - Initializing Cell-Postprocessor\n",
      "2025-09-08 14:50:22,774 [INFO] - Finding edge-cells for merging\n",
      "2025-09-08 14:50:22,800 [INFO] - Removal of cells detected multiple times\n",
      "2025-09-08 14:50:22,841 [INFO] - Iteration 0: Found overlap of # cells: 0\n",
      "2025-09-08 14:50:22,842 [INFO] - Found all overlapping cells\n"
     ]
    },
    {
     "name": "stderr",
     "output_type": "stream",
     "text": [
      "\n",
      "Processing TCGA-SR-A6MX-05Z-00-DX1.6F1F7DCE-B986-47EB-93F1-2C005C7D8F2B_10_regio"
     ]
    },
    {
     "name": "stdout",
     "output_type": "stream",
     "text": [
      "Processing region: TCGA-SR-A6MX-05Z-00-DX1.6F1F7DCE-B986-47EB-93F1-2C005C7D8F2B_x63320_y69447\n"
     ]
    },
    {
     "name": "stderr",
     "output_type": "stream",
     "text": [
      "\n",
      "\n",
      "Processing TCGA-SR-A6MX-05Z-00-DX1.6F1F7DCE-B986-47EB-93F1-2C005C7D8F2B_x63320_y\n",
      "\n",
      "Processing TCGA-SR-A6MX-05Z-00-DX1.6F1F7DCE-B986-47EB-93F1-2C005C7D8F2B_x63320_y\n"
     ]
    },
    {
     "name": "stdout",
     "output_type": "stream",
     "text": [
      "2025-09-08 14:50:29,360 [INFO] - Initializing Cell-Postprocessor\n",
      "2025-09-08 14:50:29,368 [INFO] - Finding edge-cells for merging\n",
      "2025-09-08 14:50:29,391 [INFO] - Removal of cells detected multiple times\n",
      "2025-09-08 14:50:29,422 [INFO] - Iteration 0: Found overlap of # cells: 0\n",
      "2025-09-08 14:50:29,423 [INFO] - Found all overlapping cells\n"
     ]
    },
    {
     "name": "stderr",
     "output_type": "stream",
     "text": [
      "\n",
      "Processing TCGA-SR-A6MX-05Z-00-DX1.6F1F7DCE-B986-47EB-93F1-2C005C7D8F2B_10_regio"
     ]
    },
    {
     "name": "stdout",
     "output_type": "stream",
     "text": [
      "Processing region: TCGA-SR-A6MX-05Z-00-DX1.6F1F7DCE-B986-47EB-93F1-2C005C7D8F2B_x63320_y26553\n"
     ]
    },
    {
     "name": "stderr",
     "output_type": "stream",
     "text": [
      "\n",
      "\n",
      "Processing TCGA-SR-A6MX-05Z-00-DX1.6F1F7DCE-B986-47EB-93F1-2C005C7D8F2B_x63320_y\n",
      "\n",
      "Processing TCGA-SR-A6MX-05Z-00-DX1.6F1F7DCE-B986-47EB-93F1-2C005C7D8F2B_x63320_y\n"
     ]
    },
    {
     "name": "stdout",
     "output_type": "stream",
     "text": [
      "2025-09-08 14:50:35,605 [INFO] - Initializing Cell-Postprocessor\n",
      "2025-09-08 14:50:35,611 [INFO] - Finding edge-cells for merging\n",
      "2025-09-08 14:50:35,629 [INFO] - Removal of cells detected multiple times\n",
      "2025-09-08 14:50:35,648 [INFO] - Iteration 0: Found overlap of # cells: 0\n",
      "2025-09-08 14:50:35,648 [INFO] - Found all overlapping cells\n"
     ]
    },
    {
     "name": "stderr",
     "output_type": "stream",
     "text": [
      "\n",
      "Processing TCGA-SR-A6MX-05Z-00-DX1.6F1F7DCE-B986-47EB-93F1-2C005C7D8F2B_10_regio"
     ]
    },
    {
     "name": "stdout",
     "output_type": "stream",
     "text": [
      "Processing region: TCGA-SR-A6MX-05Z-00-DX1.6F1F7DCE-B986-47EB-93F1-2C005C7D8F2B_x62298_y65361\n"
     ]
    },
    {
     "name": "stderr",
     "output_type": "stream",
     "text": [
      "\n",
      "\n",
      "Processing TCGA-SR-A6MX-05Z-00-DX1.6F1F7DCE-B986-47EB-93F1-2C005C7D8F2B_x62298_y\n",
      "\n",
      "Processing TCGA-SR-A6MX-05Z-00-DX1.6F1F7DCE-B986-47EB-93F1-2C005C7D8F2B_x62298_y\n"
     ]
    },
    {
     "name": "stdout",
     "output_type": "stream",
     "text": [
      "2025-09-08 14:50:42,212 [INFO] - Initializing Cell-Postprocessor\n",
      "2025-09-08 14:50:42,219 [INFO] - Finding edge-cells for merging\n",
      "2025-09-08 14:50:42,245 [INFO] - Removal of cells detected multiple times\n",
      "2025-09-08 14:50:42,278 [INFO] - Iteration 0: Found overlap of # cells: 0\n",
      "2025-09-08 14:50:42,279 [INFO] - Found all overlapping cells\n"
     ]
    },
    {
     "name": "stderr",
     "output_type": "stream",
     "text": [
      "\n",
      "Processing TCGA-SR-A6MX-05Z-00-DX1.6F1F7DCE-B986-47EB-93F1-2C005C7D8F2B_10_regio"
     ]
    },
    {
     "name": "stdout",
     "output_type": "stream",
     "text": [
      "Processing region: TCGA-SR-A6MX-05Z-00-DX1.6F1F7DCE-B986-47EB-93F1-2C005C7D8F2B_x41873_y69447\n"
     ]
    },
    {
     "name": "stderr",
     "output_type": "stream",
     "text": [
      "\n",
      "\n",
      "Processing TCGA-SR-A6MX-05Z-00-DX1.6F1F7DCE-B986-47EB-93F1-2C005C7D8F2B_x41873_y\n",
      "\n",
      "Processing TCGA-SR-A6MX-05Z-00-DX1.6F1F7DCE-B986-47EB-93F1-2C005C7D8F2B_x41873_y\n"
     ]
    },
    {
     "name": "stdout",
     "output_type": "stream",
     "text": [
      "2025-09-08 14:50:48,823 [INFO] - Initializing Cell-Postprocessor\n",
      "2025-09-08 14:50:48,831 [INFO] - Finding edge-cells for merging\n",
      "2025-09-08 14:50:48,864 [INFO] - Removal of cells detected multiple times\n",
      "2025-09-08 14:50:48,904 [INFO] - Iteration 0: Found overlap of # cells: 0\n",
      "2025-09-08 14:50:48,906 [INFO] - Found all overlapping cells\n"
     ]
    },
    {
     "name": "stderr",
     "output_type": "stream",
     "text": [
      "\n",
      "Processing TCGA-SR-A6MX-05Z-00-DX1.6F1F7DCE-B986-47EB-93F1-2C005C7D8F2B_10_regio\n",
      "Processing folders:  93%|█████████████████████▍ | 14/15 [15:16<01:06, 66.13s/it]"
     ]
    },
    {
     "name": "stdout",
     "output_type": "stream",
     "text": [
      "Processing 10 images in TCGA-ER-A2NF-01Z-00-DX2.01ACC455-4161-4EF1-8478-3C4DF709F6D6_10_regions\n"
     ]
    },
    {
     "name": "stderr",
     "output_type": "stream",
     "text": [
      "\n",
      "Processing TCGA-ER-A2NF-01Z-00-DX2.01ACC455-4161-4EF1-8478-3C4DF709F6D6_10_regio"
     ]
    },
    {
     "name": "stdout",
     "output_type": "stream",
     "text": [
      "Processing region: TCGA-ER-A2NF-01Z-00-DX2.01ACC455-4161-4EF1-8478-3C4DF709F6D6_x34505_y38565\n"
     ]
    },
    {
     "name": "stderr",
     "output_type": "stream",
     "text": [
      "\n",
      "\n",
      "Processing TCGA-ER-A2NF-01Z-00-DX2.01ACC455-4161-4EF1-8478-3C4DF709F6D6_x34505_y\n",
      "\n",
      "Processing TCGA-ER-A2NF-01Z-00-DX2.01ACC455-4161-4EF1-8478-3C4DF709F6D6_x34505_y\n"
     ]
    },
    {
     "name": "stdout",
     "output_type": "stream",
     "text": [
      "2025-09-08 14:50:55,489 [INFO] - Initializing Cell-Postprocessor\n",
      "2025-09-08 14:50:55,494 [INFO] - Finding edge-cells for merging\n",
      "2025-09-08 14:50:55,510 [INFO] - Removal of cells detected multiple times\n",
      "2025-09-08 14:50:55,538 [INFO] - Iteration 0: Found overlap of # cells: 0\n",
      "2025-09-08 14:50:55,538 [INFO] - Found all overlapping cells\n"
     ]
    },
    {
     "name": "stderr",
     "output_type": "stream",
     "text": [
      "\n",
      "Processing TCGA-ER-A2NF-01Z-00-DX2.01ACC455-4161-4EF1-8478-3C4DF709F6D6_10_regio"
     ]
    },
    {
     "name": "stdout",
     "output_type": "stream",
     "text": [
      "Processing region: TCGA-ER-A2NF-01Z-00-DX2.01ACC455-4161-4EF1-8478-3C4DF709F6D6_x45669_y63936\n"
     ]
    },
    {
     "name": "stderr",
     "output_type": "stream",
     "text": [
      "\n",
      "\n",
      "Processing TCGA-ER-A2NF-01Z-00-DX2.01ACC455-4161-4EF1-8478-3C4DF709F6D6_x45669_y\n",
      "\n",
      "Processing TCGA-ER-A2NF-01Z-00-DX2.01ACC455-4161-4EF1-8478-3C4DF709F6D6_x45669_y\n"
     ]
    },
    {
     "name": "stdout",
     "output_type": "stream",
     "text": [
      "2025-09-08 14:51:02,258 [INFO] - Initializing Cell-Postprocessor\n",
      "2025-09-08 14:51:02,262 [INFO] - Finding edge-cells for merging\n",
      "2025-09-08 14:51:02,279 [INFO] - Removal of cells detected multiple times\n",
      "2025-09-08 14:51:02,310 [INFO] - Iteration 0: Found overlap of # cells: 0\n",
      "2025-09-08 14:51:02,311 [INFO] - Found all overlapping cells\n"
     ]
    },
    {
     "name": "stderr",
     "output_type": "stream",
     "text": [
      "\n",
      "Processing TCGA-ER-A2NF-01Z-00-DX2.01ACC455-4161-4EF1-8478-3C4DF709F6D6_10_regio"
     ]
    },
    {
     "name": "stdout",
     "output_type": "stream",
     "text": [
      "Processing region: TCGA-ER-A2NF-01Z-00-DX2.01ACC455-4161-4EF1-8478-3C4DF709F6D6_x13193_y56832\n"
     ]
    },
    {
     "name": "stderr",
     "output_type": "stream",
     "text": [
      "\n",
      "\n",
      "Processing TCGA-ER-A2NF-01Z-00-DX2.01ACC455-4161-4EF1-8478-3C4DF709F6D6_x13193_y\n",
      "\n",
      "Processing TCGA-ER-A2NF-01Z-00-DX2.01ACC455-4161-4EF1-8478-3C4DF709F6D6_x13193_y\n"
     ]
    },
    {
     "name": "stdout",
     "output_type": "stream",
     "text": [
      "2025-09-08 14:51:09,318 [INFO] - Initializing Cell-Postprocessor\n",
      "2025-09-08 14:51:09,324 [INFO] - Finding edge-cells for merging\n",
      "2025-09-08 14:51:09,343 [INFO] - Removal of cells detected multiple times\n",
      "2025-09-08 14:51:09,383 [INFO] - Iteration 0: Found overlap of # cells: 0\n",
      "2025-09-08 14:51:09,384 [INFO] - Found all overlapping cells\n"
     ]
    },
    {
     "name": "stderr",
     "output_type": "stream",
     "text": [
      "\n",
      "Processing TCGA-ER-A2NF-01Z-00-DX2.01ACC455-4161-4EF1-8478-3C4DF709F6D6_10_regio"
     ]
    },
    {
     "name": "stdout",
     "output_type": "stream",
     "text": [
      "Processing region: TCGA-ER-A2NF-01Z-00-DX2.01ACC455-4161-4EF1-8478-3C4DF709F6D6_x16238_y74085\n"
     ]
    },
    {
     "name": "stderr",
     "output_type": "stream",
     "text": [
      "\n",
      "\n",
      "Processing TCGA-ER-A2NF-01Z-00-DX2.01ACC455-4161-4EF1-8478-3C4DF709F6D6_x16238_y\n",
      "\n",
      "Processing TCGA-ER-A2NF-01Z-00-DX2.01ACC455-4161-4EF1-8478-3C4DF709F6D6_x16238_y\n"
     ]
    },
    {
     "name": "stdout",
     "output_type": "stream",
     "text": [
      "2025-09-08 14:51:15,975 [INFO] - Initializing Cell-Postprocessor\n",
      "2025-09-08 14:51:15,984 [INFO] - Finding edge-cells for merging\n",
      "2025-09-08 14:51:16,015 [INFO] - Removal of cells detected multiple times\n",
      "2025-09-08 14:51:16,071 [INFO] - Iteration 0: Found overlap of # cells: 0\n",
      "2025-09-08 14:51:16,072 [INFO] - Found all overlapping cells\n"
     ]
    },
    {
     "name": "stderr",
     "output_type": "stream",
     "text": [
      "\n",
      "Processing TCGA-ER-A2NF-01Z-00-DX2.01ACC455-4161-4EF1-8478-3C4DF709F6D6_10_regio"
     ]
    },
    {
     "name": "stdout",
     "output_type": "stream",
     "text": [
      "Processing region: TCGA-ER-A2NF-01Z-00-DX2.01ACC455-4161-4EF1-8478-3C4DF709F6D6_x65967_y57847\n"
     ]
    },
    {
     "name": "stderr",
     "output_type": "stream",
     "text": [
      "\n",
      "\n",
      "Processing TCGA-ER-A2NF-01Z-00-DX2.01ACC455-4161-4EF1-8478-3C4DF709F6D6_x65967_y\n",
      "\n",
      "Processing TCGA-ER-A2NF-01Z-00-DX2.01ACC455-4161-4EF1-8478-3C4DF709F6D6_x65967_y\n"
     ]
    },
    {
     "name": "stdout",
     "output_type": "stream",
     "text": [
      "2025-09-08 14:51:22,727 [INFO] - Initializing Cell-Postprocessor\n",
      "2025-09-08 14:51:22,734 [INFO] - Finding edge-cells for merging\n",
      "2025-09-08 14:51:22,766 [INFO] - Removal of cells detected multiple times\n",
      "2025-09-08 14:51:22,821 [INFO] - Iteration 0: Found overlap of # cells: 0\n",
      "2025-09-08 14:51:22,822 [INFO] - Found all overlapping cells\n"
     ]
    },
    {
     "name": "stderr",
     "output_type": "stream",
     "text": [
      "\n",
      "Processing TCGA-ER-A2NF-01Z-00-DX2.01ACC455-4161-4EF1-8478-3C4DF709F6D6_10_regio"
     ]
    },
    {
     "name": "stdout",
     "output_type": "stream",
     "text": [
      "Processing region: TCGA-ER-A2NF-01Z-00-DX2.01ACC455-4161-4EF1-8478-3C4DF709F6D6_x53788_y62921\n"
     ]
    },
    {
     "name": "stderr",
     "output_type": "stream",
     "text": [
      "\n",
      "\n",
      "Processing TCGA-ER-A2NF-01Z-00-DX2.01ACC455-4161-4EF1-8478-3C4DF709F6D6_x53788_y\n",
      "\n",
      "Processing TCGA-ER-A2NF-01Z-00-DX2.01ACC455-4161-4EF1-8478-3C4DF709F6D6_x53788_y\n"
     ]
    },
    {
     "name": "stdout",
     "output_type": "stream",
     "text": [
      "2025-09-08 14:51:29,441 [INFO] - Initializing Cell-Postprocessor\n",
      "2025-09-08 14:51:29,448 [INFO] - Finding edge-cells for merging\n",
      "2025-09-08 14:51:29,482 [INFO] - Removal of cells detected multiple times\n",
      "2025-09-08 14:51:29,544 [INFO] - Iteration 0: Found overlap of # cells: 0\n",
      "2025-09-08 14:51:29,545 [INFO] - Found all overlapping cells\n"
     ]
    },
    {
     "name": "stderr",
     "output_type": "stream",
     "text": [
      "\n",
      "Processing TCGA-ER-A2NF-01Z-00-DX2.01ACC455-4161-4EF1-8478-3C4DF709F6D6_10_regio"
     ]
    },
    {
     "name": "stdout",
     "output_type": "stream",
     "text": [
      "Processing region: TCGA-ER-A2NF-01Z-00-DX2.01ACC455-4161-4EF1-8478-3C4DF709F6D6_x29431_y73070\n"
     ]
    },
    {
     "name": "stderr",
     "output_type": "stream",
     "text": [
      "\n",
      "\n",
      "Processing TCGA-ER-A2NF-01Z-00-DX2.01ACC455-4161-4EF1-8478-3C4DF709F6D6_x29431_y\n",
      "\n",
      "Processing TCGA-ER-A2NF-01Z-00-DX2.01ACC455-4161-4EF1-8478-3C4DF709F6D6_x29431_y\n"
     ]
    },
    {
     "name": "stdout",
     "output_type": "stream",
     "text": [
      "2025-09-08 14:51:36,130 [INFO] - Initializing Cell-Postprocessor\n",
      "2025-09-08 14:51:36,135 [INFO] - Finding edge-cells for merging\n",
      "2025-09-08 14:51:36,151 [INFO] - Removal of cells detected multiple times\n",
      "2025-09-08 14:51:36,180 [INFO] - Iteration 0: Found overlap of # cells: 0\n",
      "2025-09-08 14:51:36,181 [INFO] - Found all overlapping cells\n"
     ]
    },
    {
     "name": "stderr",
     "output_type": "stream",
     "text": [
      "\n",
      "Processing TCGA-ER-A2NF-01Z-00-DX2.01ACC455-4161-4EF1-8478-3C4DF709F6D6_10_regio"
     ]
    },
    {
     "name": "stdout",
     "output_type": "stream",
     "text": [
      "Processing region: TCGA-ER-A2NF-01Z-00-DX2.01ACC455-4161-4EF1-8478-3C4DF709F6D6_x65967_y30446\n"
     ]
    },
    {
     "name": "stderr",
     "output_type": "stream",
     "text": [
      "\n",
      "\n",
      "Processing TCGA-ER-A2NF-01Z-00-DX2.01ACC455-4161-4EF1-8478-3C4DF709F6D6_x65967_y\n",
      "\n",
      "Processing TCGA-ER-A2NF-01Z-00-DX2.01ACC455-4161-4EF1-8478-3C4DF709F6D6_x65967_y\n"
     ]
    },
    {
     "name": "stdout",
     "output_type": "stream",
     "text": [
      "2025-09-08 14:51:42,329 [INFO] - Initializing Cell-Postprocessor\n",
      "2025-09-08 14:51:42,336 [INFO] - Finding edge-cells for merging\n",
      "2025-09-08 14:51:42,350 [INFO] - Removal of cells detected multiple times\n",
      "2025-09-08 14:51:42,354 [INFO] - Iteration 0: Found overlap of # cells: 0\n",
      "2025-09-08 14:51:42,355 [INFO] - Found all overlapping cells\n"
     ]
    },
    {
     "name": "stderr",
     "output_type": "stream",
     "text": [
      "\n",
      "Processing TCGA-ER-A2NF-01Z-00-DX2.01ACC455-4161-4EF1-8478-3C4DF709F6D6_10_regio"
     ]
    },
    {
     "name": "stdout",
     "output_type": "stream",
     "text": [
      "Processing region: TCGA-ER-A2NF-01Z-00-DX2.01ACC455-4161-4EF1-8478-3C4DF709F6D6_x44654_y36535\n"
     ]
    },
    {
     "name": "stderr",
     "output_type": "stream",
     "text": [
      "\n",
      "\n",
      "Processing TCGA-ER-A2NF-01Z-00-DX2.01ACC455-4161-4EF1-8478-3C4DF709F6D6_x44654_y\n",
      "\n",
      "Processing TCGA-ER-A2NF-01Z-00-DX2.01ACC455-4161-4EF1-8478-3C4DF709F6D6_x44654_y\n"
     ]
    },
    {
     "name": "stdout",
     "output_type": "stream",
     "text": [
      "2025-09-08 14:51:48,868 [INFO] - Initializing Cell-Postprocessor\n",
      "2025-09-08 14:51:48,873 [INFO] - Finding edge-cells for merging\n",
      "2025-09-08 14:51:48,891 [INFO] - Removal of cells detected multiple times\n",
      "2025-09-08 14:51:48,921 [INFO] - Iteration 0: Found overlap of # cells: 0\n",
      "2025-09-08 14:51:48,922 [INFO] - Found all overlapping cells\n"
     ]
    },
    {
     "name": "stderr",
     "output_type": "stream",
     "text": [
      "\n",
      "Processing TCGA-ER-A2NF-01Z-00-DX2.01ACC455-4161-4EF1-8478-3C4DF709F6D6_10_regio"
     ]
    },
    {
     "name": "stdout",
     "output_type": "stream",
     "text": [
      "Processing region: TCGA-ER-A2NF-01Z-00-DX2.01ACC455-4161-4EF1-8478-3C4DF709F6D6_x73071_y27401\n"
     ]
    },
    {
     "name": "stderr",
     "output_type": "stream",
     "text": [
      "\n",
      "\n",
      "Processing TCGA-ER-A2NF-01Z-00-DX2.01ACC455-4161-4EF1-8478-3C4DF709F6D6_x73071_y\n",
      "\n",
      "Processing TCGA-ER-A2NF-01Z-00-DX2.01ACC455-4161-4EF1-8478-3C4DF709F6D6_x73071_y\n"
     ]
    },
    {
     "name": "stdout",
     "output_type": "stream",
     "text": [
      "2025-09-08 14:51:55,096 [INFO] - Initializing Cell-Postprocessor\n",
      "2025-09-08 14:51:55,103 [INFO] - Finding edge-cells for merging\n",
      "2025-09-08 14:51:55,120 [INFO] - Removal of cells detected multiple times\n",
      "2025-09-08 14:51:55,136 [INFO] - Iteration 0: Found overlap of # cells: 0\n",
      "2025-09-08 14:51:55,137 [INFO] - Found all overlapping cells\n"
     ]
    },
    {
     "name": "stderr",
     "output_type": "stream",
     "text": [
      "\n",
      "Processing TCGA-ER-A2NF-01Z-00-DX2.01ACC455-4161-4EF1-8478-3C4DF709F6D6_10_regio\n",
      "Processing folders: 100%|███████████████████████| 15/15 [16:22<00:00, 65.52s/it]\n"
     ]
    },
    {
     "name": "stdout",
     "output_type": "stream",
     "text": [
      "All regions processed successfully!\n"
     ]
    }
   ],
   "source": [
    "import os\n",
    "import json\n",
    "import glob\n",
    "import torch\n",
    "import cv2\n",
    "import numpy as np\n",
    "from pathlib import Path\n",
    "from tqdm import tqdm\n",
    "from torchvision import transforms\n",
    "from torch.utils.data import Dataset, DataLoader\n",
    "import ujson\n",
    "import ray\n",
    "import math\n",
    "from dataclasses import dataclass\n",
    "from typing import Union\n",
    "\n",
    "# Import your CellViT modules\n",
    "from cellvit.models.cell_segmentation.cellvit_virchow import CellViTVirchow\n",
    "from cellvit.utils.tools import unflatten_dict\n",
    "from cellvit.inference.inference_disk import CellViTInference\n",
    "from cellvit.inference.postprocessing_cupy import (\n",
    "    BatchPoolingActor,\n",
    "    DetectionCellPostProcessorCupy,\n",
    ")\n",
    "from cellvit.config.config import TYPE_NUCLEI_DICT_PANNUKE\n",
    "\n",
    "class region_dataset(Dataset):\n",
    "    def __init__(self, image_path, transform=None, patch_size=256):\n",
    "        img_bgr = cv2.imread(image_path)\n",
    "        img_rgb = cv2.cvtColor(img_bgr, cv2.COLOR_BGR2RGB)\n",
    "        self.img_np = np.array(img_rgb)\n",
    "        self.patch_size = patch_size\n",
    "        self.region_coords = []\n",
    "        self.transform = transform\n",
    "        h, w, _ = self.img_np.shape\n",
    "        \n",
    "        # Calculate number of patches needed\n",
    "        for i in range(0, h, self.patch_size):\n",
    "            for j in range(0, w, self.patch_size):\n",
    "                self.region_coords.append((i, j))\n",
    "\n",
    "    def __len__(self):\n",
    "        return len(self.region_coords)\n",
    "    \n",
    "    def __getitem__(self, idx):\n",
    "        x, y = self.region_coords[idx]\n",
    "        patch = self.img_np[x:min(x + self.patch_size, self.img_np.shape[0]),\n",
    "                            y:min(y + self.patch_size, self.img_np.shape[1])]\n",
    "        \n",
    "        # Pad if necessary\n",
    "        if patch.shape[0] < self.patch_size or patch.shape[1] < self.patch_size:\n",
    "            patch = np.pad(patch, \n",
    "                          ((0, self.patch_size - patch.shape[0]), \n",
    "                           (0, self.patch_size - patch.shape[1]), \n",
    "                           (0, 0)), \n",
    "                          mode='constant')\n",
    "        \n",
    "        if self.transform:\n",
    "            patch = self.transform(patch)\n",
    "        \n",
    "        metadata = {\n",
    "            \"col\": y // self.patch_size,\n",
    "            \"row\": x // self.patch_size,\n",
    "            \"position_x\": x,\n",
    "            \"position_y\": y,\n",
    "            \"patch_size\": self.patch_size\n",
    "        }\n",
    "    \n",
    "        return patch, metadata\n",
    "\n",
    "@dataclass\n",
    "class WSIMetadata:\n",
    "    slide_path: Union[str, Path]\n",
    "    metadata: dict\n",
    "\n",
    "def get_wsi_metadata(image_path, patch_size=256, downsample=1, patch_overlap=0, label_map=None, normalize_stains=False):\n",
    "    # Get image dimensions\n",
    "    img = cv2.imread(image_path)\n",
    "    h, w = img.shape[:2]\n",
    "    \n",
    "    n_cols = math.ceil(w / patch_size)\n",
    "    n_rows = math.ceil(h / patch_size)\n",
    "    \n",
    "    slide_mag = 40  \n",
    "    slide_mpp = 0.25  \n",
    "    resulting_mpp = slide_mpp * downsample\n",
    "\n",
    "    wsi_metadata = {\n",
    "        \"orig_n_tiles_cols\": n_cols,\n",
    "        \"orig_n_tiles_rows\": n_rows,\n",
    "        \"base_magnification\": slide_mag,\n",
    "        \"downsampling\": downsample,\n",
    "        \"label_map\": label_map if label_map is not None else {},\n",
    "        \"patch_overlap\": patch_overlap * 2,\n",
    "        \"patch_size\": patch_size,\n",
    "        \"base_mpp\": slide_mpp,\n",
    "        \"target_patch_mpp\": resulting_mpp,\n",
    "        \"stain_normalization\": normalize_stains,\n",
    "        \"magnification\": slide_mag / (downsample * 1.0),\n",
    "        \"level\": 8,\n",
    "    }\n",
    "\n",
    "    return wsi_metadata\n",
    "\n",
    "def default_collate_fn(batch):\n",
    "    patches = []\n",
    "    metadatas = []\n",
    "    for patch, metadata in batch:\n",
    "        patches.append(patch)\n",
    "        metadatas.append(metadata)\n",
    "    return torch.stack(patches), metadatas\n",
    "\n",
    "def process_single_region(image_path, model, device, run_conf, infer_cell, batch_size=8):  # Reduced further\n",
    "    \"\"\"Process a single region image and save GeoJSON results\"\"\"\n",
    "    \n",
    "    image_path_obj = Path(image_path)\n",
    "    output_dir = image_path_obj.parent\n",
    "    region_name = image_path_obj.stem\n",
    "    \n",
    "    geojson_path = output_dir / f\"{region_name}_cells.geojson\"\n",
    "    # Uncomment to skip existing files\n",
    "    # if geojson_path.exists():\n",
    "    #     print(f\"Skipping {region_name}, GeoJSON already exists\")\n",
    "    #     return\n",
    "    \n",
    "    print(f\"Processing region: {region_name}\")\n",
    "    \n",
    "    # Setup transforms and dataset\n",
    "    transform = transforms.Compose([\n",
    "        transforms.ToTensor(),\n",
    "        transforms.Normalize(\n",
    "            mean=[0.485, 0.456, 0.406],\n",
    "            std=[0.229, 0.224, 0.225]\n",
    "        )\n",
    "    ])\n",
    "\n",
    "    dataset = region_dataset(image_path=image_path, transform=transform, patch_size=256)\n",
    "    dataloader = DataLoader(dataset=dataset, batch_size=batch_size, num_workers=0, \n",
    "                           collate_fn=default_collate_fn, pin_memory=True)\n",
    "\n",
    "    wsi_metadata = get_wsi_metadata(\n",
    "        image_path=image_path,\n",
    "        patch_size=256,\n",
    "        downsample=1,\n",
    "        patch_overlap=0,\n",
    "        label_map={\"tumor\": 1, \"normal\": 0},\n",
    "        normalize_stains=False,\n",
    "    )\n",
    "    wsi = WSIMetadata(\n",
    "        slide_path=image_path,\n",
    "        metadata=wsi_metadata,\n",
    "    )\n",
    "\n",
    "    postprocessor = DetectionCellPostProcessorCupy(\n",
    "        wsi=wsi,\n",
    "        nr_types=run_conf[\"data\"][\"num_nuclei_classes\"],\n",
    "        resolution=0.25,\n",
    "        classifier=None, \n",
    "        binary=False,\n",
    "    )\n",
    "\n",
    "    # Use fewer ray actors to avoid resource contention\n",
    "    ray_actors = min(2, batch_size)  # Reduced from 4-8 to max 2\n",
    "    \n",
    "    try:\n",
    "        # Initialize ray once with appropriate resources\n",
    "        if not ray.is_initialized():\n",
    "            ray.init(num_cpus=ray_actors, num_gpus=0.1, ignore_reinit_error=True)\n",
    "        \n",
    "        batch_pooling_actors = [\n",
    "            BatchPoolingActor.remote(postprocessor, run_conf)\n",
    "            for _ in range(ray_actors)\n",
    "        ]\n",
    "        \n",
    "        call_ids = []\n",
    "        with torch.inference_mode():\n",
    "            for batch_num, (patches, metadata) in enumerate(tqdm(dataloader, desc=f\"Processing {region_name}\")):\n",
    "                batch_actor = batch_pooling_actors[batch_num % ray_actors]\n",
    "                patches = patches.to(device, non_blocking=True)\n",
    "                \n",
    "                predictions = model(patches, retrieve_tokens=True)\n",
    "                predictions = infer_cell.apply_softmax_reorder(predictions=predictions)\n",
    "                predictions = {k: v.cpu() if isinstance(v, torch.Tensor) else v \n",
    "                              for k, v in predictions.items()}\n",
    "                \n",
    "                call_id = batch_actor.convert_batch_to_graph_nodes.remote(predictions, metadata)\n",
    "                call_ids.append(call_id)\n",
    "\n",
    "            # Process results in smaller chunks to avoid memory issues\n",
    "            inference_results = []\n",
    "            for i in range(0, len(call_ids), 4):  # Process 4 at a time\n",
    "                chunk = call_ids[i:i+4]\n",
    "                inference_results.extend(ray.get(chunk))\n",
    "\n",
    "        # Result processing\n",
    "        cell_dict_wsi = []\n",
    "        cell_dict_detection = []\n",
    "        \n",
    "        label_map = TYPE_NUCLEI_DICT_PANNUKE \n",
    "        label_map = {int(k): v for k, v in label_map.items()}\n",
    "        \n",
    "        graph_data = {\n",
    "            \"cell_tokens\": [],\n",
    "            \"positions\": [],\n",
    "            \"metadata\": {\n",
    "                \"wsi_metadata\": wsi.metadata,\n",
    "                \"nuclei_types\": label_map,\n",
    "            },\n",
    "        }\n",
    "        \n",
    "        for batch_results in inference_results:\n",
    "            (\n",
    "                batch_complete_dict,\n",
    "                batch_detection,\n",
    "                batch_cell_tokens,\n",
    "                batch_cell_positions,\n",
    "            ) = batch_results\n",
    "            \n",
    "            cell_dict_wsi.extend(batch_complete_dict)\n",
    "            cell_dict_detection.extend(batch_detection)\n",
    "            graph_data[\"cell_tokens\"].extend(batch_cell_tokens)\n",
    "            graph_data[\"positions\"].extend(batch_cell_positions)\n",
    "\n",
    "        keep_idx = infer_cell._post_process_edge_cells(cell_list=cell_dict_wsi)\n",
    "        cell_dict_wsi = [cell_dict_wsi[idx_c] for idx_c in keep_idx]\n",
    "        cell_dict_detection = [cell_dict_detection[idx_c] for idx_c in keep_idx]\n",
    "        graph_data[\"cell_tokens\"] = [graph_data[\"cell_tokens\"][idx_c] for idx_c in keep_idx]\n",
    "        graph_data[\"positions\"] = [graph_data[\"positions\"][idx_c] for idx_c in keep_idx]\n",
    "        \n",
    "        final_cell_dict = {\n",
    "            \"wsi_metadata\": wsi.metadata,\n",
    "            \"type_map\": label_map,\n",
    "            \"cells\": cell_dict_wsi,  \n",
    "        }\n",
    "        \n",
    "        # Save results\n",
    "        geojson_list = infer_cell._convert_json_geojson(final_cell_dict[\"cells\"], True)\n",
    "        \n",
    "        with open(geojson_path, \"w\") as outfile:\n",
    "            ujson.dump(geojson_list, outfile)\n",
    "        \n",
    "    except Exception as e:\n",
    "        print(f\"Error processing {region_name}: {str(e)}\")\n",
    "        # Create empty file on error to avoid reprocessing\n",
    "        with open(geojson_path, \"w\") as outfile:\n",
    "            ujson.dump([], outfile)\n",
    "    finally:\n",
    "        # Don't shutdown ray here - let the main function handle it\n",
    "        torch.cuda.empty_cache()\n",
    "\n",
    "def main():\n",
    "    # Load model\n",
    "    model_path = \"/home/shivam/nuc_seg/CellViT-plus-plus-main/checkpoints/CellViT-Virchow-x40-AMP-001.pth\"\n",
    "    model_checkpoint = torch.load(model_path, map_location=\"cpu\")\n",
    "    run_conf = unflatten_dict(model_checkpoint[\"config\"], \".\")\n",
    "    \n",
    "    model = CellViTVirchow(\n",
    "        model_virchow_path=None,\n",
    "        num_nuclei_classes=run_conf[\"data\"][\"num_nuclei_classes\"],\n",
    "        num_tissue_classes=run_conf[\"data\"][\"num_tissue_classes\"]\n",
    "    )\n",
    "    model.load_state_dict(model_checkpoint[\"model_state_dict\"])\n",
    "    \n",
    "    device = torch.device('cuda:2' if torch.cuda.is_available() else 'cpu')\n",
    "    model = model.to(device)\n",
    "    model.eval()\n",
    "    \n",
    "    run_conf[\"model\"][\"token_patch_size\"] = model.patch_size\n",
    "    \n",
    "    infer_cell = CellViTInference(model_path=model_path, gpu=2)\n",
    "    \n",
    "    # Find all region folders\n",
    "    base_directory = \"/home/shivam/nuc_seg/CellViT-plus-plus-main/inference_data\"\n",
    "    region_folders = [f for f in os.listdir(base_directory) \n",
    "                  if os.path.isdir(os.path.join(base_directory,f)) and f.endswith(\"_10_regions\")]\n",
    "    \n",
    "    print(f\"Found {len(region_folders)} region folders\")\n",
    "    \n",
    "    try:\n",
    "        # Process all region images\n",
    "        for folder in tqdm(region_folders, desc=\"Processing folders\"):\n",
    "            folder_path = os.path.join(base_directory, folder)\n",
    "            image_files = glob.glob(os.path.join(folder_path, \"*.png\"))\n",
    "            \n",
    "            print(f\"Processing {len(image_files)} images in {folder}\")\n",
    "            \n",
    "            for image_path in tqdm(image_files, desc=f\"Processing {folder}\"):\n",
    "                process_single_region(\n",
    "                    image_path=image_path,\n",
    "                    model=model,\n",
    "                    device=device,\n",
    "                    run_conf=run_conf,\n",
    "                    infer_cell=infer_cell,\n",
    "                    batch_size=16  # Further reduced batch size\n",
    "                )\n",
    "    \n",
    "    finally:\n",
    "        # Clean up ray at the end\n",
    "        if ray.is_initialized():\n",
    "            ray.shutdown()\n",
    "        torch.cuda.empty_cache()\n",
    "    \n",
    "    print(\"All regions processed successfully!\")\n",
    "\n",
    "if __name__ == \"__main__\":\n",
    "    main()"
   ]
  },
  {
   "cell_type": "code",
   "execution_count": null,
   "id": "febb7f38-2350-46a4-98f4-976f82773bfd",
   "metadata": {},
   "outputs": [],
   "source": []
  }
 ],
 "metadata": {
  "kernelspec": {
   "display_name": "Python 3 (ipykernel)",
   "language": "python",
   "name": "python3"
  },
  "language_info": {
   "codemirror_mode": {
    "name": "ipython",
    "version": 3
   },
   "file_extension": ".py",
   "mimetype": "text/x-python",
   "name": "python",
   "nbconvert_exporter": "python",
   "pygments_lexer": "ipython3",
   "version": "3.10.14"
  }
 },
 "nbformat": 4,
 "nbformat_minor": 5
}
