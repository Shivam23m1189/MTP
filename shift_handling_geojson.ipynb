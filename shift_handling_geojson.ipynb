{
 "cells": [
  {
   "cell_type": "code",
   "execution_count": 43,
   "id": "44ababca-7d53-409d-ae68-5a08c6268c78",
   "metadata": {},
   "outputs": [
    {
     "name": "stdout",
     "output_type": "stream",
     "text": [
      "Minimum X value: -32\n",
      "Minimum X value: -32\n",
      "32 32\n"
     ]
    }
   ],
   "source": [
    "import json\n",
    "import geojson\n",
    "from geojson import Feature, FeatureCollection, MultiPolygon\n",
    "from shapely.geometry import Polygon, MultiPolygon as ShapelyMultiPolygon, shape, mapping\n",
    "from typing import List, Dict, Any\n",
    "import numpy as np\n",
    "\n",
    "geojson_path = \"/home/shivam/Documents/mtp_2/geojson_editing/TCGA-GS-A9TZ-01Z-00-DX1.75FFC0BE-5C16-4AFC-BC7D-42D047636DBC_x19321_y70170_cells.geojson\"\n",
    "\n",
    "with open(geojson_path, 'r') as f:\n",
    "    data = json.load(f)\n",
    "\n",
    "# print(f\"Total features: {len(data)}\")\n",
    "min_x = float('inf')\n",
    "min_y = float('inf')\n",
    "\n",
    "# for feature in data:\n",
    "#     for polygon_set in feature['geometry']['coordinates']:\n",
    "#         for polygon in polygon_set:\n",
    "#             for coord in polygon:\n",
    "#                 min_x = min(min_x, coord[0]) # print(ring)\n",
    "#                 min_y = min(min_y, coord[1])\n",
    "\n",
    "min_x = -32\n",
    "min_y = -32\n",
    "\n",
    "print(f\"Minimum X value: {min_x}\")\n",
    "print(f\"Minimum X value: {min_y}\")\n",
    "\n",
    "x_shift = -min_x if min_x < 0 else 0\n",
    "y_shift = -min_y if min_y < 0 else 0\n",
    "print(x_shift, y_shift)\n",
    "\n",
    "for feature in data:\n",
    "    transformed_coords = []\n",
    "    for polygon_set in feature['geometry']['coordinates']:\n",
    "        transformed_polygons = []\n",
    "        for polygon in polygon_set:\n",
    "            transformed_poly = [[x + x_shift, y + y_shift] for x,y in polygon]\n",
    "            transformed_polygons.append(transformed_poly)\n",
    "        transformed_coords.append(transformed_polygons)\n",
    "    feature['geometry']['coordinates'] = transformed_coords\n",
    "\n",
    "output_path = \"/home/shivam/Documents/mtp_2/geojson_editing/TCGA-GS-A9TZ-01Z-00-DX1.75FFC0BE-5C16-4AFC-BC7D-42D047636DBC_x19321_y70170_cells_FIXED.geojson\"\n",
    "\n",
    "with open(output_path, 'w') as f:\n",
    "    json.dump(data, f, indent=2)\n"
   ]
  },
  {
   "cell_type": "code",
   "execution_count": null,
   "id": "52c70ef8-34a3-4898-9c4b-080d11d3e5cf",
   "metadata": {},
   "outputs": [],
   "source": []
  }
 ],
 "metadata": {
  "kernelspec": {
   "display_name": "Python 3 (ipykernel)",
   "language": "python",
   "name": "python3"
  },
  "language_info": {
   "codemirror_mode": {
    "name": "ipython",
    "version": 3
   },
   "file_extension": ".py",
   "mimetype": "text/x-python",
   "name": "python",
   "nbconvert_exporter": "python",
   "pygments_lexer": "ipython3",
   "version": "3.10.12"
  }
 },
 "nbformat": 4,
 "nbformat_minor": 5
}
